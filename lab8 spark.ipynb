{
 "cells": [
  {
   "cell_type": "markdown",
   "metadata": {
    "application/vnd.databricks.v1+cell": {
     "cellMetadata": {
      "byteLimit": 2048000,
      "rowLimit": 10000
     },
     "inputWidgets": {},
     "nuid": "569bc0c8-3fc0-4d86-b6a6-351c729d93ce",
     "showTitle": false,
     "tableResultSettingsMap": {},
     "title": ""
    }
   },
   "source": [
    "# Análisis de datos con Spark"
   ]
  },
  {
   "cell_type": "code",
   "execution_count": 0,
   "metadata": {
    "application/vnd.databricks.v1+cell": {
     "cellMetadata": {
      "byteLimit": 2048000,
      "rowLimit": 10000
     },
     "inputWidgets": {},
     "nuid": "37d3325a-21f7-4597-bde9-9c7ea8bdea42",
     "showTitle": false,
     "tableResultSettingsMap": {},
     "title": ""
    }
   },
   "outputs": [
    {
     "output_type": "stream",
     "name": "stdout",
     "output_type": "stream",
     "text": [
      "vehiculos_involucrados:  111988\nhechos_transito:  76759\nfallecidos_lesionados:  109417\n+---------+-------+-------+--------+---------+---------+---------+--------+--------+---------+----------+---------+---------+----------+--------+--------+--------------------+--------------------+----+\n|num_hecho|dia_ocu|mes_ocu|hora_ocu|depto_ocu|mupio_ocu|areag_ocu|zona_ocu|tipo_veh|color_veh|modelo_veh|causa_acc|marca_veh|estado_pil|sexo_pil|edad_pil|      archivo_origen|        tipo_dataset| año|\n+---------+-------+-------+--------+---------+---------+---------+--------+--------+---------+----------+---------+---------+----------+--------+--------+--------------------+--------------------+----+\n|      1.0|    1.0|    1.0|     3.0|      1.0|    106.0|      1.0|     6.0|     3.0|     99.0|       6.0|      2.0|     99.0|       2.0|     1.0|    32.0|vehiculos_involuc...|vehiculos_involuc...|2013|\n|      2.0|    1.0|    1.0|     5.0|      1.0|    101.0|      1.0|    11.0|     1.0|      2.0|       5.0|      2.0|      5.0|       2.0|     1.0|    34.0|vehiculos_involuc...|vehiculos_involuc...|2013|\n|      3.0|    1.0|    1.0|     3.0|      1.0|    108.0|      1.0|     3.0|     1.0|      4.0|       6.0|      1.0|     20.0|       2.0|     1.0|    28.0|vehiculos_involuc...|vehiculos_involuc...|2013|\n|      4.0|    1.0|    1.0|     3.0|      1.0|    108.0|      1.0|     3.0|     3.0|      6.0|       4.0|      1.0|     44.0|       1.0|     1.0|    43.0|vehiculos_involuc...|vehiculos_involuc...|2013|\n|      5.0|    1.0|    1.0|     0.0|     19.0|   1901.0|      2.0|    99.0|     4.0|      1.0|       5.0|      2.0|     24.0|       1.0|     1.0|    21.0|vehiculos_involuc...|vehiculos_involuc...|2013|\n+---------+-------+-------+--------+---------+---------+---------+--------+--------+---------+----------+---------+---------+----------+--------+--------+--------------------+--------------------+----+\nonly showing top 5 rows\n\n+---------+-------+-------+-----------+--------+---------+---------+---------+--------+--------+---------+----------+---------+--------+--------+--------------------+---------------+----+\n|num_hecho|dia_ocu|mes_ocu|dia_sem_ocu|hora_ocu|depto_ocu|mupio_ocu|areag_ocu|zona_ocu|tipo_veh|color_veh|modelo_veh|causa_acc|sexo_pil|edad_pil|      archivo_origen|   tipo_dataset| año|\n+---------+-------+-------+-----------+--------+---------+---------+---------+--------+--------+---------+----------+---------+--------+--------+--------------------+---------------+----+\n|      1.0|    1.0|    1.0|        2.0|     3.0|      1.0|    106.0|      1.0|     6.0|     3.0|     99.0|    9999.0|      2.0|     1.0|    32.0|hechos_transito20...|hechos_transito|2013|\n|      2.0|    1.0|    1.0|        2.0|     5.0|      1.0|    101.0|      1.0|    11.0|     1.0|      2.0|    2010.0|      2.0|     1.0|    34.0|hechos_transito20...|hechos_transito|2013|\n|      3.0|    1.0|    1.0|        2.0|     3.0|      1.0|    108.0|      1.0|     3.0|     1.0|      4.0|    9999.0|      1.0|     1.0|    28.0|hechos_transito20...|hechos_transito|2013|\n|      4.0|    1.0|    1.0|        2.0|     0.0|     19.0|   1901.0|      2.0|    99.0|     4.0|      1.0|    2012.0|      2.0|     1.0|    21.0|hechos_transito20...|hechos_transito|2013|\n|      5.0|    1.0|    1.0|        2.0|    18.0|     19.0|   1901.0|      2.0|    99.0|     3.0|      1.0|    9999.0|      3.0|     1.0|    19.0|hechos_transito20...|hechos_transito|2013|\n+---------+-------+-------+-----------+--------+---------+---------+---------+--------+--------+---------+----------+---------+--------+--------+--------------------+---------------+----+\nonly showing top 5 rows\n\n+---------+-------+-------+--------+---------+---------+---------+--------+--------+---------+--------+--------+---------------------+--------+--------------------+--------------------+----+\n|num_hecho|dia_ocu|mes_ocu|hora_ocu|depto_ocu|mupio_ocu|areag_ocu|zona_ocu|tipo_veh|causa_acc|sexo_pil|edad_pil|fallecidos_lesionados|tipo_eve|      archivo_origen|        tipo_dataset| año|\n+---------+-------+-------+--------+---------+---------+---------+--------+--------+---------+--------+--------+---------------------+--------+--------------------+--------------------+----+\n|      1.0|    1.0|    1.0|     5.0|      1.0|    101.0|      1.0|    11.0|     1.0|      2.0|     1.0|    34.0|                  2.0|    NULL|fallecidos_lesion...|fallecidos_lesion...|2013|\n|      2.0|    1.0|    1.0|     5.0|      1.0|    101.0|      1.0|    11.0|     1.0|      2.0|     2.0|    15.0|                  2.0|    NULL|fallecidos_lesion...|fallecidos_lesion...|2013|\n|      3.0|    1.0|    1.0|     5.0|      1.0|    101.0|      1.0|    11.0|     1.0|      2.0|     2.0|    34.0|                  2.0|    NULL|fallecidos_lesion...|fallecidos_lesion...|2013|\n|      4.0|    1.0|    1.0|     0.0|     19.0|   1901.0|      2.0|    99.0|     4.0|      2.0|     1.0|    21.0|                  1.0|    NULL|fallecidos_lesion...|fallecidos_lesion...|2013|\n|      5.0|    1.0|    1.0|     0.0|     19.0|   1901.0|      2.0|    99.0|     4.0|      2.0|     1.0|    22.0|                  2.0|    NULL|fallecidos_lesion...|fallecidos_lesion...|2013|\n+---------+-------+-------+--------+---------+---------+---------+--------+--------+---------+--------+--------+---------------------+--------+--------------------+--------------------+----+\nonly showing top 5 rows\n"
     ]
    }
   ],
   "source": [
    "# aunque en la guía decia cargarlo como volumen, lo cargamos como tablas. Solo de esta manera logramos importar los csv\n",
    "\n",
    "vehiculos_involucrados = spark.table(\"default.vehiculos_involucrados_corregido\")\n",
    "fallecidos_lesionados = spark.table(\"default.fallecidos_lesionados_corregido\")\n",
    "hechos_transito = spark.table(\"default.hechos_transito_corregido\")\n",
    "\n",
    "#1 Mostrar cuantos registros hay en cada uno\n",
    "print(\"vehiculos_involucrados: \", vehiculos_involucrados.count())\n",
    "print(\"hechos_transito: \", hechos_transito.count())\n",
    "print(\"fallecidos_lesionados: \", fallecidos_lesionados.count()) \n",
    "\n",
    "# y usar la funcion .show para ver algunos resultados de cada uno\n",
    "vehiculos_involucrados.show(5)\n",
    "print()\n",
    "hechos_transito.show(5)\n",
    "print()\n",
    "fallecidos_lesionados.show(5)\n"
   ]
  },
  {
   "cell_type": "code",
   "execution_count": 0,
   "metadata": {
    "application/vnd.databricks.v1+cell": {
     "cellMetadata": {
      "byteLimit": 2048000,
      "rowLimit": 10000
     },
     "inputWidgets": {},
     "nuid": "2376b9fc-bba9-4fa2-9593-a3fabfdd5315",
     "showTitle": false,
     "tableResultSettingsMap": {},
     "title": ""
    }
   },
   "outputs": [
    {
     "output_type": "stream",
     "name": "stdout",
     "output_type": "stream",
     "text": [
      "\nVARIABLES PRINCIPALES DE CADA ARCHIVO:\n\nVEHÍCULOS INVOLUCRADOS - Summary:\n+-------+--------+-------+--------+\n|summary|edad_pil|mes_ocu|hora_ocu|\n+-------+--------+-------+--------+\n|  count|  111988| 111988|  111988|\n|    min|     3.0|    1.0|     0.0|\n|    max|   999.0|   12.0|    99.0|\n+-------+--------+-------+--------+\n\n\nHECHOS DE TRÁNSITO - Summary:\n+-------+-------+--------+-------+-----------+\n|summary|mes_ocu|hora_ocu|dia_ocu|dia_sem_ocu|\n+-------+-------+--------+-------+-----------+\n|  count|  76759|   76759|  76759|      76759|\n|    min|    1.0|     0.0|    1.0|        1.0|\n|    max|   12.0|    99.0|   31.0|        7.0|\n+-------+-------+--------+-------+-----------+\n\n\nFALLECIDOS Y LESIONADOS - Summary:\n+-------+--------+-------+--------+--------+\n|summary|edad_pil|mes_ocu|hora_ocu|tipo_eve|\n+-------+--------+-------+--------+--------+\n|  count|  100427| 109417|  109417|  100357|\n|    min|     0.0|    1.0|     0.0|     1.0|\n|    max|   999.0|   12.0|    99.0|    99.0|\n+-------+--------+-------+--------+--------+\n\n"
     ]
    }
   ],
   "source": [
    "# Hacer un summary para las columnas importantes de cada uno\n",
    "# Versión compacta del summary\n",
    "print(\"\\nVARIABLES PRINCIPALES DE CADA ARCHIVO:\")\n",
    "\n",
    "print(\"\\nVEHÍCULOS INVOLUCRADOS - Summary:\")\n",
    "vehiculos_summary = vehiculos_involucrados.select(\n",
    "    \"edad_pil\", \"mes_ocu\", \"hora_ocu\"\n",
    ").summary(\"count\", \"min\", \"max\")\n",
    "vehiculos_summary.show()\n",
    "\n",
    "print(\"\\nHECHOS DE TRÁNSITO - Summary:\")\n",
    "hechos_summary = hechos_transito.select(\n",
    "    \"mes_ocu\", \"hora_ocu\", \"dia_ocu\", \"dia_sem_ocu\" \n",
    ").summary(\"count\", \"min\", \"max\")\n",
    "hechos_summary.show()\n",
    "\n",
    "print(\"\\nFALLECIDOS Y LESIONADOS - Summary:\")\n",
    "fallecidos_summary = fallecidos_lesionados.select(\n",
    "    \"edad_pil\", \"mes_ocu\", \"hora_ocu\", \"tipo_eve\"\n",
    ").summary(\"count\", \"min\", \"max\")\n",
    "fallecidos_summary.show()"
   ]
  },
  {
   "cell_type": "markdown",
   "metadata": {
    "application/vnd.databricks.v1+cell": {
     "cellMetadata": {
      "byteLimit": 2048000,
      "rowLimit": 10000
     },
     "inputWidgets": {},
     "nuid": "29b88f03-6783-4f5c-b379-f56be7eb4b3d",
     "showTitle": false,
     "tableResultSettingsMap": {},
     "title": ""
    }
   },
   "source": [
    "Podemos ver que si se han cargado los datos de manera exitosa usando spark desde databricks, tuvimos que cargar los csv como tablas, pero aparte de eso no hemos hecho mayores cambios. Primero podemos ver algunas estadísticas usando summary donde podemos ver cosas como hora de ocurrencia, mes de ocurrencia entre otros. Algo interesante a mencionar con estos resultados, es que se puede ver que hay valores muy altos para la edad de los pilotos. Esto no necesariamente es un error del script, de hecho de acuerdo con el libro de variables que se puede encontrar en la página del INE, esto hace sentido. Las personas que ingresan los datos tienden a colocar valores muy altos en casillas numéricas cuando estas son desconocidas. Se puede ver en un caso que el maximo es 999, lo cuál es un claro indicio de que así se marcan valores numéricos desconocidos. Esto será importante tenerlo en cuenta en siguientes pasos. Similar a como funciona summary, es posible usar describe para estadísticas numéricas más completas sin necesidad de especificarlas."
   ]
  },
  {
   "cell_type": "code",
   "execution_count": 0,
   "metadata": {
    "application/vnd.databricks.v1+cell": {
     "cellMetadata": {
      "byteLimit": 2048000,
      "rowLimit": 10000
     },
     "inputWidgets": {},
     "nuid": "475736fd-d025-40ca-b30d-08f4b99af751",
     "showTitle": false,
     "tableResultSettingsMap": {},
     "title": ""
    }
   },
   "outputs": [
    {
     "output_type": "stream",
     "name": "stdout",
     "output_type": "stream",
     "text": [
      "\nVEHÍCULOS - Describe:\nNuméricas:\n+-------+------------------+-----------------+------------------+\n|summary|          edad_pil|          mes_ocu|          hora_ocu|\n+-------+------------------+-----------------+------------------+\n|  count|            111988|           111988|            111988|\n|   mean| 256.2040040004286|6.597055041611601|13.702557416866092|\n| stddev|407.41133258885975| 3.51955144121383| 7.020649994962808|\n|    min|               3.0|              1.0|               0.0|\n|    max|             999.0|             12.0|              99.0|\n+-------+------------------+-----------------+------------------+\n\n\nCategóricas:\n+-------+------------------+------------------+------------------+\n|summary|           mes_ocu|          hora_ocu|           dia_ocu|\n+-------+------------------+------------------+------------------+\n|  count|             76759|             76759|             76759|\n|   mean|6.5776781875740955|13.719928607720266|15.616123190765904|\n| stddev| 3.526892648333277|  7.02499791502455| 8.820751547287438|\n|    min|               1.0|               0.0|               1.0|\n|    max|              12.0|              99.0|              31.0|\n+-------+------------------+------------------+------------------+\n\nNuméricas:\n+-------+------------------+-----------------+-----------------+\n|summary|          edad_pil|          mes_ocu|         hora_ocu|\n+-------+------------------+-----------------+-----------------+\n|  count|            100427|           109417|           109417|\n|   mean|103.70335666703177|6.528647285156786|13.57677508979409|\n| stddev|255.63537805795087| 3.52859206647649|6.774605081330536|\n|    min|               0.0|              1.0|              0.0|\n|    max|             999.0|             12.0|             99.0|\n+-------+------------------+-----------------+-----------------+\n\n"
     ]
    }
   ],
   "source": [
    "print(\"\\nVEHÍCULOS - Describe:\")\n",
    "print(\"Numéricas:\")\n",
    "vehiculos_involucrados.select(\"edad_pil\", \"mes_ocu\", \"hora_ocu\").describe().show()\n",
    "print(\"\\nCategóricas:\")\n",
    "hechos_transito.select(\"mes_ocu\", \"hora_ocu\", \"dia_ocu\").describe().show()\n",
    "print(\"Numéricas:\")\n",
    "fallecidos_lesionados.select(\"edad_pil\", \"mes_ocu\", \"hora_ocu\").describe().show()\n"
   ]
  },
  {
   "cell_type": "code",
   "execution_count": 0,
   "metadata": {
    "application/vnd.databricks.v1+cell": {
     "cellMetadata": {
      "byteLimit": 2048000,
      "rowLimit": 10000
     },
     "inputWidgets": {},
     "nuid": "4a90ec55-ae2e-4036-bad1-4b837a962b31",
     "showTitle": false,
     "tableResultSettingsMap": {},
     "title": ""
    }
   },
   "outputs": [
    {
     "output_type": "stream",
     "name": "stdout",
     "output_type": "stream",
     "text": [
      "root\n |-- num_hecho: double (nullable = true)\n |-- dia_ocu: double (nullable = true)\n |-- mes_ocu: double (nullable = true)\n |-- hora_ocu: double (nullable = true)\n |-- depto_ocu: double (nullable = true)\n |-- mupio_ocu: double (nullable = true)\n |-- areag_ocu: double (nullable = true)\n |-- zona_ocu: double (nullable = true)\n |-- tipo_veh: double (nullable = true)\n |-- causa_acc: double (nullable = true)\n |-- sexo_pil: double (nullable = true)\n |-- edad_pil: double (nullable = true)\n |-- fallecidos_lesionados: double (nullable = true)\n |-- tipo_eve: double (nullable = true)\n |-- archivo_origen: string (nullable = true)\n |-- tipo_dataset: string (nullable = true)\n |-- año: long (nullable = true)\n\nroot\n |-- num_hecho: double (nullable = true)\n |-- dia_ocu: double (nullable = true)\n |-- mes_ocu: double (nullable = true)\n |-- dia_sem_ocu: double (nullable = true)\n |-- hora_ocu: double (nullable = true)\n |-- depto_ocu: double (nullable = true)\n |-- mupio_ocu: double (nullable = true)\n |-- areag_ocu: double (nullable = true)\n |-- zona_ocu: double (nullable = true)\n |-- tipo_veh: double (nullable = true)\n |-- color_veh: double (nullable = true)\n |-- modelo_veh: double (nullable = true)\n |-- causa_acc: double (nullable = true)\n |-- sexo_pil: double (nullable = true)\n |-- edad_pil: double (nullable = true)\n |-- archivo_origen: string (nullable = true)\n |-- tipo_dataset: string (nullable = true)\n |-- año: long (nullable = true)\n\nroot\n |-- num_hecho: double (nullable = true)\n |-- dia_ocu: double (nullable = true)\n |-- mes_ocu: double (nullable = true)\n |-- hora_ocu: double (nullable = true)\n |-- depto_ocu: double (nullable = true)\n |-- mupio_ocu: double (nullable = true)\n |-- areag_ocu: double (nullable = true)\n |-- zona_ocu: double (nullable = true)\n |-- tipo_veh: double (nullable = true)\n |-- color_veh: double (nullable = true)\n |-- modelo_veh: double (nullable = true)\n |-- causa_acc: double (nullable = true)\n |-- marca_veh: double (nullable = true)\n |-- estado_pil: double (nullable = true)\n |-- sexo_pil: double (nullable = true)\n |-- edad_pil: double (nullable = true)\n |-- archivo_origen: string (nullable = true)\n |-- tipo_dataset: string (nullable = true)\n |-- año: long (nullable = true)\n\n"
     ]
    }
   ],
   "source": [
    "fallecidos_lesionados.printSchema()\n",
    "hechos_transito.printSchema()\n",
    "vehiculos_involucrados.printSchema()"
   ]
  },
  {
   "cell_type": "markdown",
   "metadata": {
    "application/vnd.databricks.v1+cell": {
     "cellMetadata": {
      "byteLimit": 2048000,
      "rowLimit": 10000
     },
     "inputWidgets": {},
     "nuid": "940e5e8a-bed1-400c-b101-dc43be593e8d",
     "showTitle": false,
     "tableResultSettingsMap": {},
     "title": ""
    }
   },
   "source": [
    "Con estos resultados nuevamente se ve que hay números grandes y la media y desviación estandar muestran que puede que hayan varios valores atípicos dentro del set de datos.Además de tener en cuenta que varios valores son numéricos, debido a que riginalmente eran solo ID's en varios casos."
   ]
  },
  {
   "cell_type": "markdown",
   "metadata": {
    "application/vnd.databricks.v1+cell": {
     "cellMetadata": {
      "byteLimit": 2048000,
      "rowLimit": 10000
     },
     "inputWidgets": {},
     "nuid": "4c507d71-bec0-49c4-b666-52378eed0f54",
     "showTitle": false,
     "tableResultSettingsMap": {},
     "title": ""
    }
   },
   "source": [
    "# Validación de años\n",
    "\n",
    "Tomando en cuenta que todos estos datos provienen de distintos archivos es importante verificar que si tengamos correctamente el rango de los años. En el pre procesamiento de datos si alguno no tenía año se lo hemos colocado dependiendo del archivo de origen, por lo que debería de estar el rango completo."
   ]
  },
  {
   "cell_type": "code",
   "execution_count": 0,
   "metadata": {
    "application/vnd.databricks.v1+cell": {
     "cellMetadata": {
      "byteLimit": 2048000,
      "rowLimit": 10000
     },
     "inputWidgets": {},
     "nuid": "a75278fa-73e3-4ea0-9b9c-685383f66c66",
     "showTitle": false,
     "tableResultSettingsMap": {},
     "title": ""
    }
   },
   "outputs": [
    {
     "output_type": "stream",
     "name": "stdout",
     "output_type": "stream",
     "text": [
      "+----+\n| año|\n+----+\n|2013|\n|2014|\n|2015|\n|2016|\n|2017|\n|2018|\n|2019|\n|2020|\n|2021|\n|2022|\n|2023|\n+----+\n\n+----+\n| año|\n+----+\n|2013|\n|2014|\n|2015|\n|2016|\n|2017|\n|2018|\n|2019|\n|2020|\n|2021|\n|2022|\n|2023|\n+----+\n\n+----+\n| año|\n+----+\n|2013|\n|2014|\n|2015|\n|2016|\n|2017|\n|2018|\n|2019|\n|2020|\n|2021|\n|2022|\n|2023|\n+----+\n\n"
     ]
    }
   ],
   "source": [
    "fallecidos_lesionados.select(\"año\").distinct().show()\n",
    "hechos_transito.select(\"año\").distinct().show()\n",
    "vehiculos_involucrados.select(\"año\").distinct().show()"
   ]
  },
  {
   "cell_type": "markdown",
   "metadata": {
    "application/vnd.databricks.v1+cell": {
     "cellMetadata": {
      "byteLimit": 2048000,
      "rowLimit": 10000
     },
     "inputWidgets": {},
     "nuid": "b38ef934-c3e3-4ce4-a4ac-9debc621fde5",
     "showTitle": false,
     "tableResultSettingsMap": {},
     "title": ""
    }
   },
   "source": [
    "Como se puede ver todos cumplen con el ranfo de 2013 hasta 2023."
   ]
  },
  {
   "cell_type": "code",
   "execution_count": 0,
   "metadata": {
    "application/vnd.databricks.v1+cell": {
     "cellMetadata": {
      "byteLimit": 2048000,
      "rowLimit": 10000
     },
     "inputWidgets": {},
     "nuid": "30a5427e-f105-4329-a8ae-8b4cbbe0714e",
     "showTitle": false,
     "tableResultSettingsMap": {},
     "title": ""
    }
   },
   "outputs": [
    {
     "output_type": "stream",
     "name": "stdout",
     "output_type": "stream",
     "text": [
      "+--------+\n|tipo_eve|\n+--------+\n|     1.0|\n|     3.0|\n|     4.0|\n|     2.0|\n|     5.0|\n|    99.0|\n|     7.0|\n|     8.0|\n|     6.0|\n|    NULL|\n+--------+\n\n+---------+\n|causa_acc|\n+---------+\n|      2.0|\n|      1.0|\n|      3.0|\n|      4.0|\n|     99.0|\n|      5.0|\n|     NULL|\n+---------+\n\n+---------+\n|causa_acc|\n+---------+\n|      2.0|\n|      1.0|\n|      3.0|\n|      4.0|\n|     99.0|\n|     NULL|\n+---------+\n\n"
     ]
    }
   ],
   "source": [
    "# mostrar los distintos tipos de accidentes\n",
    "fallecidos_lesionados.select(\"tipo_eve\").distinct().show()\n",
    "hechos_transito.select(\"causa_acc\").distinct().show()\n",
    "vehiculos_involucrados.select(\"causa_acc\").distinct().show()"
   ]
  },
  {
   "cell_type": "markdown",
   "metadata": {
    "application/vnd.databricks.v1+cell": {
     "cellMetadata": {
      "byteLimit": 2048000,
      "rowLimit": 10000
     },
     "inputWidgets": {},
     "nuid": "376cdafb-e3a0-439d-a4e0-251b60f3d411",
     "showTitle": false,
     "tableResultSettingsMap": {},
     "title": ""
    }
   },
   "source": [
    "Estos valores son números porque seguramente dentro de los respectivos archivos eran ID's. "
   ]
  },
  {
   "cell_type": "code",
   "execution_count": 0,
   "metadata": {
    "application/vnd.databricks.v1+cell": {
     "cellMetadata": {
      "byteLimit": 2048000,
      "rowLimit": 10000
     },
     "inputWidgets": {},
     "nuid": "cd9c1656-827d-40ec-aec7-79c128daefd5",
     "showTitle": false,
     "tableResultSettingsMap": {},
     "title": ""
    }
   },
   "outputs": [],
   "source": [
    "from pyspark.sql.functions import when, col\n",
    "\n",
    "# Enfoque: Crear nuevas columnas y luego eliminar las originales\n",
    "\n",
    "# Para fallecidos_lesionados - tipo_eve\n",
    "fallecidos_lesionados = fallecidos_lesionados.withColumn(\n",
    "    \"tipo_eve_desc\",\n",
    "    when(col(\"tipo_eve\") == 1, \"Colisión\")\n",
    "    .when(col(\"tipo_eve\") == 2, \"Choque\")\n",
    "    .when(col(\"tipo_eve\") == 3, \"Vuelco\")\n",
    "    .when(col(\"tipo_eve\") == 4, \"Caída\")\n",
    "    .when(col(\"tipo_eve\") == 5, \"Atropello\")\n",
    "    .when(col(\"tipo_eve\") == 6, \"Pérdida de control\")\n",
    "    .when(col(\"tipo_eve\") == 7, \"Colisión contra animal\")\n",
    "    .when(col(\"tipo_eve\") == 8, \"Exceso de pasaje\")\n",
    "    .when(col(\"tipo_eve\") == 9, \"Asfalto mojado\")\n",
    "    .when(col(\"tipo_eve\") == 10, \"Exceso de velocidad\")\n",
    "    .when(col(\"tipo_eve\") == 11, \"Desperfectos mecánicos\")\n",
    "    .when(col(\"tipo_eve\") == 12, \"Incendio\")\n",
    "    .when(col(\"tipo_eve\") == 99, \"Ignorado\")\n",
    "    .otherwise(\"Otro\")\n",
    ")\n",
    "\n",
    "# Para hechos_transito - causa_acc\n",
    "hechos_transito = hechos_transito.withColumn(\n",
    "    \"causa_acc_desc\",\n",
    "    when(col(\"causa_acc\") == 1, \"Colisión\")\n",
    "    .when(col(\"causa_acc\") == 2, \"Choque\")\n",
    "    .when(col(\"causa_acc\") == 3, \"Vuelco\")\n",
    "    .when(col(\"causa_acc\") == 4, \"Caída\")\n",
    "    .when(col(\"causa_acc\") == 5, \"Atropello\")\n",
    "    .when(col(\"causa_acc\") == 6, \"Derrape\")\n",
    "    .when(col(\"causa_acc\") == 7, \"Embarranco\")\n",
    "    .when(col(\"causa_acc\") == 8, \"Encuneto\")\n",
    "    .when(col(\"causa_acc\") == 99, \"Ignorado\")\n",
    "    .otherwise(\"Otro\")\n",
    ")\n",
    "\n",
    "# Para vehiculos_involucrados - causa_acc\n",
    "vehiculos_involucrados = vehiculos_involucrados.withColumn(\n",
    "    \"causa_acc_desc\",\n",
    "    when(col(\"causa_acc\") == 1, \"Colisión\")\n",
    "    .when(col(\"causa_acc\") == 2, \"Choque\")\n",
    "    .when(col(\"causa_acc\") == 3, \"Vuelco\")\n",
    "    .when(col(\"causa_acc\") == 4, \"Caída\")\n",
    "    .when(col(\"causa_acc\") == 5, \"Atropello\")\n",
    "    .when(col(\"causa_acc\") == 6, \"Derrape\")\n",
    "    .when(col(\"causa_acc\") == 7, \"Embarranco\")\n",
    "    .when(col(\"causa_acc\") == 8, \"Encuneto\")\n",
    "    .when(col(\"causa_acc\") == 99, \"Ignorado\")\n",
    "    .otherwise(\"Otro\")\n",
    ")\n"
   ]
  },
  {
   "cell_type": "code",
   "execution_count": 0,
   "metadata": {
    "application/vnd.databricks.v1+cell": {
     "cellMetadata": {
      "byteLimit": 2048000,
      "rowLimit": 10000
     },
     "inputWidgets": {},
     "nuid": "ad644e60-f5ed-49a9-ac46-c5455afe4846",
     "showTitle": false,
     "tableResultSettingsMap": {},
     "title": ""
    }
   },
   "outputs": [
    {
     "output_type": "stream",
     "name": "stdout",
     "output_type": "stream",
     "text": [
      "FALLECIDOS_LESIONADOS - Tipos de evento únicos:\n+--------------------+\n|       tipo_eve_desc|\n+--------------------+\n|                Otro|\n|            Colisión|\n|              Vuelco|\n|               Caída|\n|              Choque|\n|           Atropello|\n|            Ignorado|\n|Colisión contra a...|\n|    Exceso de pasaje|\n|  Pérdida de control|\n+--------------------+\n\nHECHOS_TRANSITO - Causas de accidente únicas:\n+--------------+\n|causa_acc_desc|\n+--------------+\n|        Choque|\n|      Colisión|\n|        Vuelco|\n|         Caída|\n|      Ignorado|\n|     Atropello|\n|          Otro|\n+--------------+\n\nVEHICULOS_INVOLUCRADOS - Causas de accidente únicas:\n+--------------+\n|causa_acc_desc|\n+--------------+\n|        Choque|\n|      Colisión|\n|        Vuelco|\n|         Caída|\n|      Ignorado|\n|          Otro|\n+--------------+\n\n"
     ]
    }
   ],
   "source": [
    "print(\"FALLECIDOS_LESIONADOS - Tipos de evento únicos:\")\n",
    "fallecidos_lesionados.select(\"tipo_eve_desc\").distinct().show()\n",
    "\n",
    "print(\"HECHOS_TRANSITO - Causas de accidente únicas:\")\n",
    "hechos_transito.select(\"causa_acc_desc\").distinct().show()\n",
    "\n",
    "print(\"VEHICULOS_INVOLUCRADOS - Causas de accidente únicas:\")\n",
    "vehiculos_involucrados.select(\"causa_acc_desc\").distinct().show()\n"
   ]
  },
  {
   "cell_type": "markdown",
   "metadata": {
    "application/vnd.databricks.v1+cell": {
     "cellMetadata": {
      "byteLimit": 2048000,
      "rowLimit": 10000
     },
     "inputWidgets": {},
     "nuid": "360f2c13-4f0b-45ea-9f5d-e4dc9cfb5ff3",
     "showTitle": false,
     "tableResultSettingsMap": {},
     "title": ""
    }
   },
   "source": [
    "Con esto se puede ver los distintos tipos de eventos y accidentes por cada uno de los sets de datos, colocando una columna nueva con el valor del tipo de accidente. Los valores fueron extaidos directamente del diccionario de varaibles del ultimo año usado, 2023."
   ]
  },
  {
   "cell_type": "markdown",
   "metadata": {
    "application/vnd.databricks.v1+cell": {
     "cellMetadata": {
      "byteLimit": 2048000,
      "rowLimit": 10000
     },
     "inputWidgets": {},
     "nuid": "680cc177-21af-46a1-9429-7a3b75570265",
     "showTitle": false,
     "tableResultSettingsMap": {},
     "title": ""
    }
   },
   "source": [
    "# Departamentos por set de datos"
   ]
  },
  {
   "cell_type": "code",
   "execution_count": 0,
   "metadata": {
    "application/vnd.databricks.v1+cell": {
     "cellMetadata": {
      "byteLimit": 2048000,
      "rowLimit": 10000
     },
     "inputWidgets": {},
     "nuid": "736a737a-c9a5-45ce-bcc6-cb042706cf8d",
     "showTitle": false,
     "tableResultSettingsMap": {},
     "title": ""
    }
   },
   "outputs": [],
   "source": [
    "# Departamentos unicos por set de datos, de igual manera es una columna numerica entonces hay que reemplazarlo por sus valores reales.\n",
    "\n",
    "from pyspark.sql.functions import when, col\n",
    "\n",
    "# Aplicar la transformación para departamentos en los tres datasets\n",
    "\n",
    "# Para fallecidos_lesionados - depto_ocu\n",
    "fallecidos_lesionados = fallecidos_lesionados.withColumn(\n",
    "    \"depto_ocu_desc\",\n",
    "    when(col(\"depto_ocu\") == 1, \"Guatemala\")\n",
    "    .when(col(\"depto_ocu\") == 2, \"El progreso\")\n",
    "    .when(col(\"depto_ocu\") == 3, \"Sacatepéquez\")\n",
    "    .when(col(\"depto_ocu\") == 4, \"Chimaltenango\")\n",
    "    .when(col(\"depto_ocu\") == 5, \"Escuintla\")\n",
    "    .when(col(\"depto_ocu\") == 6, \"Santa rosa\")\n",
    "    .when(col(\"depto_ocu\") == 7, \"Sololá\")\n",
    "    .when(col(\"depto_ocu\") == 8, \"Totonicapán\")\n",
    "    .when(col(\"depto_ocu\") == 9, \"Quetzaltenango\")\n",
    "    .when(col(\"depto_ocu\") == 10, \"Suchitepéquez\")\n",
    "    .when(col(\"depto_ocu\") == 11, \"Retalhuleu\")\n",
    "    .when(col(\"depto_ocu\") == 12, \"San Marcos\")\n",
    "    .when(col(\"depto_ocu\") == 13, \"Huehuetenango\")\n",
    "    .when(col(\"depto_ocu\") == 14, \"Quiche\")\n",
    "    .when(col(\"depto_ocu\") == 15, \"Baja Verapaz\")\n",
    "    .when(col(\"depto_ocu\") == 16, \"Alta Verapaz\")\n",
    "    .when(col(\"depto_ocu\") == 17, \"Peten\")\n",
    "    .when(col(\"depto_ocu\") == 18, \"Izabal\")\n",
    "    .when(col(\"depto_ocu\") == 19, \"Zacapa\")\n",
    "    .when(col(\"depto_ocu\") == 20, \"Chiquimula\")\n",
    "    .when(col(\"depto_ocu\") == 21, \"Jalapa\")\n",
    "    .when(col(\"depto_ocu\") == 22, \"Jutiapa\")\n",
    "    .otherwise(\"Desconocido\")\n",
    ")\n",
    "\n",
    "# Para hechos_transito - depto_ocu\n",
    "hechos_transito = hechos_transito.withColumn(\n",
    "    \"depto_ocu_desc\",\n",
    "    when(col(\"depto_ocu\") == 1, \"Guatemala\")\n",
    "    .when(col(\"depto_ocu\") == 2, \"El progreso\")\n",
    "    .when(col(\"depto_ocu\") == 3, \"Sacatepéquez\")\n",
    "    .when(col(\"depto_ocu\") == 4, \"Chimaltenango\")\n",
    "    .when(col(\"depto_ocu\") == 5, \"Escuintla\")\n",
    "    .when(col(\"depto_ocu\") == 6, \"Santa rosa\")\n",
    "    .when(col(\"depto_ocu\") == 7, \"Sololá\")\n",
    "    .when(col(\"depto_ocu\") == 8, \"Totonicapán\")\n",
    "    .when(col(\"depto_ocu\") == 9, \"Quetzaltenango\")\n",
    "    .when(col(\"depto_ocu\") == 10, \"Suchitepéquez\")\n",
    "    .when(col(\"depto_ocu\") == 11, \"Retalhuleu\")\n",
    "    .when(col(\"depto_ocu\") == 12, \"San Marcos\")\n",
    "    .when(col(\"depto_ocu\") == 13, \"Huehuetenango\")\n",
    "    .when(col(\"depto_ocu\") == 14, \"Quiche\")\n",
    "    .when(col(\"depto_ocu\") == 15, \"Baja Verapaz\")\n",
    "    .when(col(\"depto_ocu\") == 16, \"Alta Verapaz\")\n",
    "    .when(col(\"depto_ocu\") == 17, \"Peten\")\n",
    "    .when(col(\"depto_ocu\") == 18, \"Izabal\")\n",
    "    .when(col(\"depto_ocu\") == 19, \"Zacapa\")\n",
    "    .when(col(\"depto_ocu\") == 20, \"Chiquimula\")\n",
    "    .when(col(\"depto_ocu\") == 21, \"Jalapa\")\n",
    "    .when(col(\"depto_ocu\") == 22, \"Jutiapa\")\n",
    "    .otherwise(\"Desconocido\")\n",
    ")\n",
    "\n",
    "# Para vehiculos_involucrados - depto_ocu\n",
    "vehiculos_involucrados = vehiculos_involucrados.withColumn(\n",
    "    \"depto_ocu_desc\",\n",
    "    when(col(\"depto_ocu\") == 1, \"Guatemala\")\n",
    "    .when(col(\"depto_ocu\") == 2, \"El progreso\")\n",
    "    .when(col(\"depto_ocu\") == 3, \"Sacatepéquez\")\n",
    "    .when(col(\"depto_ocu\") == 4, \"Chimaltenango\")\n",
    "    .when(col(\"depto_ocu\") == 5, \"Escuintla\")\n",
    "    .when(col(\"depto_ocu\") == 6, \"Santa rosa\")\n",
    "    .when(col(\"depto_ocu\") == 7, \"Sololá\")\n",
    "    .when(col(\"depto_ocu\") == 8, \"Totonicapán\")\n",
    "    .when(col(\"depto_ocu\") == 9, \"Quetzaltenango\")\n",
    "    .when(col(\"depto_ocu\") == 10, \"Suchitepéquez\")\n",
    "    .when(col(\"depto_ocu\") == 11, \"Retalhuleu\")\n",
    "    .when(col(\"depto_ocu\") == 12, \"San Marcos\")\n",
    "    .when(col(\"depto_ocu\") == 13, \"Huehuetenango\")\n",
    "    .when(col(\"depto_ocu\") == 14, \"Quiche\")\n",
    "    .when(col(\"depto_ocu\") == 15, \"Baja Verapaz\")\n",
    "    .when(col(\"depto_ocu\") == 16, \"Alta Verapaz\")\n",
    "    .when(col(\"depto_ocu\") == 17, \"Peten\")\n",
    "    .when(col(\"depto_ocu\") == 18, \"Izabal\")\n",
    "    .when(col(\"depto_ocu\") == 19, \"Zacapa\")\n",
    "    .when(col(\"depto_ocu\") == 20, \"Chiquimula\")\n",
    "    .when(col(\"depto_ocu\") == 21, \"Jalapa\")\n",
    "    .when(col(\"depto_ocu\") == 22, \"Jutiapa\")\n",
    "    .otherwise(\"Desconocido\")\n",
    ")\n"
   ]
  },
  {
   "cell_type": "code",
   "execution_count": 0,
   "metadata": {
    "application/vnd.databricks.v1+cell": {
     "cellMetadata": {
      "byteLimit": 2048000,
      "rowLimit": 10000
     },
     "inputWidgets": {},
     "nuid": "6c9cafc9-9c86-4b40-89ab-d8a002e5afaa",
     "showTitle": false,
     "tableResultSettingsMap": {},
     "title": ""
    }
   },
   "outputs": [
    {
     "output_type": "stream",
     "name": "stdout",
     "output_type": "stream",
     "text": [
      "FALLECIDOS_LESIONADOS - Departamento:\n+--------------+\n|depto_ocu_desc|\n+--------------+\n|     Guatemala|\n|        Zacapa|\n|     Escuintla|\n|    San Marcos|\n| Huehuetenango|\n|        Izabal|\n|  Sacatepéquez|\n|  Alta Verapaz|\n|    Santa rosa|\n|Quetzaltenango|\n|   El progreso|\n|        Sololá|\n|    Chiquimula|\n| Suchitepéquez|\n|  Baja Verapaz|\n|   Totonicapán|\n|        Quiche|\n| Chimaltenango|\n|       Jutiapa|\n|         Peten|\n+--------------+\nonly showing top 20 rows\nHECHOS_TRANSITO - Departamento:\n+--------------+\n|depto_ocu_desc|\n+--------------+\n|     Guatemala|\n|        Zacapa|\n|     Escuintla|\n|Quetzaltenango|\n|    San Marcos|\n| Huehuetenango|\n|  Alta Verapaz|\n|        Izabal|\n|  Sacatepéquez|\n|    Santa rosa|\n|   El progreso|\n|        Sololá|\n|    Chiquimula|\n| Suchitepéquez|\n|  Baja Verapaz|\n|    Retalhuleu|\n|   Totonicapán|\n|        Quiche|\n| Chimaltenango|\n|       Jutiapa|\n+--------------+\nonly showing top 20 rows\nVEHICULOS_INVOLUCRADOS - Departamento:\n+--------------+\n|depto_ocu_desc|\n+--------------+\n|     Guatemala|\n|        Zacapa|\n|     Escuintla|\n|Quetzaltenango|\n|    San Marcos|\n| Huehuetenango|\n|  Alta Verapaz|\n|        Izabal|\n|  Sacatepéquez|\n|    Santa rosa|\n|   El progreso|\n|        Sololá|\n|    Chiquimula|\n| Suchitepéquez|\n|  Baja Verapaz|\n|    Retalhuleu|\n|   Totonicapán|\n|        Quiche|\n| Chimaltenango|\n|       Jutiapa|\n+--------------+\nonly showing top 20 rows\nFALLECIDOS_LESIONADOS - Departamento:\n22\nHECHOS_TRANSITO - Departamento:\n22\nVEHICULOS_INVOLUCRADOS - Departamento:\n22\n"
     ]
    }
   ],
   "source": [
    "# ver lo nuevo\n",
    "print(\"FALLECIDOS_LESIONADOS - Departamento:\")\n",
    "fallecidos_lesionados.select(\"depto_ocu_desc\").distinct().show()\n",
    "print(\"HECHOS_TRANSITO - Departamento:\")\n",
    "hechos_transito.select(\"depto_ocu_desc\").distinct().show()\n",
    "print(\"VEHICULOS_INVOLUCRADOS - Departamento:\")\n",
    "vehiculos_involucrados.select(\"depto_ocu_desc\").distinct().show()\n",
    "\n",
    "# mostrar el largo de las columnas depto_ocu_desc\n",
    "print(\"FALLECIDOS_LESIONADOS - Departamento:\")\n",
    "print(fallecidos_lesionados.select(\"depto_ocu_desc\").distinct().count())\n",
    "\n",
    "print(\"HECHOS_TRANSITO - Departamento:\")\n",
    "print(hechos_transito.select(\"depto_ocu_desc\").distinct().count())\n",
    "\n",
    "print(\"VEHICULOS_INVOLUCRADOS - Departamento:\")\n",
    "print(vehiculos_involucrados.select(\"depto_ocu_desc\").distinct().count())"
   ]
  },
  {
   "cell_type": "markdown",
   "metadata": {
    "application/vnd.databricks.v1+cell": {
     "cellMetadata": {
      "byteLimit": 2048000,
      "rowLimit": 10000
     },
     "inputWidgets": {},
     "nuid": "ea5fac3e-6cf2-4fd6-bdb0-fe251c8c728f",
     "showTitle": false,
     "tableResultSettingsMap": {},
     "title": ""
    }
   },
   "source": [
    "Podemos ver que todos los departamentos tienen al menos un evento, accidente o similar rpeortado en cada uno de las tablas. Y hemos hechp una columna depto_occu_desc para poder tener el valor de string y non solo el ID."
   ]
  },
  {
   "cell_type": "code",
   "execution_count": 0,
   "metadata": {
    "application/vnd.databricks.v1+cell": {
     "cellMetadata": {
      "byteLimit": 2048000,
      "rowLimit": 10000
     },
     "inputWidgets": {},
     "nuid": "d8d4936e-2429-438d-aae7-bf2299637d65",
     "showTitle": false,
     "tableResultSettingsMap": {},
     "title": ""
    }
   },
   "outputs": [
    {
     "output_type": "stream",
     "name": "stdout",
     "output_type": "stream",
     "text": [
      "Número de accidentes por año y departamento - FALLECIDOS_LESIONADOS\n"
     ]
    },
    {
     "output_type": "display_data",
     "data": {
      "text/html": [
       "<style scoped>\n",
       "  .table-result-container {\n",
       "    max-height: 300px;\n",
       "    overflow: auto;\n",
       "  }\n",
       "  table, th, td {\n",
       "    border: 1px solid black;\n",
       "    border-collapse: collapse;\n",
       "  }\n",
       "  th, td {\n",
       "    padding: 5px;\n",
       "  }\n",
       "  th {\n",
       "    text-align: left;\n",
       "  }\n",
       "</style><div class='table-result-container'><table class='table-result'><thead style='background-color: white'><tr><th>año</th><th>depto_ocu_desc</th><th>count</th></tr></thead><tbody><tr><td>2013</td><td>Alta Verapaz</td><td>317</td></tr><tr><td>2013</td><td>Baja Verapaz</td><td>191</td></tr><tr><td>2013</td><td>Chimaltenango</td><td>401</td></tr><tr><td>2013</td><td>Chiquimula</td><td>271</td></tr><tr><td>2013</td><td>El progreso</td><td>200</td></tr><tr><td>2013</td><td>Escuintla</td><td>675</td></tr><tr><td>2013</td><td>Guatemala</td><td>2648</td></tr><tr><td>2013</td><td>Huehuetenango</td><td>256</td></tr><tr><td>2013</td><td>Izabal</td><td>310</td></tr><tr><td>2013</td><td>Jalapa</td><td>138</td></tr><tr><td>2013</td><td>Jutiapa</td><td>284</td></tr><tr><td>2013</td><td>Peten</td><td>308</td></tr><tr><td>2013</td><td>Quetzaltenango</td><td>505</td></tr><tr><td>2013</td><td>Quiche</td><td>321</td></tr><tr><td>2013</td><td>Retalhuleu</td><td>208</td></tr><tr><td>2013</td><td>Sacatepéquez</td><td>272</td></tr><tr><td>2013</td><td>San Marcos</td><td>409</td></tr><tr><td>2013</td><td>Santa rosa</td><td>320</td></tr><tr><td>2013</td><td>Sololá</td><td>193</td></tr><tr><td>2013</td><td>Suchitepéquez</td><td>410</td></tr><tr><td>2013</td><td>Totonicapán</td><td>109</td></tr><tr><td>2013</td><td>Zacapa</td><td>314</td></tr><tr><td>2014</td><td>Alta Verapaz</td><td>428</td></tr><tr><td>2014</td><td>Baja Verapaz</td><td>158</td></tr><tr><td>2014</td><td>Chimaltenango</td><td>392</td></tr><tr><td>2014</td><td>Chiquimula</td><td>205</td></tr><tr><td>2014</td><td>El progreso</td><td>220</td></tr><tr><td>2014</td><td>Escuintla</td><td>741</td></tr><tr><td>2014</td><td>Guatemala</td><td>2503</td></tr><tr><td>2014</td><td>Huehuetenango</td><td>280</td></tr><tr><td>2014</td><td>Izabal</td><td>376</td></tr><tr><td>2014</td><td>Jalapa</td><td>105</td></tr><tr><td>2014</td><td>Jutiapa</td><td>288</td></tr><tr><td>2014</td><td>Peten</td><td>348</td></tr><tr><td>2014</td><td>Quetzaltenango</td><td>350</td></tr><tr><td>2014</td><td>Quiche</td><td>363</td></tr><tr><td>2014</td><td>Retalhuleu</td><td>227</td></tr><tr><td>2014</td><td>Sacatepéquez</td><td>282</td></tr><tr><td>2014</td><td>San Marcos</td><td>266</td></tr><tr><td>2014</td><td>Santa rosa</td><td>413</td></tr><tr><td>2014</td><td>Sololá</td><td>268</td></tr><tr><td>2014</td><td>Suchitepéquez</td><td>332</td></tr><tr><td>2014</td><td>Totonicapán</td><td>147</td></tr><tr><td>2014</td><td>Zacapa</td><td>298</td></tr><tr><td>2015</td><td>Alta Verapaz</td><td>607</td></tr><tr><td>2015</td><td>Baja Verapaz</td><td>213</td></tr><tr><td>2015</td><td>Chimaltenango</td><td>480</td></tr><tr><td>2015</td><td>Chiquimula</td><td>284</td></tr><tr><td>2015</td><td>El progreso</td><td>255</td></tr><tr><td>2015</td><td>Escuintla</td><td>803</td></tr><tr><td>2015</td><td>Guatemala</td><td>2947</td></tr><tr><td>2015</td><td>Huehuetenango</td><td>261</td></tr><tr><td>2015</td><td>Izabal</td><td>425</td></tr><tr><td>2015</td><td>Jalapa</td><td>221</td></tr><tr><td>2015</td><td>Jutiapa</td><td>333</td></tr><tr><td>2015</td><td>Peten</td><td>456</td></tr><tr><td>2015</td><td>Quetzaltenango</td><td>401</td></tr><tr><td>2015</td><td>Quiche</td><td>361</td></tr><tr><td>2015</td><td>Retalhuleu</td><td>312</td></tr><tr><td>2015</td><td>Sacatepéquez</td><td>296</td></tr><tr><td>2015</td><td>San Marcos</td><td>298</td></tr><tr><td>2015</td><td>Santa rosa</td><td>381</td></tr><tr><td>2015</td><td>Sololá</td><td>207</td></tr><tr><td>2015</td><td>Suchitepéquez</td><td>339</td></tr><tr><td>2015</td><td>Totonicapán</td><td>137</td></tr><tr><td>2015</td><td>Zacapa</td><td>380</td></tr><tr><td>2016</td><td>Alta Verapaz</td><td>646</td></tr><tr><td>2016</td><td>Baja Verapaz</td><td>271</td></tr><tr><td>2016</td><td>Chimaltenango</td><td>590</td></tr><tr><td>2016</td><td>Chiquimula</td><td>283</td></tr><tr><td>2016</td><td>El progreso</td><td>318</td></tr><tr><td>2016</td><td>Escuintla</td><td>958</td></tr><tr><td>2016</td><td>Guatemala</td><td>3255</td></tr><tr><td>2016</td><td>Huehuetenango</td><td>363</td></tr><tr><td>2016</td><td>Izabal</td><td>489</td></tr><tr><td>2016</td><td>Jalapa</td><td>157</td></tr><tr><td>2016</td><td>Jutiapa</td><td>278</td></tr><tr><td>2016</td><td>Peten</td><td>411</td></tr><tr><td>2016</td><td>Quetzaltenango</td><td>438</td></tr><tr><td>2016</td><td>Quiche</td><td>330</td></tr><tr><td>2016</td><td>Retalhuleu</td><td>327</td></tr><tr><td>2016</td><td>Sacatepéquez</td><td>468</td></tr><tr><td>2016</td><td>San Marcos</td><td>275</td></tr><tr><td>2016</td><td>Santa rosa</td><td>441</td></tr><tr><td>2016</td><td>Sololá</td><td>398</td></tr><tr><td>2016</td><td>Suchitepéquez</td><td>441</td></tr><tr><td>2016</td><td>Totonicapán</td><td>110</td></tr><tr><td>2016</td><td>Zacapa</td><td>421</td></tr><tr><td>2017</td><td>Alta Verapaz</td><td>411</td></tr><tr><td>2017</td><td>Baja Verapaz</td><td>161</td></tr><tr><td>2017</td><td>Chimaltenango</td><td>368</td></tr><tr><td>2017</td><td>Chiquimula</td><td>162</td></tr><tr><td>2017</td><td>El progreso</td><td>251</td></tr><tr><td>2017</td><td>Escuintla</td><td>758</td></tr><tr><td>2017</td><td>Guatemala</td><td>2711</td></tr><tr><td>2017</td><td>Huehuetenango</td><td>297</td></tr><tr><td>2017</td><td>Izabal</td><td>282</td></tr><tr><td>2017</td><td>Jalapa</td><td>137</td></tr><tr><td>2017</td><td>Jutiapa</td><td>303</td></tr><tr><td>2017</td><td>Peten</td><td>331</td></tr><tr><td>2017</td><td>Quetzaltenango</td><td>220</td></tr><tr><td>2017</td><td>Quiche</td><td>283</td></tr><tr><td>2017</td><td>Retalhuleu</td><td>197</td></tr><tr><td>2017</td><td>Sacatepéquez</td><td>331</td></tr><tr><td>2017</td><td>San Marcos</td><td>184</td></tr><tr><td>2017</td><td>Santa rosa</td><td>420</td></tr><tr><td>2017</td><td>Sololá</td><td>186</td></tr><tr><td>2017</td><td>Suchitepéquez</td><td>329</td></tr><tr><td>2017</td><td>Totonicapán</td><td>66</td></tr><tr><td>2017</td><td>Zacapa</td><td>237</td></tr><tr><td>2018</td><td>Alta Verapaz</td><td>567</td></tr><tr><td>2018</td><td>Baja Verapaz</td><td>217</td></tr><tr><td>2018</td><td>Chimaltenango</td><td>363</td></tr><tr><td>2018</td><td>Chiquimula</td><td>257</td></tr><tr><td>2018</td><td>El progreso</td><td>275</td></tr><tr><td>2018</td><td>Escuintla</td><td>679</td></tr><tr><td>2018</td><td>Guatemala</td><td>3459</td></tr><tr><td>2018</td><td>Huehuetenango</td><td>210</td></tr><tr><td>2018</td><td>Izabal</td><td>353</td></tr><tr><td>2018</td><td>Jalapa</td><td>120</td></tr><tr><td>2018</td><td>Jutiapa</td><td>246</td></tr><tr><td>2018</td><td>Peten</td><td>251</td></tr><tr><td>2018</td><td>Quetzaltenango</td><td>230</td></tr><tr><td>2018</td><td>Quiche</td><td>222</td></tr><tr><td>2018</td><td>Retalhuleu</td><td>229</td></tr><tr><td>2018</td><td>Sacatepéquez</td><td>296</td></tr><tr><td>2018</td><td>San Marcos</td><td>269</td></tr><tr><td>2018</td><td>Santa rosa</td><td>290</td></tr><tr><td>2018</td><td>Sololá</td><td>166</td></tr><tr><td>2018</td><td>Suchitepéquez</td><td>329</td></tr><tr><td>2018</td><td>Totonicapán</td><td>77</td></tr><tr><td>2018</td><td>Zacapa</td><td>302</td></tr><tr><td>2019</td><td>Alta Verapaz</td><td>583</td></tr><tr><td>2019</td><td>Baja Verapaz</td><td>244</td></tr><tr><td>2019</td><td>Chimaltenango</td><td>400</td></tr><tr><td>2019</td><td>Chiquimula</td><td>262</td></tr><tr><td>2019</td><td>El progreso</td><td>298</td></tr><tr><td>2019</td><td>Escuintla</td><td>838</td></tr><tr><td>2019</td><td>Guatemala</td><td>3805</td></tr><tr><td>2019</td><td>Huehuetenango</td><td>165</td></tr><tr><td>2019</td><td>Izabal</td><td>358</td></tr><tr><td>2019</td><td>Jalapa</td><td>125</td></tr><tr><td>2019</td><td>Jutiapa</td><td>365</td></tr><tr><td>2019</td><td>Peten</td><td>367</td></tr><tr><td>2019</td><td>Quetzaltenango</td><td>340</td></tr><tr><td>2019</td><td>Quiche</td><td>180</td></tr><tr><td>2019</td><td>Retalhuleu</td><td>308</td></tr><tr><td>2019</td><td>Sacatepéquez</td><td>394</td></tr><tr><td>2019</td><td>San Marcos</td><td>222</td></tr><tr><td>2019</td><td>Santa rosa</td><td>349</td></tr><tr><td>2019</td><td>Sololá</td><td>286</td></tr><tr><td>2019</td><td>Suchitepéquez</td><td>385</td></tr><tr><td>2019</td><td>Totonicapán</td><td>120</td></tr><tr><td>2019</td><td>Zacapa</td><td>270</td></tr><tr><td>2020</td><td>Alta Verapaz</td><td>400</td></tr><tr><td>2020</td><td>Baja Verapaz</td><td>165</td></tr><tr><td>2020</td><td>Chimaltenango</td><td>316</td></tr><tr><td>2020</td><td>Chiquimula</td><td>205</td></tr><tr><td>2020</td><td>El progreso</td><td>198</td></tr><tr><td>2020</td><td>Escuintla</td><td>659</td></tr><tr><td>2020</td><td>Guatemala</td><td>3025</td></tr><tr><td>2020</td><td>Huehuetenango</td><td>173</td></tr><tr><td>2020</td><td>Izabal</td><td>294</td></tr><tr><td>2020</td><td>Jalapa</td><td>162</td></tr><tr><td>2020</td><td>Jutiapa</td><td>224</td></tr><tr><td>2020</td><td>Peten</td><td>293</td></tr><tr><td>2020</td><td>Quetzaltenango</td><td>240</td></tr><tr><td>2020</td><td>Quiche</td><td>172</td></tr><tr><td>2020</td><td>Retalhuleu</td><td>255</td></tr><tr><td>2020</td><td>Sacatepéquez</td><td>262</td></tr><tr><td>2020</td><td>San Marcos</td><td>188</td></tr><tr><td>2020</td><td>Santa rosa</td><td>283</td></tr><tr><td>2020</td><td>Sololá</td><td>101</td></tr><tr><td>2020</td><td>Suchitepéquez</td><td>256</td></tr><tr><td>2020</td><td>Totonicapán</td><td>74</td></tr><tr><td>2020</td><td>Zacapa</td><td>197</td></tr><tr><td>2021</td><td>Alta Verapaz</td><td>607</td></tr><tr><td>2021</td><td>Baja Verapaz</td><td>183</td></tr><tr><td>2021</td><td>Chimaltenango</td><td>372</td></tr><tr><td>2021</td><td>Chiquimula</td><td>261</td></tr><tr><td>2021</td><td>El progreso</td><td>253</td></tr><tr><td>2021</td><td>Escuintla</td><td>896</td></tr><tr><td>2021</td><td>Guatemala</td><td>3982</td></tr><tr><td>2021</td><td>Huehuetenango</td><td>196</td></tr><tr><td>2021</td><td>Izabal</td><td>332</td></tr><tr><td>2021</td><td>Jalapa</td><td>209</td></tr><tr><td>2021</td><td>Jutiapa</td><td>326</td></tr><tr><td>2021</td><td>Peten</td><td>368</td></tr><tr><td>2021</td><td>Quetzaltenango</td><td>296</td></tr><tr><td>2021</td><td>Quiche</td><td>302</td></tr><tr><td>2021</td><td>Retalhuleu</td><td>284</td></tr><tr><td>2021</td><td>Sacatepéquez</td><td>336</td></tr><tr><td>2021</td><td>San Marcos</td><td>217</td></tr><tr><td>2021</td><td>Santa rosa</td><td>333</td></tr><tr><td>2021</td><td>Sololá</td><td>177</td></tr><tr><td>2021</td><td>Suchitepéquez</td><td>293</td></tr><tr><td>2021</td><td>Totonicapán</td><td>79</td></tr><tr><td>2021</td><td>Zacapa</td><td>242</td></tr><tr><td>2022</td><td>Alta Verapaz</td><td>518</td></tr><tr><td>2022</td><td>Baja Verapaz</td><td>250</td></tr><tr><td>2022</td><td>Chimaltenango</td><td>403</td></tr><tr><td>2022</td><td>Chiquimula</td><td>236</td></tr><tr><td>2022</td><td>El progreso</td><td>265</td></tr><tr><td>2022</td><td>Escuintla</td><td>1041</td></tr><tr><td>2022</td><td>Guatemala</td><td>3947</td></tr><tr><td>2022</td><td>Huehuetenango</td><td>205</td></tr><tr><td>2022</td><td>Izabal</td><td>327</td></tr><tr><td>2022</td><td>Jalapa</td><td>205</td></tr><tr><td>2022</td><td>Jutiapa</td><td>357</td></tr><tr><td>2022</td><td>Peten</td><td>331</td></tr><tr><td>2022</td><td>Quetzaltenango</td><td>364</td></tr><tr><td>2022</td><td>Quiche</td><td>275</td></tr><tr><td>2022</td><td>Retalhuleu</td><td>285</td></tr><tr><td>2022</td><td>Sacatepéquez</td><td>466</td></tr><tr><td>2022</td><td>San Marcos</td><td>197</td></tr><tr><td>2022</td><td>Santa rosa</td><td>380</td></tr><tr><td>2022</td><td>Sololá</td><td>93</td></tr><tr><td>2022</td><td>Suchitepéquez</td><td>265</td></tr><tr><td>2022</td><td>Totonicapán</td><td>113</td></tr><tr><td>2022</td><td>Zacapa</td><td>199</td></tr><tr><td>2023</td><td>Alta Verapaz</td><td>468</td></tr><tr><td>2023</td><td>Baja Verapaz</td><td>218</td></tr><tr><td>2023</td><td>Chimaltenango</td><td>372</td></tr><tr><td>2023</td><td>Chiquimula</td><td>179</td></tr><tr><td>2023</td><td>El progreso</td><td>276</td></tr><tr><td>2023</td><td>Escuintla</td><td>1322</td></tr><tr><td>2023</td><td>Guatemala</td><td>4074</td></tr><tr><td>2023</td><td>Huehuetenango</td><td>193</td></tr><tr><td>2023</td><td>Izabal</td><td>347</td></tr><tr><td>2023</td><td>Jalapa</td><td>180</td></tr><tr><td>2023</td><td>Jutiapa</td><td>347</td></tr><tr><td>2023</td><td>Peten</td><td>384</td></tr><tr><td>2023</td><td>Quetzaltenango</td><td>392</td></tr><tr><td>2023</td><td>Quiche</td><td>250</td></tr><tr><td>2023</td><td>Retalhuleu</td><td>289</td></tr><tr><td>2023</td><td>Sacatepéquez</td><td>468</td></tr><tr><td>2023</td><td>San Marcos</td><td>287</td></tr><tr><td>2023</td><td>Santa rosa</td><td>442</td></tr><tr><td>2023</td><td>Sololá</td><td>139</td></tr><tr><td>2023</td><td>Suchitepéquez</td><td>287</td></tr><tr><td>2023</td><td>Totonicapán</td><td>107</td></tr><tr><td>2023</td><td>Zacapa</td><td>177</td></tr></tbody></table></div>"
      ]
     },
     "metadata": {
      "application/vnd.databricks.v1+output": {
       "addedWidgets": {},
       "aggData": [],
       "aggError": "",
       "aggOverflow": false,
       "aggSchema": [],
       "aggSeriesLimitReached": false,
       "aggType": "",
       "arguments": {},
       "columnCustomDisplayInfos": {},
       "data": [
        [
         2013,
         "Alta Verapaz",
         317
        ],
        [
         2013,
         "Baja Verapaz",
         191
        ],
        [
         2013,
         "Chimaltenango",
         401
        ],
        [
         2013,
         "Chiquimula",
         271
        ],
        [
         2013,
         "El progreso",
         200
        ],
        [
         2013,
         "Escuintla",
         675
        ],
        [
         2013,
         "Guatemala",
         2648
        ],
        [
         2013,
         "Huehuetenango",
         256
        ],
        [
         2013,
         "Izabal",
         310
        ],
        [
         2013,
         "Jalapa",
         138
        ],
        [
         2013,
         "Jutiapa",
         284
        ],
        [
         2013,
         "Peten",
         308
        ],
        [
         2013,
         "Quetzaltenango",
         505
        ],
        [
         2013,
         "Quiche",
         321
        ],
        [
         2013,
         "Retalhuleu",
         208
        ],
        [
         2013,
         "Sacatepéquez",
         272
        ],
        [
         2013,
         "San Marcos",
         409
        ],
        [
         2013,
         "Santa rosa",
         320
        ],
        [
         2013,
         "Sololá",
         193
        ],
        [
         2013,
         "Suchitepéquez",
         410
        ],
        [
         2013,
         "Totonicapán",
         109
        ],
        [
         2013,
         "Zacapa",
         314
        ],
        [
         2014,
         "Alta Verapaz",
         428
        ],
        [
         2014,
         "Baja Verapaz",
         158
        ],
        [
         2014,
         "Chimaltenango",
         392
        ],
        [
         2014,
         "Chiquimula",
         205
        ],
        [
         2014,
         "El progreso",
         220
        ],
        [
         2014,
         "Escuintla",
         741
        ],
        [
         2014,
         "Guatemala",
         2503
        ],
        [
         2014,
         "Huehuetenango",
         280
        ],
        [
         2014,
         "Izabal",
         376
        ],
        [
         2014,
         "Jalapa",
         105
        ],
        [
         2014,
         "Jutiapa",
         288
        ],
        [
         2014,
         "Peten",
         348
        ],
        [
         2014,
         "Quetzaltenango",
         350
        ],
        [
         2014,
         "Quiche",
         363
        ],
        [
         2014,
         "Retalhuleu",
         227
        ],
        [
         2014,
         "Sacatepéquez",
         282
        ],
        [
         2014,
         "San Marcos",
         266
        ],
        [
         2014,
         "Santa rosa",
         413
        ],
        [
         2014,
         "Sololá",
         268
        ],
        [
         2014,
         "Suchitepéquez",
         332
        ],
        [
         2014,
         "Totonicapán",
         147
        ],
        [
         2014,
         "Zacapa",
         298
        ],
        [
         2015,
         "Alta Verapaz",
         607
        ],
        [
         2015,
         "Baja Verapaz",
         213
        ],
        [
         2015,
         "Chimaltenango",
         480
        ],
        [
         2015,
         "Chiquimula",
         284
        ],
        [
         2015,
         "El progreso",
         255
        ],
        [
         2015,
         "Escuintla",
         803
        ],
        [
         2015,
         "Guatemala",
         2947
        ],
        [
         2015,
         "Huehuetenango",
         261
        ],
        [
         2015,
         "Izabal",
         425
        ],
        [
         2015,
         "Jalapa",
         221
        ],
        [
         2015,
         "Jutiapa",
         333
        ],
        [
         2015,
         "Peten",
         456
        ],
        [
         2015,
         "Quetzaltenango",
         401
        ],
        [
         2015,
         "Quiche",
         361
        ],
        [
         2015,
         "Retalhuleu",
         312
        ],
        [
         2015,
         "Sacatepéquez",
         296
        ],
        [
         2015,
         "San Marcos",
         298
        ],
        [
         2015,
         "Santa rosa",
         381
        ],
        [
         2015,
         "Sololá",
         207
        ],
        [
         2015,
         "Suchitepéquez",
         339
        ],
        [
         2015,
         "Totonicapán",
         137
        ],
        [
         2015,
         "Zacapa",
         380
        ],
        [
         2016,
         "Alta Verapaz",
         646
        ],
        [
         2016,
         "Baja Verapaz",
         271
        ],
        [
         2016,
         "Chimaltenango",
         590
        ],
        [
         2016,
         "Chiquimula",
         283
        ],
        [
         2016,
         "El progreso",
         318
        ],
        [
         2016,
         "Escuintla",
         958
        ],
        [
         2016,
         "Guatemala",
         3255
        ],
        [
         2016,
         "Huehuetenango",
         363
        ],
        [
         2016,
         "Izabal",
         489
        ],
        [
         2016,
         "Jalapa",
         157
        ],
        [
         2016,
         "Jutiapa",
         278
        ],
        [
         2016,
         "Peten",
         411
        ],
        [
         2016,
         "Quetzaltenango",
         438
        ],
        [
         2016,
         "Quiche",
         330
        ],
        [
         2016,
         "Retalhuleu",
         327
        ],
        [
         2016,
         "Sacatepéquez",
         468
        ],
        [
         2016,
         "San Marcos",
         275
        ],
        [
         2016,
         "Santa rosa",
         441
        ],
        [
         2016,
         "Sololá",
         398
        ],
        [
         2016,
         "Suchitepéquez",
         441
        ],
        [
         2016,
         "Totonicapán",
         110
        ],
        [
         2016,
         "Zacapa",
         421
        ],
        [
         2017,
         "Alta Verapaz",
         411
        ],
        [
         2017,
         "Baja Verapaz",
         161
        ],
        [
         2017,
         "Chimaltenango",
         368
        ],
        [
         2017,
         "Chiquimula",
         162
        ],
        [
         2017,
         "El progreso",
         251
        ],
        [
         2017,
         "Escuintla",
         758
        ],
        [
         2017,
         "Guatemala",
         2711
        ],
        [
         2017,
         "Huehuetenango",
         297
        ],
        [
         2017,
         "Izabal",
         282
        ],
        [
         2017,
         "Jalapa",
         137
        ],
        [
         2017,
         "Jutiapa",
         303
        ],
        [
         2017,
         "Peten",
         331
        ],
        [
         2017,
         "Quetzaltenango",
         220
        ],
        [
         2017,
         "Quiche",
         283
        ],
        [
         2017,
         "Retalhuleu",
         197
        ],
        [
         2017,
         "Sacatepéquez",
         331
        ],
        [
         2017,
         "San Marcos",
         184
        ],
        [
         2017,
         "Santa rosa",
         420
        ],
        [
         2017,
         "Sololá",
         186
        ],
        [
         2017,
         "Suchitepéquez",
         329
        ],
        [
         2017,
         "Totonicapán",
         66
        ],
        [
         2017,
         "Zacapa",
         237
        ],
        [
         2018,
         "Alta Verapaz",
         567
        ],
        [
         2018,
         "Baja Verapaz",
         217
        ],
        [
         2018,
         "Chimaltenango",
         363
        ],
        [
         2018,
         "Chiquimula",
         257
        ],
        [
         2018,
         "El progreso",
         275
        ],
        [
         2018,
         "Escuintla",
         679
        ],
        [
         2018,
         "Guatemala",
         3459
        ],
        [
         2018,
         "Huehuetenango",
         210
        ],
        [
         2018,
         "Izabal",
         353
        ],
        [
         2018,
         "Jalapa",
         120
        ],
        [
         2018,
         "Jutiapa",
         246
        ],
        [
         2018,
         "Peten",
         251
        ],
        [
         2018,
         "Quetzaltenango",
         230
        ],
        [
         2018,
         "Quiche",
         222
        ],
        [
         2018,
         "Retalhuleu",
         229
        ],
        [
         2018,
         "Sacatepéquez",
         296
        ],
        [
         2018,
         "San Marcos",
         269
        ],
        [
         2018,
         "Santa rosa",
         290
        ],
        [
         2018,
         "Sololá",
         166
        ],
        [
         2018,
         "Suchitepéquez",
         329
        ],
        [
         2018,
         "Totonicapán",
         77
        ],
        [
         2018,
         "Zacapa",
         302
        ],
        [
         2019,
         "Alta Verapaz",
         583
        ],
        [
         2019,
         "Baja Verapaz",
         244
        ],
        [
         2019,
         "Chimaltenango",
         400
        ],
        [
         2019,
         "Chiquimula",
         262
        ],
        [
         2019,
         "El progreso",
         298
        ],
        [
         2019,
         "Escuintla",
         838
        ],
        [
         2019,
         "Guatemala",
         3805
        ],
        [
         2019,
         "Huehuetenango",
         165
        ],
        [
         2019,
         "Izabal",
         358
        ],
        [
         2019,
         "Jalapa",
         125
        ],
        [
         2019,
         "Jutiapa",
         365
        ],
        [
         2019,
         "Peten",
         367
        ],
        [
         2019,
         "Quetzaltenango",
         340
        ],
        [
         2019,
         "Quiche",
         180
        ],
        [
         2019,
         "Retalhuleu",
         308
        ],
        [
         2019,
         "Sacatepéquez",
         394
        ],
        [
         2019,
         "San Marcos",
         222
        ],
        [
         2019,
         "Santa rosa",
         349
        ],
        [
         2019,
         "Sololá",
         286
        ],
        [
         2019,
         "Suchitepéquez",
         385
        ],
        [
         2019,
         "Totonicapán",
         120
        ],
        [
         2019,
         "Zacapa",
         270
        ],
        [
         2020,
         "Alta Verapaz",
         400
        ],
        [
         2020,
         "Baja Verapaz",
         165
        ],
        [
         2020,
         "Chimaltenango",
         316
        ],
        [
         2020,
         "Chiquimula",
         205
        ],
        [
         2020,
         "El progreso",
         198
        ],
        [
         2020,
         "Escuintla",
         659
        ],
        [
         2020,
         "Guatemala",
         3025
        ],
        [
         2020,
         "Huehuetenango",
         173
        ],
        [
         2020,
         "Izabal",
         294
        ],
        [
         2020,
         "Jalapa",
         162
        ],
        [
         2020,
         "Jutiapa",
         224
        ],
        [
         2020,
         "Peten",
         293
        ],
        [
         2020,
         "Quetzaltenango",
         240
        ],
        [
         2020,
         "Quiche",
         172
        ],
        [
         2020,
         "Retalhuleu",
         255
        ],
        [
         2020,
         "Sacatepéquez",
         262
        ],
        [
         2020,
         "San Marcos",
         188
        ],
        [
         2020,
         "Santa rosa",
         283
        ],
        [
         2020,
         "Sololá",
         101
        ],
        [
         2020,
         "Suchitepéquez",
         256
        ],
        [
         2020,
         "Totonicapán",
         74
        ],
        [
         2020,
         "Zacapa",
         197
        ],
        [
         2021,
         "Alta Verapaz",
         607
        ],
        [
         2021,
         "Baja Verapaz",
         183
        ],
        [
         2021,
         "Chimaltenango",
         372
        ],
        [
         2021,
         "Chiquimula",
         261
        ],
        [
         2021,
         "El progreso",
         253
        ],
        [
         2021,
         "Escuintla",
         896
        ],
        [
         2021,
         "Guatemala",
         3982
        ],
        [
         2021,
         "Huehuetenango",
         196
        ],
        [
         2021,
         "Izabal",
         332
        ],
        [
         2021,
         "Jalapa",
         209
        ],
        [
         2021,
         "Jutiapa",
         326
        ],
        [
         2021,
         "Peten",
         368
        ],
        [
         2021,
         "Quetzaltenango",
         296
        ],
        [
         2021,
         "Quiche",
         302
        ],
        [
         2021,
         "Retalhuleu",
         284
        ],
        [
         2021,
         "Sacatepéquez",
         336
        ],
        [
         2021,
         "San Marcos",
         217
        ],
        [
         2021,
         "Santa rosa",
         333
        ],
        [
         2021,
         "Sololá",
         177
        ],
        [
         2021,
         "Suchitepéquez",
         293
        ],
        [
         2021,
         "Totonicapán",
         79
        ],
        [
         2021,
         "Zacapa",
         242
        ],
        [
         2022,
         "Alta Verapaz",
         518
        ],
        [
         2022,
         "Baja Verapaz",
         250
        ],
        [
         2022,
         "Chimaltenango",
         403
        ],
        [
         2022,
         "Chiquimula",
         236
        ],
        [
         2022,
         "El progreso",
         265
        ],
        [
         2022,
         "Escuintla",
         1041
        ],
        [
         2022,
         "Guatemala",
         3947
        ],
        [
         2022,
         "Huehuetenango",
         205
        ],
        [
         2022,
         "Izabal",
         327
        ],
        [
         2022,
         "Jalapa",
         205
        ],
        [
         2022,
         "Jutiapa",
         357
        ],
        [
         2022,
         "Peten",
         331
        ],
        [
         2022,
         "Quetzaltenango",
         364
        ],
        [
         2022,
         "Quiche",
         275
        ],
        [
         2022,
         "Retalhuleu",
         285
        ],
        [
         2022,
         "Sacatepéquez",
         466
        ],
        [
         2022,
         "San Marcos",
         197
        ],
        [
         2022,
         "Santa rosa",
         380
        ],
        [
         2022,
         "Sololá",
         93
        ],
        [
         2022,
         "Suchitepéquez",
         265
        ],
        [
         2022,
         "Totonicapán",
         113
        ],
        [
         2022,
         "Zacapa",
         199
        ],
        [
         2023,
         "Alta Verapaz",
         468
        ],
        [
         2023,
         "Baja Verapaz",
         218
        ],
        [
         2023,
         "Chimaltenango",
         372
        ],
        [
         2023,
         "Chiquimula",
         179
        ],
        [
         2023,
         "El progreso",
         276
        ],
        [
         2023,
         "Escuintla",
         1322
        ],
        [
         2023,
         "Guatemala",
         4074
        ],
        [
         2023,
         "Huehuetenango",
         193
        ],
        [
         2023,
         "Izabal",
         347
        ],
        [
         2023,
         "Jalapa",
         180
        ],
        [
         2023,
         "Jutiapa",
         347
        ],
        [
         2023,
         "Peten",
         384
        ],
        [
         2023,
         "Quetzaltenango",
         392
        ],
        [
         2023,
         "Quiche",
         250
        ],
        [
         2023,
         "Retalhuleu",
         289
        ],
        [
         2023,
         "Sacatepéquez",
         468
        ],
        [
         2023,
         "San Marcos",
         287
        ],
        [
         2023,
         "Santa rosa",
         442
        ],
        [
         2023,
         "Sololá",
         139
        ],
        [
         2023,
         "Suchitepéquez",
         287
        ],
        [
         2023,
         "Totonicapán",
         107
        ],
        [
         2023,
         "Zacapa",
         177
        ]
       ],
       "datasetInfos": [],
       "dbfsResultPath": null,
       "isJsonSchema": true,
       "metadata": {},
       "overflow": false,
       "plotOptions": {
        "customPlotOptions": {},
        "displayType": "table",
        "pivotAggregation": null,
        "pivotColumns": null,
        "xColumns": null,
        "yColumns": null
       },
       "removedWidgets": [],
       "schema": [
        {
         "metadata": "{}",
         "name": "año",
         "type": "\"long\""
        },
        {
         "metadata": "{}",
         "name": "depto_ocu_desc",
         "type": "\"string\""
        },
        {
         "metadata": "{}",
         "name": "count",
         "type": "\"long\""
        }
       ],
       "type": "table"
      }
     },
     "output_type": "display_data"
    },
    {
     "output_type": "display_data",
     "data": {
      "text/plain": [
       "Databricks visualization. Run in Databricks to view."
      ]
     },
     "metadata": {
      "application/vnd.databricks.v1.subcommand+json": {
       "baseErrorDetails": null,
       "bindings": {},
       "collapsed": false,
       "command": "%python\n__backend_agg_display_orig = display\n__backend_agg_dfs = []\ndef __backend_agg_display_new(df):\n    __backend_agg_df_modules = [\"pandas.core.frame\", \"databricks.koalas.frame\", \"pyspark.sql.dataframe\", \"pyspark.pandas.frame\", \"pyspark.sql.connect.dataframe\"]\n    if (type(df).__module__ in __backend_agg_df_modules and type(df).__name__ == 'DataFrame') or isinstance(df, list):\n        __backend_agg_dfs.append(df)\n\ndisplay = __backend_agg_display_new\n\ndef __backend_agg_user_code_fn():\n    import base64\n    exec(base64.standard_b64decode(\"ZnJvbSBweXNwYXJrLnNxbCBpbXBvcnQgZnVuY3Rpb25zIGFzIEYKCnByaW50KCJOw7ptZXJvIGRlIGFjY2lkZW50ZXMgcG9yIGHDsW8geSBkZXBhcnRhbWVudG8gLSBGQUxMRUNJRE9TX0xFU0lPTkFET1MiKQpkZl9mYWxsZWNpZG9zX2FncnVwYWRvID0gZmFsbGVjaWRvc19sZXNpb25hZG9zLmdyb3VwQnkoImHDsW8iLCAiZGVwdG9fb2N1X2Rlc2MiKS5jb3VudCgpLm9yZGVyQnkoImHDsW8iLCAiZGVwdG9fb2N1X2Rlc2MiKQpkaXNwbGF5KGRmX2ZhbGxlY2lkb3NfYWdydXBhZG8pCgpwcmludCgiTsO6bWVybyBkZSBhY2NpZGVudGVzIHBvciBhw7FvIHkgZGVwYXJ0YW1lbnRvIC0gSEVDSE9TX1RSQU5TSVRPIikKZGZfaGVjaG9zX2FncnVwYWRvID0gaGVjaG9zX3RyYW5zaXRvLmdyb3VwQnkoImHDsW8iLCAiZGVwdG9fb2N1X2Rlc2MiKS5jb3VudCgpLm9yZGVyQnkoImHDsW8iLCAiZGVwdG9fb2N1X2Rlc2MiKQpkaXNwbGF5KGRmX2hlY2hvc19hZ3J1cGFkbykKCnByaW50KCJOw7ptZXJvIGRlIGFjY2lkZW50ZXMgcG9yIGHDsW8geSBkZXBhcnRhbWVudG8gLSBWRUhJQ1VMT1NfSU5WT0xVQ1JBRE9TIikKZGZfdmVoaWN1bG9zX2FncnVwYWRvID0gdmVoaWN1bG9zX2ludm9sdWNyYWRvcy5ncm91cEJ5KCJhw7FvIiwgImRlcHRvX29jdV9kZXNjIikuY291bnQoKS5vcmRlckJ5KCJhw7FvIiwgImRlcHRvX29jdV9kZXNjIikKZGlzcGxheShkZl92ZWhpY3Vsb3NfYWdydXBhZG8p\").decode())\n\ntry:\n    # run user code\n    __backend_agg_user_code_fn()\n\n    #reset display function\n    display = __backend_agg_display_orig\n\n    if len(__backend_agg_dfs) > 0:\n        # create a temp view\n        if type(__backend_agg_dfs[0]).__module__ == \"databricks.koalas.frame\":\n            # koalas dataframe\n            __backend_agg_dfs[0].to_spark().createOrReplaceTempView(\"DatabricksViewee29d6d\")\n        elif type(__backend_agg_dfs[0]).__module__ == \"pandas.core.frame\" or isinstance(__backend_agg_dfs[0], list):\n            # pandas dataframe\n            spark.createDataFrame(__backend_agg_dfs[0]).createOrReplaceTempView(\"DatabricksViewee29d6d\")\n        else:\n            __backend_agg_dfs[0].createOrReplaceTempView(\"DatabricksViewee29d6d\")\n        #run backend agg\n        display(spark.sql(\"\"\"WITH q AS (select * from DatabricksViewee29d6d) SELECT `depto_ocu_desc`,SUM(`count`) `column_8335706e96`,`año` FROM q GROUP BY `año`,`depto_ocu_desc`\"\"\"))\n    else:\n        displayHTML(\"dataframe no longer exists. If you're using dataframe.display(), use display(dataframe) instead.\")\n\n\nfinally:\n    spark.sql(\"drop view if exists DatabricksViewee29d6d\")\n    display = __backend_agg_display_orig\n    del __backend_agg_display_new\n    del __backend_agg_display_orig\n    del __backend_agg_dfs\n    del __backend_agg_user_code_fn\n\n",
       "commandTitle": "Visualization 1",
       "commandType": "auto",
       "commandVersion": 0,
       "commentThread": [],
       "commentsVisible": false,
       "contentSha256Hex": null,
       "customPlotOptions": {
        "redashChart": [
         {
          "key": "type",
          "value": "CHART"
         },
         {
          "key": "options",
          "value": {
           "alignYAxesAtZero": true,
           "coefficient": 1,
           "columnConfigurationMap": {
            "series": {
             "column": "año",
             "id": "column_8335706e102"
            },
            "x": {
             "column": "depto_ocu_desc",
             "id": "column_8335706e92"
            },
            "y": [
             {
              "column": "count",
              "id": "column_8335706e96",
              "transform": "SUM"
             }
            ]
           },
           "dateTimeFormat": "DD/MM/YYYY HH:mm",
           "direction": {
            "type": "counterclockwise"
           },
           "error_y": {
            "type": "data",
            "visible": true
           },
           "globalSeriesType": "column",
           "isAggregationOn": true,
           "legend": {
            "traceorder": "normal"
           },
           "missingValuesAsZero": true,
           "numberFormat": "0,0.[00000]",
           "percentFormat": "0[.]00%",
           "series": {
            "error_y": {
             "type": "data",
             "visible": true
            },
            "stacking": ""
           },
           "seriesOptions": {
            "column_8335706e88": {
             "name": "count",
             "type": "column",
             "yAxis": 0
            },
            "column_8335706e96": {
             "type": "column",
             "yAxis": 0
            },
            "column_8335706e99": {
             "type": "column",
             "yAxis": 0
            }
           },
           "showDataLabels": false,
           "sizemode": "diameter",
           "sortX": true,
           "sortY": true,
           "swappedAxes": false,
           "textFormat": "",
           "useAggregationsUi": true,
           "valuesOptions": {},
           "version": 2,
           "xAxis": {
            "labels": {
             "enabled": true
            },
            "type": "-"
           },
           "yAxis": [
            {
             "type": "-"
            },
            {
             "opposite": true,
             "type": "-"
            }
           ]
          }
         }
        ]
       },
       "datasetPreviewNameToCmdIdMap": {},
       "diffDeletes": [],
       "diffInserts": [],
       "displayType": "redashChart",
       "error": null,
       "errorDetails": null,
       "errorSummary": null,
       "errorTraceType": null,
       "finishTime": 0,
       "globalVars": {},
       "guid": "",
       "height": "auto",
       "hideCommandCode": false,
       "hideCommandResult": false,
       "iPythonMetadata": null,
       "inputWidgets": {},
       "isLockedInExamMode": false,
       "latestAssumeRoleInfo": null,
       "latestUser": "a user",
       "latestUserId": null,
       "listResultMetadata": null,
       "metadata": {
        "byteLimit": 2048000,
        "rowLimit": 10000
       },
       "nuid": "9ce8c6a2-6341-47ab-a689-80cf2eb3f875",
       "origId": 0,
       "parentHierarchy": [],
       "pivotAggregation": null,
       "pivotColumns": null,
       "position": 11.0,
       "resultDbfsErrorMessage": null,
       "resultDbfsStatus": "INLINED_IN_TREE",
       "results": null,
       "showCommandTitle": false,
       "startTime": 0,
       "state": "finished",
       "streamStates": {},
       "subcommandOptions": {
        "queryPlan": {
         "groups": [
          {
           "column": "depto_ocu_desc",
           "type": "column"
          },
          {
           "column": "año",
           "type": "column"
          }
         ],
         "selects": [
          {
           "column": "depto_ocu_desc",
           "type": "column"
          },
          {
           "alias": "column_8335706e96",
           "args": [
            {
             "column": "count",
             "type": "column"
            }
           ],
           "function": "SUM",
           "type": "function"
          },
          {
           "column": "año",
           "type": "column"
          }
         ]
        }
       },
       "submitTime": 0,
       "subtype": "tableResultSubCmd.visualization",
       "tableResultIndex": 0,
       "tableResultSettingsMap": {},
       "useConsistentColors": false,
       "version": "CommandV1",
       "width": "auto",
       "workflows": [],
       "xColumns": null,
       "yColumns": null
      }
     },
     "output_type": "display_data"
    },
    {
     "output_type": "stream",
     "name": "stdout",
     "output_type": "stream",
     "text": [
      "Número de accidentes por año y departamento - HECHOS_TRANSITO\n"
     ]
    },
    {
     "output_type": "display_data",
     "data": {
      "text/html": [
       "<style scoped>\n",
       "  .table-result-container {\n",
       "    max-height: 300px;\n",
       "    overflow: auto;\n",
       "  }\n",
       "  table, th, td {\n",
       "    border: 1px solid black;\n",
       "    border-collapse: collapse;\n",
       "  }\n",
       "  th, td {\n",
       "    padding: 5px;\n",
       "  }\n",
       "  th {\n",
       "    text-align: left;\n",
       "  }\n",
       "</style><div class='table-result-container'><table class='table-result'><thead style='background-color: white'><tr><th>año</th><th>depto_ocu_desc</th><th>count</th></tr></thead><tbody><tr><td>2013</td><td>Alta Verapaz</td><td>219</td></tr><tr><td>2013</td><td>Baja Verapaz</td><td>100</td></tr><tr><td>2013</td><td>Chimaltenango</td><td>212</td></tr><tr><td>2013</td><td>Chiquimula</td><td>204</td></tr><tr><td>2013</td><td>El progreso</td><td>132</td></tr><tr><td>2013</td><td>Escuintla</td><td>424</td></tr><tr><td>2013</td><td>Guatemala</td><td>2267</td></tr><tr><td>2013</td><td>Huehuetenango</td><td>201</td></tr><tr><td>2013</td><td>Izabal</td><td>234</td></tr><tr><td>2013</td><td>Jalapa</td><td>89</td></tr><tr><td>2013</td><td>Jutiapa</td><td>174</td></tr><tr><td>2013</td><td>Peten</td><td>214</td></tr><tr><td>2013</td><td>Quetzaltenango</td><td>288</td></tr><tr><td>2013</td><td>Quiche</td><td>151</td></tr><tr><td>2013</td><td>Retalhuleu</td><td>133</td></tr><tr><td>2013</td><td>Sacatepéquez</td><td>142</td></tr><tr><td>2013</td><td>San Marcos</td><td>221</td></tr><tr><td>2013</td><td>Santa rosa</td><td>214</td></tr><tr><td>2013</td><td>Sololá</td><td>126</td></tr><tr><td>2013</td><td>Suchitepéquez</td><td>269</td></tr><tr><td>2013</td><td>Totonicapán</td><td>81</td></tr><tr><td>2013</td><td>Zacapa</td><td>229</td></tr><tr><td>2014</td><td>Alta Verapaz</td><td>223</td></tr><tr><td>2014</td><td>Baja Verapaz</td><td>95</td></tr><tr><td>2014</td><td>Chimaltenango</td><td>228</td></tr><tr><td>2014</td><td>Chiquimula</td><td>126</td></tr><tr><td>2014</td><td>El progreso</td><td>127</td></tr><tr><td>2014</td><td>Escuintla</td><td>444</td></tr><tr><td>2014</td><td>Guatemala</td><td>1912</td></tr><tr><td>2014</td><td>Huehuetenango</td><td>136</td></tr><tr><td>2014</td><td>Izabal</td><td>255</td></tr><tr><td>2014</td><td>Jalapa</td><td>75</td></tr><tr><td>2014</td><td>Jutiapa</td><td>172</td></tr><tr><td>2014</td><td>Peten</td><td>219</td></tr><tr><td>2014</td><td>Quetzaltenango</td><td>255</td></tr><tr><td>2014</td><td>Quiche</td><td>144</td></tr><tr><td>2014</td><td>Retalhuleu</td><td>132</td></tr><tr><td>2014</td><td>Sacatepéquez</td><td>150</td></tr><tr><td>2014</td><td>San Marcos</td><td>154</td></tr><tr><td>2014</td><td>Santa rosa</td><td>242</td></tr><tr><td>2014</td><td>Sololá</td><td>109</td></tr><tr><td>2014</td><td>Suchitepéquez</td><td>223</td></tr><tr><td>2014</td><td>Totonicapán</td><td>82</td></tr><tr><td>2014</td><td>Zacapa</td><td>148</td></tr><tr><td>2015</td><td>Alta Verapaz</td><td>315</td></tr><tr><td>2015</td><td>Baja Verapaz</td><td>112</td></tr><tr><td>2015</td><td>Chimaltenango</td><td>263</td></tr><tr><td>2015</td><td>Chiquimula</td><td>172</td></tr><tr><td>2015</td><td>El progreso</td><td>160</td></tr><tr><td>2015</td><td>Escuintla</td><td>569</td></tr><tr><td>2015</td><td>Guatemala</td><td>2273</td></tr><tr><td>2015</td><td>Huehuetenango</td><td>173</td></tr><tr><td>2015</td><td>Izabal</td><td>285</td></tr><tr><td>2015</td><td>Jalapa</td><td>96</td></tr><tr><td>2015</td><td>Jutiapa</td><td>182</td></tr><tr><td>2015</td><td>Peten</td><td>288</td></tr><tr><td>2015</td><td>Quetzaltenango</td><td>316</td></tr><tr><td>2015</td><td>Quiche</td><td>157</td></tr><tr><td>2015</td><td>Retalhuleu</td><td>181</td></tr><tr><td>2015</td><td>Sacatepéquez</td><td>209</td></tr><tr><td>2015</td><td>San Marcos</td><td>177</td></tr><tr><td>2015</td><td>Santa rosa</td><td>254</td></tr><tr><td>2015</td><td>Sololá</td><td>152</td></tr><tr><td>2015</td><td>Suchitepéquez</td><td>243</td></tr><tr><td>2015</td><td>Totonicapán</td><td>69</td></tr><tr><td>2015</td><td>Zacapa</td><td>208</td></tr><tr><td>2016</td><td>Alta Verapaz</td><td>353</td></tr><tr><td>2016</td><td>Baja Verapaz</td><td>149</td></tr><tr><td>2016</td><td>Chimaltenango</td><td>420</td></tr><tr><td>2016</td><td>Chiquimula</td><td>181</td></tr><tr><td>2016</td><td>El progreso</td><td>201</td></tr><tr><td>2016</td><td>Escuintla</td><td>627</td></tr><tr><td>2016</td><td>Guatemala</td><td>2619</td></tr><tr><td>2016</td><td>Huehuetenango</td><td>225</td></tr><tr><td>2016</td><td>Izabal</td><td>286</td></tr><tr><td>2016</td><td>Jalapa</td><td>98</td></tr><tr><td>2016</td><td>Jutiapa</td><td>180</td></tr><tr><td>2016</td><td>Peten</td><td>267</td></tr><tr><td>2016</td><td>Quetzaltenango</td><td>323</td></tr><tr><td>2016</td><td>Quiche</td><td>195</td></tr><tr><td>2016</td><td>Retalhuleu</td><td>262</td></tr><tr><td>2016</td><td>Sacatepéquez</td><td>287</td></tr><tr><td>2016</td><td>San Marcos</td><td>198</td></tr><tr><td>2016</td><td>Santa rosa</td><td>261</td></tr><tr><td>2016</td><td>Sololá</td><td>182</td></tr><tr><td>2016</td><td>Suchitepéquez</td><td>259</td></tr><tr><td>2016</td><td>Totonicapán</td><td>76</td></tr><tr><td>2016</td><td>Zacapa</td><td>315</td></tr><tr><td>2017</td><td>Alta Verapaz</td><td>247</td></tr><tr><td>2017</td><td>Baja Verapaz</td><td>111</td></tr><tr><td>2017</td><td>Chimaltenango</td><td>244</td></tr><tr><td>2017</td><td>Chiquimula</td><td>114</td></tr><tr><td>2017</td><td>El progreso</td><td>139</td></tr><tr><td>2017</td><td>Escuintla</td><td>461</td></tr><tr><td>2017</td><td>Guatemala</td><td>2128</td></tr><tr><td>2017</td><td>Huehuetenango</td><td>140</td></tr><tr><td>2017</td><td>Izabal</td><td>200</td></tr><tr><td>2017</td><td>Jalapa</td><td>92</td></tr><tr><td>2017</td><td>Jutiapa</td><td>177</td></tr><tr><td>2017</td><td>Peten</td><td>194</td></tr><tr><td>2017</td><td>Quetzaltenango</td><td>172</td></tr><tr><td>2017</td><td>Quiche</td><td>145</td></tr><tr><td>2017</td><td>Retalhuleu</td><td>148</td></tr><tr><td>2017</td><td>Sacatepéquez</td><td>213</td></tr><tr><td>2017</td><td>San Marcos</td><td>130</td></tr><tr><td>2017</td><td>Santa rosa</td><td>234</td></tr><tr><td>2017</td><td>Sololá</td><td>124</td></tr><tr><td>2017</td><td>Suchitepéquez</td><td>238</td></tr><tr><td>2017</td><td>Totonicapán</td><td>44</td></tr><tr><td>2017</td><td>Zacapa</td><td>184</td></tr><tr><td>2018</td><td>Alta Verapaz</td><td>265</td></tr><tr><td>2018</td><td>Baja Verapaz</td><td>132</td></tr><tr><td>2018</td><td>Chimaltenango</td><td>238</td></tr><tr><td>2018</td><td>Chiquimula</td><td>193</td></tr><tr><td>2018</td><td>El progreso</td><td>168</td></tr><tr><td>2018</td><td>Escuintla</td><td>407</td></tr><tr><td>2018</td><td>Guatemala</td><td>2722</td></tr><tr><td>2018</td><td>Huehuetenango</td><td>108</td></tr><tr><td>2018</td><td>Izabal</td><td>210</td></tr><tr><td>2018</td><td>Jalapa</td><td>78</td></tr><tr><td>2018</td><td>Jutiapa</td><td>160</td></tr><tr><td>2018</td><td>Peten</td><td>187</td></tr><tr><td>2018</td><td>Quetzaltenango</td><td>155</td></tr><tr><td>2018</td><td>Quiche</td><td>139</td></tr><tr><td>2018</td><td>Retalhuleu</td><td>153</td></tr><tr><td>2018</td><td>Sacatepéquez</td><td>201</td></tr><tr><td>2018</td><td>San Marcos</td><td>147</td></tr><tr><td>2018</td><td>Santa rosa</td><td>192</td></tr><tr><td>2018</td><td>Sololá</td><td>104</td></tr><tr><td>2018</td><td>Suchitepéquez</td><td>205</td></tr><tr><td>2018</td><td>Totonicapán</td><td>47</td></tr><tr><td>2018</td><td>Zacapa</td><td>184</td></tr><tr><td>2019</td><td>Alta Verapaz</td><td>317</td></tr><tr><td>2019</td><td>Baja Verapaz</td><td>129</td></tr><tr><td>2019</td><td>Chimaltenango</td><td>274</td></tr><tr><td>2019</td><td>Chiquimula</td><td>153</td></tr><tr><td>2019</td><td>El progreso</td><td>151</td></tr><tr><td>2019</td><td>Escuintla</td><td>452</td></tr><tr><td>2019</td><td>Guatemala</td><td>3017</td></tr><tr><td>2019</td><td>Huehuetenango</td><td>99</td></tr><tr><td>2019</td><td>Izabal</td><td>234</td></tr><tr><td>2019</td><td>Jalapa</td><td>94</td></tr><tr><td>2019</td><td>Jutiapa</td><td>219</td></tr><tr><td>2019</td><td>Peten</td><td>217</td></tr><tr><td>2019</td><td>Quetzaltenango</td><td>191</td></tr><tr><td>2019</td><td>Quiche</td><td>114</td></tr><tr><td>2019</td><td>Retalhuleu</td><td>207</td></tr><tr><td>2019</td><td>Sacatepéquez</td><td>233</td></tr><tr><td>2019</td><td>San Marcos</td><td>149</td></tr><tr><td>2019</td><td>Santa rosa</td><td>220</td></tr><tr><td>2019</td><td>Sololá</td><td>140</td></tr><tr><td>2019</td><td>Suchitepéquez</td><td>218</td></tr><tr><td>2019</td><td>Totonicapán</td><td>63</td></tr><tr><td>2019</td><td>Zacapa</td><td>156</td></tr><tr><td>2020</td><td>Alta Verapaz</td><td>296</td></tr><tr><td>2020</td><td>Baja Verapaz</td><td>96</td></tr><tr><td>2020</td><td>Chimaltenango</td><td>229</td></tr><tr><td>2020</td><td>Chiquimula</td><td>130</td></tr><tr><td>2020</td><td>El progreso</td><td>124</td></tr><tr><td>2020</td><td>Escuintla</td><td>440</td></tr><tr><td>2020</td><td>Guatemala</td><td>2676</td></tr><tr><td>2020</td><td>Huehuetenango</td><td>113</td></tr><tr><td>2020</td><td>Izabal</td><td>230</td></tr><tr><td>2020</td><td>Jalapa</td><td>121</td></tr><tr><td>2020</td><td>Jutiapa</td><td>165</td></tr><tr><td>2020</td><td>Peten</td><td>206</td></tr><tr><td>2020</td><td>Quetzaltenango</td><td>197</td></tr><tr><td>2020</td><td>Quiche</td><td>106</td></tr><tr><td>2020</td><td>Retalhuleu</td><td>203</td></tr><tr><td>2020</td><td>Sacatepéquez</td><td>202</td></tr><tr><td>2020</td><td>San Marcos</td><td>147</td></tr><tr><td>2020</td><td>Santa rosa</td><td>197</td></tr><tr><td>2020</td><td>Sololá</td><td>81</td></tr><tr><td>2020</td><td>Suchitepéquez</td><td>201</td></tr><tr><td>2020</td><td>Totonicapán</td><td>49</td></tr><tr><td>2020</td><td>Zacapa</td><td>141</td></tr><tr><td>2021</td><td>Alta Verapaz</td><td>380</td></tr><tr><td>2021</td><td>Baja Verapaz</td><td>137</td></tr><tr><td>2021</td><td>Chimaltenango</td><td>297</td></tr><tr><td>2021</td><td>Chiquimula</td><td>166</td></tr><tr><td>2021</td><td>El progreso</td><td>170</td></tr><tr><td>2021</td><td>Escuintla</td><td>615</td></tr><tr><td>2021</td><td>Guatemala</td><td>3450</td></tr><tr><td>2021</td><td>Huehuetenango</td><td>141</td></tr><tr><td>2021</td><td>Izabal</td><td>237</td></tr><tr><td>2021</td><td>Jalapa</td><td>146</td></tr><tr><td>2021</td><td>Jutiapa</td><td>228</td></tr><tr><td>2021</td><td>Peten</td><td>266</td></tr><tr><td>2021</td><td>Quetzaltenango</td><td>253</td></tr><tr><td>2021</td><td>Quiche</td><td>186</td></tr><tr><td>2021</td><td>Retalhuleu</td><td>222</td></tr><tr><td>2021</td><td>Sacatepéquez</td><td>270</td></tr><tr><td>2021</td><td>San Marcos</td><td>182</td></tr><tr><td>2021</td><td>Santa rosa</td><td>238</td></tr><tr><td>2021</td><td>Sololá</td><td>109</td></tr><tr><td>2021</td><td>Suchitepéquez</td><td>229</td></tr><tr><td>2021</td><td>Totonicapán</td><td>77</td></tr><tr><td>2021</td><td>Zacapa</td><td>154</td></tr><tr><td>2022</td><td>Alta Verapaz</td><td>355</td></tr><tr><td>2022</td><td>Baja Verapaz</td><td>145</td></tr><tr><td>2022</td><td>Chimaltenango</td><td>297</td></tr><tr><td>2022</td><td>Chiquimula</td><td>135</td></tr><tr><td>2022</td><td>El progreso</td><td>147</td></tr><tr><td>2022</td><td>Escuintla</td><td>695</td></tr><tr><td>2022</td><td>Guatemala</td><td>3387</td></tr><tr><td>2022</td><td>Huehuetenango</td><td>118</td></tr><tr><td>2022</td><td>Izabal</td><td>233</td></tr><tr><td>2022</td><td>Jalapa</td><td>127</td></tr><tr><td>2022</td><td>Jutiapa</td><td>239</td></tr><tr><td>2022</td><td>Peten</td><td>226</td></tr><tr><td>2022</td><td>Quetzaltenango</td><td>239</td></tr><tr><td>2022</td><td>Quiche</td><td>160</td></tr><tr><td>2022</td><td>Retalhuleu</td><td>216</td></tr><tr><td>2022</td><td>Sacatepéquez</td><td>325</td></tr><tr><td>2022</td><td>San Marcos</td><td>138</td></tr><tr><td>2022</td><td>Santa rosa</td><td>231</td></tr><tr><td>2022</td><td>Sololá</td><td>68</td></tr><tr><td>2022</td><td>Suchitepéquez</td><td>215</td></tr><tr><td>2022</td><td>Totonicapán</td><td>82</td></tr><tr><td>2022</td><td>Zacapa</td><td>146</td></tr><tr><td>2023</td><td>Alta Verapaz</td><td>356</td></tr><tr><td>2023</td><td>Baja Verapaz</td><td>145</td></tr><tr><td>2023</td><td>Chimaltenango</td><td>300</td></tr><tr><td>2023</td><td>Chiquimula</td><td>112</td></tr><tr><td>2023</td><td>El progreso</td><td>173</td></tr><tr><td>2023</td><td>Escuintla</td><td>930</td></tr><tr><td>2023</td><td>Guatemala</td><td>3457</td></tr><tr><td>2023</td><td>Huehuetenango</td><td>126</td></tr><tr><td>2023</td><td>Izabal</td><td>244</td></tr><tr><td>2023</td><td>Jalapa</td><td>118</td></tr><tr><td>2023</td><td>Jutiapa</td><td>226</td></tr><tr><td>2023</td><td>Peten</td><td>256</td></tr><tr><td>2023</td><td>Quetzaltenango</td><td>232</td></tr><tr><td>2023</td><td>Quiche</td><td>129</td></tr><tr><td>2023</td><td>Retalhuleu</td><td>198</td></tr><tr><td>2023</td><td>Sacatepéquez</td><td>325</td></tr><tr><td>2023</td><td>San Marcos</td><td>178</td></tr><tr><td>2023</td><td>Santa rosa</td><td>272</td></tr><tr><td>2023</td><td>Sololá</td><td>72</td></tr><tr><td>2023</td><td>Suchitepéquez</td><td>187</td></tr><tr><td>2023</td><td>Totonicapán</td><td>40</td></tr><tr><td>2023</td><td>Zacapa</td><td>142</td></tr></tbody></table></div>"
      ]
     },
     "metadata": {
      "application/vnd.databricks.v1+output": {
       "addedWidgets": {},
       "aggData": [],
       "aggError": "",
       "aggOverflow": false,
       "aggSchema": [],
       "aggSeriesLimitReached": false,
       "aggType": "",
       "arguments": {},
       "columnCustomDisplayInfos": {},
       "data": [
        [
         2013,
         "Alta Verapaz",
         219
        ],
        [
         2013,
         "Baja Verapaz",
         100
        ],
        [
         2013,
         "Chimaltenango",
         212
        ],
        [
         2013,
         "Chiquimula",
         204
        ],
        [
         2013,
         "El progreso",
         132
        ],
        [
         2013,
         "Escuintla",
         424
        ],
        [
         2013,
         "Guatemala",
         2267
        ],
        [
         2013,
         "Huehuetenango",
         201
        ],
        [
         2013,
         "Izabal",
         234
        ],
        [
         2013,
         "Jalapa",
         89
        ],
        [
         2013,
         "Jutiapa",
         174
        ],
        [
         2013,
         "Peten",
         214
        ],
        [
         2013,
         "Quetzaltenango",
         288
        ],
        [
         2013,
         "Quiche",
         151
        ],
        [
         2013,
         "Retalhuleu",
         133
        ],
        [
         2013,
         "Sacatepéquez",
         142
        ],
        [
         2013,
         "San Marcos",
         221
        ],
        [
         2013,
         "Santa rosa",
         214
        ],
        [
         2013,
         "Sololá",
         126
        ],
        [
         2013,
         "Suchitepéquez",
         269
        ],
        [
         2013,
         "Totonicapán",
         81
        ],
        [
         2013,
         "Zacapa",
         229
        ],
        [
         2014,
         "Alta Verapaz",
         223
        ],
        [
         2014,
         "Baja Verapaz",
         95
        ],
        [
         2014,
         "Chimaltenango",
         228
        ],
        [
         2014,
         "Chiquimula",
         126
        ],
        [
         2014,
         "El progreso",
         127
        ],
        [
         2014,
         "Escuintla",
         444
        ],
        [
         2014,
         "Guatemala",
         1912
        ],
        [
         2014,
         "Huehuetenango",
         136
        ],
        [
         2014,
         "Izabal",
         255
        ],
        [
         2014,
         "Jalapa",
         75
        ],
        [
         2014,
         "Jutiapa",
         172
        ],
        [
         2014,
         "Peten",
         219
        ],
        [
         2014,
         "Quetzaltenango",
         255
        ],
        [
         2014,
         "Quiche",
         144
        ],
        [
         2014,
         "Retalhuleu",
         132
        ],
        [
         2014,
         "Sacatepéquez",
         150
        ],
        [
         2014,
         "San Marcos",
         154
        ],
        [
         2014,
         "Santa rosa",
         242
        ],
        [
         2014,
         "Sololá",
         109
        ],
        [
         2014,
         "Suchitepéquez",
         223
        ],
        [
         2014,
         "Totonicapán",
         82
        ],
        [
         2014,
         "Zacapa",
         148
        ],
        [
         2015,
         "Alta Verapaz",
         315
        ],
        [
         2015,
         "Baja Verapaz",
         112
        ],
        [
         2015,
         "Chimaltenango",
         263
        ],
        [
         2015,
         "Chiquimula",
         172
        ],
        [
         2015,
         "El progreso",
         160
        ],
        [
         2015,
         "Escuintla",
         569
        ],
        [
         2015,
         "Guatemala",
         2273
        ],
        [
         2015,
         "Huehuetenango",
         173
        ],
        [
         2015,
         "Izabal",
         285
        ],
        [
         2015,
         "Jalapa",
         96
        ],
        [
         2015,
         "Jutiapa",
         182
        ],
        [
         2015,
         "Peten",
         288
        ],
        [
         2015,
         "Quetzaltenango",
         316
        ],
        [
         2015,
         "Quiche",
         157
        ],
        [
         2015,
         "Retalhuleu",
         181
        ],
        [
         2015,
         "Sacatepéquez",
         209
        ],
        [
         2015,
         "San Marcos",
         177
        ],
        [
         2015,
         "Santa rosa",
         254
        ],
        [
         2015,
         "Sololá",
         152
        ],
        [
         2015,
         "Suchitepéquez",
         243
        ],
        [
         2015,
         "Totonicapán",
         69
        ],
        [
         2015,
         "Zacapa",
         208
        ],
        [
         2016,
         "Alta Verapaz",
         353
        ],
        [
         2016,
         "Baja Verapaz",
         149
        ],
        [
         2016,
         "Chimaltenango",
         420
        ],
        [
         2016,
         "Chiquimula",
         181
        ],
        [
         2016,
         "El progreso",
         201
        ],
        [
         2016,
         "Escuintla",
         627
        ],
        [
         2016,
         "Guatemala",
         2619
        ],
        [
         2016,
         "Huehuetenango",
         225
        ],
        [
         2016,
         "Izabal",
         286
        ],
        [
         2016,
         "Jalapa",
         98
        ],
        [
         2016,
         "Jutiapa",
         180
        ],
        [
         2016,
         "Peten",
         267
        ],
        [
         2016,
         "Quetzaltenango",
         323
        ],
        [
         2016,
         "Quiche",
         195
        ],
        [
         2016,
         "Retalhuleu",
         262
        ],
        [
         2016,
         "Sacatepéquez",
         287
        ],
        [
         2016,
         "San Marcos",
         198
        ],
        [
         2016,
         "Santa rosa",
         261
        ],
        [
         2016,
         "Sololá",
         182
        ],
        [
         2016,
         "Suchitepéquez",
         259
        ],
        [
         2016,
         "Totonicapán",
         76
        ],
        [
         2016,
         "Zacapa",
         315
        ],
        [
         2017,
         "Alta Verapaz",
         247
        ],
        [
         2017,
         "Baja Verapaz",
         111
        ],
        [
         2017,
         "Chimaltenango",
         244
        ],
        [
         2017,
         "Chiquimula",
         114
        ],
        [
         2017,
         "El progreso",
         139
        ],
        [
         2017,
         "Escuintla",
         461
        ],
        [
         2017,
         "Guatemala",
         2128
        ],
        [
         2017,
         "Huehuetenango",
         140
        ],
        [
         2017,
         "Izabal",
         200
        ],
        [
         2017,
         "Jalapa",
         92
        ],
        [
         2017,
         "Jutiapa",
         177
        ],
        [
         2017,
         "Peten",
         194
        ],
        [
         2017,
         "Quetzaltenango",
         172
        ],
        [
         2017,
         "Quiche",
         145
        ],
        [
         2017,
         "Retalhuleu",
         148
        ],
        [
         2017,
         "Sacatepéquez",
         213
        ],
        [
         2017,
         "San Marcos",
         130
        ],
        [
         2017,
         "Santa rosa",
         234
        ],
        [
         2017,
         "Sololá",
         124
        ],
        [
         2017,
         "Suchitepéquez",
         238
        ],
        [
         2017,
         "Totonicapán",
         44
        ],
        [
         2017,
         "Zacapa",
         184
        ],
        [
         2018,
         "Alta Verapaz",
         265
        ],
        [
         2018,
         "Baja Verapaz",
         132
        ],
        [
         2018,
         "Chimaltenango",
         238
        ],
        [
         2018,
         "Chiquimula",
         193
        ],
        [
         2018,
         "El progreso",
         168
        ],
        [
         2018,
         "Escuintla",
         407
        ],
        [
         2018,
         "Guatemala",
         2722
        ],
        [
         2018,
         "Huehuetenango",
         108
        ],
        [
         2018,
         "Izabal",
         210
        ],
        [
         2018,
         "Jalapa",
         78
        ],
        [
         2018,
         "Jutiapa",
         160
        ],
        [
         2018,
         "Peten",
         187
        ],
        [
         2018,
         "Quetzaltenango",
         155
        ],
        [
         2018,
         "Quiche",
         139
        ],
        [
         2018,
         "Retalhuleu",
         153
        ],
        [
         2018,
         "Sacatepéquez",
         201
        ],
        [
         2018,
         "San Marcos",
         147
        ],
        [
         2018,
         "Santa rosa",
         192
        ],
        [
         2018,
         "Sololá",
         104
        ],
        [
         2018,
         "Suchitepéquez",
         205
        ],
        [
         2018,
         "Totonicapán",
         47
        ],
        [
         2018,
         "Zacapa",
         184
        ],
        [
         2019,
         "Alta Verapaz",
         317
        ],
        [
         2019,
         "Baja Verapaz",
         129
        ],
        [
         2019,
         "Chimaltenango",
         274
        ],
        [
         2019,
         "Chiquimula",
         153
        ],
        [
         2019,
         "El progreso",
         151
        ],
        [
         2019,
         "Escuintla",
         452
        ],
        [
         2019,
         "Guatemala",
         3017
        ],
        [
         2019,
         "Huehuetenango",
         99
        ],
        [
         2019,
         "Izabal",
         234
        ],
        [
         2019,
         "Jalapa",
         94
        ],
        [
         2019,
         "Jutiapa",
         219
        ],
        [
         2019,
         "Peten",
         217
        ],
        [
         2019,
         "Quetzaltenango",
         191
        ],
        [
         2019,
         "Quiche",
         114
        ],
        [
         2019,
         "Retalhuleu",
         207
        ],
        [
         2019,
         "Sacatepéquez",
         233
        ],
        [
         2019,
         "San Marcos",
         149
        ],
        [
         2019,
         "Santa rosa",
         220
        ],
        [
         2019,
         "Sololá",
         140
        ],
        [
         2019,
         "Suchitepéquez",
         218
        ],
        [
         2019,
         "Totonicapán",
         63
        ],
        [
         2019,
         "Zacapa",
         156
        ],
        [
         2020,
         "Alta Verapaz",
         296
        ],
        [
         2020,
         "Baja Verapaz",
         96
        ],
        [
         2020,
         "Chimaltenango",
         229
        ],
        [
         2020,
         "Chiquimula",
         130
        ],
        [
         2020,
         "El progreso",
         124
        ],
        [
         2020,
         "Escuintla",
         440
        ],
        [
         2020,
         "Guatemala",
         2676
        ],
        [
         2020,
         "Huehuetenango",
         113
        ],
        [
         2020,
         "Izabal",
         230
        ],
        [
         2020,
         "Jalapa",
         121
        ],
        [
         2020,
         "Jutiapa",
         165
        ],
        [
         2020,
         "Peten",
         206
        ],
        [
         2020,
         "Quetzaltenango",
         197
        ],
        [
         2020,
         "Quiche",
         106
        ],
        [
         2020,
         "Retalhuleu",
         203
        ],
        [
         2020,
         "Sacatepéquez",
         202
        ],
        [
         2020,
         "San Marcos",
         147
        ],
        [
         2020,
         "Santa rosa",
         197
        ],
        [
         2020,
         "Sololá",
         81
        ],
        [
         2020,
         "Suchitepéquez",
         201
        ],
        [
         2020,
         "Totonicapán",
         49
        ],
        [
         2020,
         "Zacapa",
         141
        ],
        [
         2021,
         "Alta Verapaz",
         380
        ],
        [
         2021,
         "Baja Verapaz",
         137
        ],
        [
         2021,
         "Chimaltenango",
         297
        ],
        [
         2021,
         "Chiquimula",
         166
        ],
        [
         2021,
         "El progreso",
         170
        ],
        [
         2021,
         "Escuintla",
         615
        ],
        [
         2021,
         "Guatemala",
         3450
        ],
        [
         2021,
         "Huehuetenango",
         141
        ],
        [
         2021,
         "Izabal",
         237
        ],
        [
         2021,
         "Jalapa",
         146
        ],
        [
         2021,
         "Jutiapa",
         228
        ],
        [
         2021,
         "Peten",
         266
        ],
        [
         2021,
         "Quetzaltenango",
         253
        ],
        [
         2021,
         "Quiche",
         186
        ],
        [
         2021,
         "Retalhuleu",
         222
        ],
        [
         2021,
         "Sacatepéquez",
         270
        ],
        [
         2021,
         "San Marcos",
         182
        ],
        [
         2021,
         "Santa rosa",
         238
        ],
        [
         2021,
         "Sololá",
         109
        ],
        [
         2021,
         "Suchitepéquez",
         229
        ],
        [
         2021,
         "Totonicapán",
         77
        ],
        [
         2021,
         "Zacapa",
         154
        ],
        [
         2022,
         "Alta Verapaz",
         355
        ],
        [
         2022,
         "Baja Verapaz",
         145
        ],
        [
         2022,
         "Chimaltenango",
         297
        ],
        [
         2022,
         "Chiquimula",
         135
        ],
        [
         2022,
         "El progreso",
         147
        ],
        [
         2022,
         "Escuintla",
         695
        ],
        [
         2022,
         "Guatemala",
         3387
        ],
        [
         2022,
         "Huehuetenango",
         118
        ],
        [
         2022,
         "Izabal",
         233
        ],
        [
         2022,
         "Jalapa",
         127
        ],
        [
         2022,
         "Jutiapa",
         239
        ],
        [
         2022,
         "Peten",
         226
        ],
        [
         2022,
         "Quetzaltenango",
         239
        ],
        [
         2022,
         "Quiche",
         160
        ],
        [
         2022,
         "Retalhuleu",
         216
        ],
        [
         2022,
         "Sacatepéquez",
         325
        ],
        [
         2022,
         "San Marcos",
         138
        ],
        [
         2022,
         "Santa rosa",
         231
        ],
        [
         2022,
         "Sololá",
         68
        ],
        [
         2022,
         "Suchitepéquez",
         215
        ],
        [
         2022,
         "Totonicapán",
         82
        ],
        [
         2022,
         "Zacapa",
         146
        ],
        [
         2023,
         "Alta Verapaz",
         356
        ],
        [
         2023,
         "Baja Verapaz",
         145
        ],
        [
         2023,
         "Chimaltenango",
         300
        ],
        [
         2023,
         "Chiquimula",
         112
        ],
        [
         2023,
         "El progreso",
         173
        ],
        [
         2023,
         "Escuintla",
         930
        ],
        [
         2023,
         "Guatemala",
         3457
        ],
        [
         2023,
         "Huehuetenango",
         126
        ],
        [
         2023,
         "Izabal",
         244
        ],
        [
         2023,
         "Jalapa",
         118
        ],
        [
         2023,
         "Jutiapa",
         226
        ],
        [
         2023,
         "Peten",
         256
        ],
        [
         2023,
         "Quetzaltenango",
         232
        ],
        [
         2023,
         "Quiche",
         129
        ],
        [
         2023,
         "Retalhuleu",
         198
        ],
        [
         2023,
         "Sacatepéquez",
         325
        ],
        [
         2023,
         "San Marcos",
         178
        ],
        [
         2023,
         "Santa rosa",
         272
        ],
        [
         2023,
         "Sololá",
         72
        ],
        [
         2023,
         "Suchitepéquez",
         187
        ],
        [
         2023,
         "Totonicapán",
         40
        ],
        [
         2023,
         "Zacapa",
         142
        ]
       ],
       "datasetInfos": [],
       "dbfsResultPath": null,
       "isJsonSchema": true,
       "metadata": {},
       "overflow": false,
       "plotOptions": {
        "customPlotOptions": {},
        "displayType": "table",
        "pivotAggregation": null,
        "pivotColumns": null,
        "xColumns": null,
        "yColumns": null
       },
       "removedWidgets": [],
       "schema": [
        {
         "metadata": "{}",
         "name": "año",
         "type": "\"long\""
        },
        {
         "metadata": "{}",
         "name": "depto_ocu_desc",
         "type": "\"string\""
        },
        {
         "metadata": "{}",
         "name": "count",
         "type": "\"long\""
        }
       ],
       "type": "table"
      }
     },
     "output_type": "display_data"
    },
    {
     "output_type": "display_data",
     "data": {
      "text/plain": [
       "Databricks visualization. Run in Databricks to view."
      ]
     },
     "metadata": {
      "application/vnd.databricks.v1.subcommand+json": {
       "baseErrorDetails": null,
       "bindings": {},
       "collapsed": false,
       "command": "%python\n__backend_agg_display_orig = display\n__backend_agg_dfs = []\ndef __backend_agg_display_new(df):\n    __backend_agg_df_modules = [\"pandas.core.frame\", \"databricks.koalas.frame\", \"pyspark.sql.dataframe\", \"pyspark.pandas.frame\", \"pyspark.sql.connect.dataframe\"]\n    if (type(df).__module__ in __backend_agg_df_modules and type(df).__name__ == 'DataFrame') or isinstance(df, list):\n        __backend_agg_dfs.append(df)\n\ndisplay = __backend_agg_display_new\n\ndef __backend_agg_user_code_fn():\n    import base64\n    exec(base64.standard_b64decode(\"ZnJvbSBweXNwYXJrLnNxbCBpbXBvcnQgZnVuY3Rpb25zIGFzIEYKCnByaW50KCJOw7ptZXJvIGRlIGFjY2lkZW50ZXMgcG9yIGHDsW8geSBkZXBhcnRhbWVudG8gLSBGQUxMRUNJRE9TX0xFU0lPTkFET1MiKQpkZl9mYWxsZWNpZG9zX2FncnVwYWRvID0gZmFsbGVjaWRvc19sZXNpb25hZG9zLmdyb3VwQnkoImHDsW8iLCAiZGVwdG9fb2N1X2Rlc2MiKS5jb3VudCgpLm9yZGVyQnkoImHDsW8iLCAiZGVwdG9fb2N1X2Rlc2MiKQpkaXNwbGF5KGRmX2ZhbGxlY2lkb3NfYWdydXBhZG8pCgpwcmludCgiTsO6bWVybyBkZSBhY2NpZGVudGVzIHBvciBhw7FvIHkgZGVwYXJ0YW1lbnRvIC0gSEVDSE9TX1RSQU5TSVRPIikKZGZfaGVjaG9zX2FncnVwYWRvID0gaGVjaG9zX3RyYW5zaXRvLmdyb3VwQnkoImHDsW8iLCAiZGVwdG9fb2N1X2Rlc2MiKS5jb3VudCgpLm9yZGVyQnkoImHDsW8iLCAiZGVwdG9fb2N1X2Rlc2MiKQpkaXNwbGF5KGRmX2hlY2hvc19hZ3J1cGFkbykKCnByaW50KCJOw7ptZXJvIGRlIGFjY2lkZW50ZXMgcG9yIGHDsW8geSBkZXBhcnRhbWVudG8gLSBWRUhJQ1VMT1NfSU5WT0xVQ1JBRE9TIikKZGZfdmVoaWN1bG9zX2FncnVwYWRvID0gdmVoaWN1bG9zX2ludm9sdWNyYWRvcy5ncm91cEJ5KCJhw7FvIiwgImRlcHRvX29jdV9kZXNjIikuY291bnQoKS5vcmRlckJ5KCJhw7FvIiwgImRlcHRvX29jdV9kZXNjIikKZGlzcGxheShkZl92ZWhpY3Vsb3NfYWdydXBhZG8p\").decode())\n\ntry:\n    # run user code\n    __backend_agg_user_code_fn()\n\n    #reset display function\n    display = __backend_agg_display_orig\n\n    if len(__backend_agg_dfs) > 1:\n        # create a temp view\n        if type(__backend_agg_dfs[1]).__module__ == \"databricks.koalas.frame\":\n            # koalas dataframe\n            __backend_agg_dfs[1].to_spark().createOrReplaceTempView(\"DatabricksViewd85b2c7\")\n        elif type(__backend_agg_dfs[1]).__module__ == \"pandas.core.frame\" or isinstance(__backend_agg_dfs[1], list):\n            # pandas dataframe\n            spark.createDataFrame(__backend_agg_dfs[1]).createOrReplaceTempView(\"DatabricksViewd85b2c7\")\n        else:\n            __backend_agg_dfs[1].createOrReplaceTempView(\"DatabricksViewd85b2c7\")\n        #run backend agg\n        display(spark.sql(\"\"\"WITH q AS (select * from DatabricksViewd85b2c7) SELECT `depto_ocu_desc`,SUM(`count`) `column_8335706e104`,`año` FROM q GROUP BY `año`,`depto_ocu_desc`\"\"\"))\n    else:\n        displayHTML(\"dataframe no longer exists. If you're using dataframe.display(), use display(dataframe) instead.\")\n\n\nfinally:\n    spark.sql(\"drop view if exists DatabricksViewd85b2c7\")\n    display = __backend_agg_display_orig\n    del __backend_agg_display_new\n    del __backend_agg_display_orig\n    del __backend_agg_dfs\n    del __backend_agg_user_code_fn\n\n",
       "commandTitle": "Visualization 1",
       "commandType": "auto",
       "commandVersion": 0,
       "commentThread": [],
       "commentsVisible": false,
       "contentSha256Hex": null,
       "customPlotOptions": {
        "redashChart": [
         {
          "key": "type",
          "value": "CHART"
         },
         {
          "key": "options",
          "value": {
           "alignYAxesAtZero": true,
           "coefficient": 1,
           "columnConfigurationMap": {
            "series": {
             "column": "año",
             "id": "column_8335706e107"
            },
            "x": {
             "column": "depto_ocu_desc",
             "id": "column_8335706e108"
            },
            "y": [
             {
              "column": "count",
              "id": "column_8335706e104",
              "transform": "SUM"
             }
            ]
           },
           "dateTimeFormat": "DD/MM/YYYY HH:mm",
           "direction": {
            "type": "counterclockwise"
           },
           "error_y": {
            "type": "data",
            "visible": true
           },
           "globalSeriesType": "column",
           "isAggregationOn": true,
           "legend": {
            "traceorder": "normal"
           },
           "missingValuesAsZero": true,
           "numberFormat": "0,0.[00000]",
           "percentFormat": "0[.]00%",
           "series": {
            "error_y": {
             "type": "data",
             "visible": true
            },
            "stacking": null
           },
           "seriesOptions": {
            "column_8335706e104": {
             "name": "count",
             "type": "column",
             "yAxis": 0
            }
           },
           "showDataLabels": false,
           "sizemode": "diameter",
           "sortX": true,
           "sortY": true,
           "swappedAxes": false,
           "textFormat": "",
           "useAggregationsUi": true,
           "valuesOptions": {},
           "version": 2,
           "xAxis": {
            "labels": {
             "enabled": true
            },
            "type": "-"
           },
           "yAxis": [
            {
             "type": "-"
            },
            {
             "opposite": true,
             "type": "-"
            }
           ]
          }
         }
        ]
       },
       "datasetPreviewNameToCmdIdMap": {},
       "diffDeletes": [],
       "diffInserts": [],
       "displayType": "redashChart",
       "error": null,
       "errorDetails": null,
       "errorSummary": null,
       "errorTraceType": null,
       "finishTime": 0,
       "globalVars": {},
       "guid": "",
       "height": "auto",
       "hideCommandCode": false,
       "hideCommandResult": false,
       "iPythonMetadata": null,
       "inputWidgets": {},
       "isLockedInExamMode": false,
       "latestAssumeRoleInfo": null,
       "latestUser": "a user",
       "latestUserId": null,
       "listResultMetadata": null,
       "metadata": {
        "byteLimit": 2048000,
        "rowLimit": 10000
       },
       "nuid": "de516b11-8976-4037-9279-e0f5e02fe78e",
       "origId": 0,
       "parentHierarchy": [],
       "pivotAggregation": null,
       "pivotColumns": null,
       "position": 11.0,
       "resultDbfsErrorMessage": null,
       "resultDbfsStatus": "INLINED_IN_TREE",
       "results": null,
       "showCommandTitle": false,
       "startTime": 0,
       "state": "finished",
       "streamStates": {},
       "subcommandOptions": {
        "queryPlan": {
         "groups": [
          {
           "column": "depto_ocu_desc",
           "type": "column"
          },
          {
           "column": "año",
           "type": "column"
          }
         ],
         "selects": [
          {
           "column": "depto_ocu_desc",
           "type": "column"
          },
          {
           "alias": "column_8335706e104",
           "args": [
            {
             "column": "count",
             "type": "column"
            }
           ],
           "function": "SUM",
           "type": "function"
          },
          {
           "column": "año",
           "type": "column"
          }
         ]
        }
       },
       "submitTime": 0,
       "subtype": "tableResultSubCmd.visualization",
       "tableResultIndex": 1,
       "tableResultSettingsMap": {},
       "useConsistentColors": false,
       "version": "CommandV1",
       "width": "auto",
       "workflows": [],
       "xColumns": null,
       "yColumns": null
      }
     },
     "output_type": "display_data"
    },
    {
     "output_type": "stream",
     "name": "stdout",
     "output_type": "stream",
     "text": [
      "Número de accidentes por año y departamento - VEHICULOS_INVOLUCRADOS\n"
     ]
    },
    {
     "output_type": "display_data",
     "data": {
      "text/html": [
       "<style scoped>\n",
       "  .table-result-container {\n",
       "    max-height: 300px;\n",
       "    overflow: auto;\n",
       "  }\n",
       "  table, th, td {\n",
       "    border: 1px solid black;\n",
       "    border-collapse: collapse;\n",
       "  }\n",
       "  th, td {\n",
       "    padding: 5px;\n",
       "  }\n",
       "  th {\n",
       "    text-align: left;\n",
       "  }\n",
       "</style><div class='table-result-container'><table class='table-result'><thead style='background-color: white'><tr><th>año</th><th>depto_ocu_desc</th><th>count</th></tr></thead><tbody><tr><td>2013</td><td>Alta Verapaz</td><td>162</td></tr><tr><td>2013</td><td>Baja Verapaz</td><td>109</td></tr><tr><td>2013</td><td>Chimaltenango</td><td>143</td></tr><tr><td>2013</td><td>Chiquimula</td><td>161</td></tr><tr><td>2013</td><td>El progreso</td><td>152</td></tr><tr><td>2013</td><td>Escuintla</td><td>494</td></tr><tr><td>2013</td><td>Guatemala</td><td>2423</td></tr><tr><td>2013</td><td>Huehuetenango</td><td>177</td></tr><tr><td>2013</td><td>Izabal</td><td>230</td></tr><tr><td>2013</td><td>Jalapa</td><td>92</td></tr><tr><td>2013</td><td>Jutiapa</td><td>168</td></tr><tr><td>2013</td><td>Peten</td><td>195</td></tr><tr><td>2013</td><td>Quetzaltenango</td><td>333</td></tr><tr><td>2013</td><td>Quiche</td><td>143</td></tr><tr><td>2013</td><td>Retalhuleu</td><td>146</td></tr><tr><td>2013</td><td>Sacatepéquez</td><td>136</td></tr><tr><td>2013</td><td>San Marcos</td><td>194</td></tr><tr><td>2013</td><td>Santa rosa</td><td>205</td></tr><tr><td>2013</td><td>Sololá</td><td>93</td></tr><tr><td>2013</td><td>Suchitepéquez</td><td>278</td></tr><tr><td>2013</td><td>Totonicapán</td><td>62</td></tr><tr><td>2013</td><td>Zacapa</td><td>227</td></tr><tr><td>2014</td><td>Alta Verapaz</td><td>289</td></tr><tr><td>2014</td><td>Baja Verapaz</td><td>134</td></tr><tr><td>2014</td><td>Chimaltenango</td><td>296</td></tr><tr><td>2014</td><td>Chiquimula</td><td>170</td></tr><tr><td>2014</td><td>El progreso</td><td>178</td></tr><tr><td>2014</td><td>Escuintla</td><td>610</td></tr><tr><td>2014</td><td>Guatemala</td><td>2775</td></tr><tr><td>2014</td><td>Huehuetenango</td><td>183</td></tr><tr><td>2014</td><td>Izabal</td><td>370</td></tr><tr><td>2014</td><td>Jalapa</td><td>111</td></tr><tr><td>2014</td><td>Jutiapa</td><td>230</td></tr><tr><td>2014</td><td>Peten</td><td>308</td></tr><tr><td>2014</td><td>Quetzaltenango</td><td>385</td></tr><tr><td>2014</td><td>Quiche</td><td>178</td></tr><tr><td>2014</td><td>Retalhuleu</td><td>181</td></tr><tr><td>2014</td><td>Sacatepéquez</td><td>211</td></tr><tr><td>2014</td><td>San Marcos</td><td>206</td></tr><tr><td>2014</td><td>Santa rosa</td><td>326</td></tr><tr><td>2014</td><td>Sololá</td><td>139</td></tr><tr><td>2014</td><td>Suchitepéquez</td><td>294</td></tr><tr><td>2014</td><td>Totonicapán</td><td>121</td></tr><tr><td>2014</td><td>Zacapa</td><td>209</td></tr><tr><td>2015</td><td>Alta Verapaz</td><td>422</td></tr><tr><td>2015</td><td>Baja Verapaz</td><td>158</td></tr><tr><td>2015</td><td>Chimaltenango</td><td>380</td></tr><tr><td>2015</td><td>Chiquimula</td><td>227</td></tr><tr><td>2015</td><td>El progreso</td><td>240</td></tr><tr><td>2015</td><td>Escuintla</td><td>817</td></tr><tr><td>2015</td><td>Guatemala</td><td>3361</td></tr><tr><td>2015</td><td>Huehuetenango</td><td>212</td></tr><tr><td>2015</td><td>Izabal</td><td>408</td></tr><tr><td>2015</td><td>Jalapa</td><td>137</td></tr><tr><td>2015</td><td>Jutiapa</td><td>255</td></tr><tr><td>2015</td><td>Peten</td><td>404</td></tr><tr><td>2015</td><td>Quetzaltenango</td><td>476</td></tr><tr><td>2015</td><td>Quiche</td><td>207</td></tr><tr><td>2015</td><td>Retalhuleu</td><td>274</td></tr><tr><td>2015</td><td>Sacatepéquez</td><td>298</td></tr><tr><td>2015</td><td>San Marcos</td><td>250</td></tr><tr><td>2015</td><td>Santa rosa</td><td>353</td></tr><tr><td>2015</td><td>Sololá</td><td>188</td></tr><tr><td>2015</td><td>Suchitepéquez</td><td>353</td></tr><tr><td>2015</td><td>Totonicapán</td><td>98</td></tr><tr><td>2015</td><td>Zacapa</td><td>305</td></tr><tr><td>2016</td><td>Alta Verapaz</td><td>470</td></tr><tr><td>2016</td><td>Baja Verapaz</td><td>216</td></tr><tr><td>2016</td><td>Chimaltenango</td><td>579</td></tr><tr><td>2016</td><td>Chiquimula</td><td>249</td></tr><tr><td>2016</td><td>El progreso</td><td>296</td></tr><tr><td>2016</td><td>Escuintla</td><td>961</td></tr><tr><td>2016</td><td>Guatemala</td><td>3904</td></tr><tr><td>2016</td><td>Huehuetenango</td><td>295</td></tr><tr><td>2016</td><td>Izabal</td><td>420</td></tr><tr><td>2016</td><td>Jalapa</td><td>149</td></tr><tr><td>2016</td><td>Jutiapa</td><td>260</td></tr><tr><td>2016</td><td>Peten</td><td>390</td></tr><tr><td>2016</td><td>Quetzaltenango</td><td>485</td></tr><tr><td>2016</td><td>Quiche</td><td>272</td></tr><tr><td>2016</td><td>Retalhuleu</td><td>396</td></tr><tr><td>2016</td><td>Sacatepéquez</td><td>403</td></tr><tr><td>2016</td><td>San Marcos</td><td>294</td></tr><tr><td>2016</td><td>Santa rosa</td><td>384</td></tr><tr><td>2016</td><td>Sololá</td><td>228</td></tr><tr><td>2016</td><td>Suchitepéquez</td><td>394</td></tr><tr><td>2016</td><td>Totonicapán</td><td>114</td></tr><tr><td>2016</td><td>Zacapa</td><td>459</td></tr><tr><td>2017</td><td>Alta Verapaz</td><td>336</td></tr><tr><td>2017</td><td>Baja Verapaz</td><td>156</td></tr><tr><td>2017</td><td>Chimaltenango</td><td>332</td></tr><tr><td>2017</td><td>Chiquimula</td><td>174</td></tr><tr><td>2017</td><td>El progreso</td><td>213</td></tr><tr><td>2017</td><td>Escuintla</td><td>678</td></tr><tr><td>2017</td><td>Guatemala</td><td>3201</td></tr><tr><td>2017</td><td>Huehuetenango</td><td>195</td></tr><tr><td>2017</td><td>Izabal</td><td>297</td></tr><tr><td>2017</td><td>Jalapa</td><td>132</td></tr><tr><td>2017</td><td>Jutiapa</td><td>261</td></tr><tr><td>2017</td><td>Peten</td><td>297</td></tr><tr><td>2017</td><td>Quetzaltenango</td><td>252</td></tr><tr><td>2017</td><td>Quiche</td><td>193</td></tr><tr><td>2017</td><td>Retalhuleu</td><td>225</td></tr><tr><td>2017</td><td>Sacatepéquez</td><td>308</td></tr><tr><td>2017</td><td>San Marcos</td><td>194</td></tr><tr><td>2017</td><td>Santa rosa</td><td>335</td></tr><tr><td>2017</td><td>Sololá</td><td>166</td></tr><tr><td>2017</td><td>Suchitepéquez</td><td>371</td></tr><tr><td>2017</td><td>Totonicapán</td><td>64</td></tr><tr><td>2017</td><td>Zacapa</td><td>264</td></tr><tr><td>2018</td><td>Alta Verapaz</td><td>355</td></tr><tr><td>2018</td><td>Baja Verapaz</td><td>190</td></tr><tr><td>2018</td><td>Chimaltenango</td><td>347</td></tr><tr><td>2018</td><td>Chiquimula</td><td>275</td></tr><tr><td>2018</td><td>El progreso</td><td>259</td></tr><tr><td>2018</td><td>Escuintla</td><td>629</td></tr><tr><td>2018</td><td>Guatemala</td><td>4054</td></tr><tr><td>2018</td><td>Huehuetenango</td><td>158</td></tr><tr><td>2018</td><td>Izabal</td><td>318</td></tr><tr><td>2018</td><td>Jalapa</td><td>120</td></tr><tr><td>2018</td><td>Jutiapa</td><td>241</td></tr><tr><td>2018</td><td>Peten</td><td>282</td></tr><tr><td>2018</td><td>Quetzaltenango</td><td>238</td></tr><tr><td>2018</td><td>Quiche</td><td>203</td></tr><tr><td>2018</td><td>Retalhuleu</td><td>245</td></tr><tr><td>2018</td><td>Sacatepéquez</td><td>297</td></tr><tr><td>2018</td><td>San Marcos</td><td>226</td></tr><tr><td>2018</td><td>Santa rosa</td><td>294</td></tr><tr><td>2018</td><td>Sololá</td><td>138</td></tr><tr><td>2018</td><td>Suchitepéquez</td><td>306</td></tr><tr><td>2018</td><td>Totonicapán</td><td>63</td></tr><tr><td>2018</td><td>Zacapa</td><td>276</td></tr><tr><td>2019</td><td>Alta Verapaz</td><td>453</td></tr><tr><td>2019</td><td>Baja Verapaz</td><td>196</td></tr><tr><td>2019</td><td>Chimaltenango</td><td>407</td></tr><tr><td>2019</td><td>Chiquimula</td><td>222</td></tr><tr><td>2019</td><td>El progreso</td><td>232</td></tr><tr><td>2019</td><td>Escuintla</td><td>699</td></tr><tr><td>2019</td><td>Guatemala</td><td>4699</td></tr><tr><td>2019</td><td>Huehuetenango</td><td>142</td></tr><tr><td>2019</td><td>Izabal</td><td>374</td></tr><tr><td>2019</td><td>Jalapa</td><td>141</td></tr><tr><td>2019</td><td>Jutiapa</td><td>336</td></tr><tr><td>2019</td><td>Peten</td><td>335</td></tr><tr><td>2019</td><td>Quetzaltenango</td><td>291</td></tr><tr><td>2019</td><td>Quiche</td><td>174</td></tr><tr><td>2019</td><td>Retalhuleu</td><td>329</td></tr><tr><td>2019</td><td>Sacatepéquez</td><td>363</td></tr><tr><td>2019</td><td>San Marcos</td><td>235</td></tr><tr><td>2019</td><td>Santa rosa</td><td>339</td></tr><tr><td>2019</td><td>Sololá</td><td>197</td></tr><tr><td>2019</td><td>Suchitepéquez</td><td>337</td></tr><tr><td>2019</td><td>Totonicapán</td><td>87</td></tr><tr><td>2019</td><td>Zacapa</td><td>239</td></tr><tr><td>2020</td><td>Alta Verapaz</td><td>470</td></tr><tr><td>2020</td><td>Baja Verapaz</td><td>153</td></tr><tr><td>2020</td><td>Chimaltenango</td><td>338</td></tr><tr><td>2020</td><td>Chiquimula</td><td>204</td></tr><tr><td>2020</td><td>El progreso</td><td>198</td></tr><tr><td>2020</td><td>Escuintla</td><td>718</td></tr><tr><td>2020</td><td>Guatemala</td><td>4307</td></tr><tr><td>2020</td><td>Huehuetenango</td><td>165</td></tr><tr><td>2020</td><td>Izabal</td><td>344</td></tr><tr><td>2020</td><td>Jalapa</td><td>186</td></tr><tr><td>2020</td><td>Jutiapa</td><td>258</td></tr><tr><td>2020</td><td>Peten</td><td>312</td></tr><tr><td>2020</td><td>Quetzaltenango</td><td>323</td></tr><tr><td>2020</td><td>Quiche</td><td>160</td></tr><tr><td>2020</td><td>Retalhuleu</td><td>340</td></tr><tr><td>2020</td><td>Sacatepéquez</td><td>323</td></tr><tr><td>2020</td><td>San Marcos</td><td>240</td></tr><tr><td>2020</td><td>Santa rosa</td><td>314</td></tr><tr><td>2020</td><td>Sololá</td><td>116</td></tr><tr><td>2020</td><td>Suchitepéquez</td><td>324</td></tr><tr><td>2020</td><td>Totonicapán</td><td>76</td></tr><tr><td>2020</td><td>Zacapa</td><td>234</td></tr><tr><td>2021</td><td>Alta Verapaz</td><td>580</td></tr><tr><td>2021</td><td>Baja Verapaz</td><td>212</td></tr><tr><td>2021</td><td>Chimaltenango</td><td>452</td></tr><tr><td>2021</td><td>Chiquimula</td><td>253</td></tr><tr><td>2021</td><td>El progreso</td><td>271</td></tr><tr><td>2021</td><td>Escuintla</td><td>986</td></tr><tr><td>2021</td><td>Guatemala</td><td>5352</td></tr><tr><td>2021</td><td>Huehuetenango</td><td>236</td></tr><tr><td>2021</td><td>Izabal</td><td>379</td></tr><tr><td>2021</td><td>Jalapa</td><td>230</td></tr><tr><td>2021</td><td>Jutiapa</td><td>369</td></tr><tr><td>2021</td><td>Peten</td><td>396</td></tr><tr><td>2021</td><td>Quetzaltenango</td><td>407</td></tr><tr><td>2021</td><td>Quiche</td><td>290</td></tr><tr><td>2021</td><td>Retalhuleu</td><td>361</td></tr><tr><td>2021</td><td>Sacatepéquez</td><td>438</td></tr><tr><td>2021</td><td>San Marcos</td><td>302</td></tr><tr><td>2021</td><td>Santa rosa</td><td>370</td></tr><tr><td>2021</td><td>Sololá</td><td>161</td></tr><tr><td>2021</td><td>Suchitepéquez</td><td>375</td></tr><tr><td>2021</td><td>Totonicapán</td><td>115</td></tr><tr><td>2021</td><td>Zacapa</td><td>261</td></tr><tr><td>2022</td><td>Alta Verapaz</td><td>528</td></tr><tr><td>2022</td><td>Baja Verapaz</td><td>201</td></tr><tr><td>2022</td><td>Chimaltenango</td><td>444</td></tr><tr><td>2022</td><td>Chiquimula</td><td>205</td></tr><tr><td>2022</td><td>El progreso</td><td>231</td></tr><tr><td>2022</td><td>Escuintla</td><td>1097</td></tr><tr><td>2022</td><td>Guatemala</td><td>5177</td></tr><tr><td>2022</td><td>Huehuetenango</td><td>176</td></tr><tr><td>2022</td><td>Izabal</td><td>366</td></tr><tr><td>2022</td><td>Jalapa</td><td>189</td></tr><tr><td>2022</td><td>Jutiapa</td><td>372</td></tr><tr><td>2022</td><td>Peten</td><td>350</td></tr><tr><td>2022</td><td>Quetzaltenango</td><td>373</td></tr><tr><td>2022</td><td>Quiche</td><td>240</td></tr><tr><td>2022</td><td>Retalhuleu</td><td>372</td></tr><tr><td>2022</td><td>Sacatepéquez</td><td>503</td></tr><tr><td>2022</td><td>San Marcos</td><td>211</td></tr><tr><td>2022</td><td>Santa rosa</td><td>373</td></tr><tr><td>2022</td><td>Sololá</td><td>96</td></tr><tr><td>2022</td><td>Suchitepéquez</td><td>364</td></tr><tr><td>2022</td><td>Totonicapán</td><td>125</td></tr><tr><td>2022</td><td>Zacapa</td><td>246</td></tr><tr><td>2023</td><td>Alta Verapaz</td><td>506</td></tr><tr><td>2023</td><td>Baja Verapaz</td><td>212</td></tr><tr><td>2023</td><td>Chimaltenango</td><td>432</td></tr><tr><td>2023</td><td>Chiquimula</td><td>176</td></tr><tr><td>2023</td><td>El progreso</td><td>251</td></tr><tr><td>2023</td><td>Escuintla</td><td>1369</td></tr><tr><td>2023</td><td>Guatemala</td><td>5110</td></tr><tr><td>2023</td><td>Huehuetenango</td><td>200</td></tr><tr><td>2023</td><td>Izabal</td><td>354</td></tr><tr><td>2023</td><td>Jalapa</td><td>184</td></tr><tr><td>2023</td><td>Jutiapa</td><td>347</td></tr><tr><td>2023</td><td>Peten</td><td>355</td></tr><tr><td>2023</td><td>Quetzaltenango</td><td>371</td></tr><tr><td>2023</td><td>Quiche</td><td>179</td></tr><tr><td>2023</td><td>Retalhuleu</td><td>315</td></tr><tr><td>2023</td><td>Sacatepéquez</td><td>471</td></tr><tr><td>2023</td><td>San Marcos</td><td>282</td></tr><tr><td>2023</td><td>Santa rosa</td><td>411</td></tr><tr><td>2023</td><td>Sololá</td><td>99</td></tr><tr><td>2023</td><td>Suchitepéquez</td><td>300</td></tr><tr><td>2023</td><td>Totonicapán</td><td>53</td></tr><tr><td>2023</td><td>Zacapa</td><td>220</td></tr></tbody></table></div>"
      ]
     },
     "metadata": {
      "application/vnd.databricks.v1+output": {
       "addedWidgets": {},
       "aggData": [],
       "aggError": "",
       "aggOverflow": false,
       "aggSchema": [],
       "aggSeriesLimitReached": false,
       "aggType": "",
       "arguments": {},
       "columnCustomDisplayInfos": {},
       "data": [
        [
         2013,
         "Alta Verapaz",
         162
        ],
        [
         2013,
         "Baja Verapaz",
         109
        ],
        [
         2013,
         "Chimaltenango",
         143
        ],
        [
         2013,
         "Chiquimula",
         161
        ],
        [
         2013,
         "El progreso",
         152
        ],
        [
         2013,
         "Escuintla",
         494
        ],
        [
         2013,
         "Guatemala",
         2423
        ],
        [
         2013,
         "Huehuetenango",
         177
        ],
        [
         2013,
         "Izabal",
         230
        ],
        [
         2013,
         "Jalapa",
         92
        ],
        [
         2013,
         "Jutiapa",
         168
        ],
        [
         2013,
         "Peten",
         195
        ],
        [
         2013,
         "Quetzaltenango",
         333
        ],
        [
         2013,
         "Quiche",
         143
        ],
        [
         2013,
         "Retalhuleu",
         146
        ],
        [
         2013,
         "Sacatepéquez",
         136
        ],
        [
         2013,
         "San Marcos",
         194
        ],
        [
         2013,
         "Santa rosa",
         205
        ],
        [
         2013,
         "Sololá",
         93
        ],
        [
         2013,
         "Suchitepéquez",
         278
        ],
        [
         2013,
         "Totonicapán",
         62
        ],
        [
         2013,
         "Zacapa",
         227
        ],
        [
         2014,
         "Alta Verapaz",
         289
        ],
        [
         2014,
         "Baja Verapaz",
         134
        ],
        [
         2014,
         "Chimaltenango",
         296
        ],
        [
         2014,
         "Chiquimula",
         170
        ],
        [
         2014,
         "El progreso",
         178
        ],
        [
         2014,
         "Escuintla",
         610
        ],
        [
         2014,
         "Guatemala",
         2775
        ],
        [
         2014,
         "Huehuetenango",
         183
        ],
        [
         2014,
         "Izabal",
         370
        ],
        [
         2014,
         "Jalapa",
         111
        ],
        [
         2014,
         "Jutiapa",
         230
        ],
        [
         2014,
         "Peten",
         308
        ],
        [
         2014,
         "Quetzaltenango",
         385
        ],
        [
         2014,
         "Quiche",
         178
        ],
        [
         2014,
         "Retalhuleu",
         181
        ],
        [
         2014,
         "Sacatepéquez",
         211
        ],
        [
         2014,
         "San Marcos",
         206
        ],
        [
         2014,
         "Santa rosa",
         326
        ],
        [
         2014,
         "Sololá",
         139
        ],
        [
         2014,
         "Suchitepéquez",
         294
        ],
        [
         2014,
         "Totonicapán",
         121
        ],
        [
         2014,
         "Zacapa",
         209
        ],
        [
         2015,
         "Alta Verapaz",
         422
        ],
        [
         2015,
         "Baja Verapaz",
         158
        ],
        [
         2015,
         "Chimaltenango",
         380
        ],
        [
         2015,
         "Chiquimula",
         227
        ],
        [
         2015,
         "El progreso",
         240
        ],
        [
         2015,
         "Escuintla",
         817
        ],
        [
         2015,
         "Guatemala",
         3361
        ],
        [
         2015,
         "Huehuetenango",
         212
        ],
        [
         2015,
         "Izabal",
         408
        ],
        [
         2015,
         "Jalapa",
         137
        ],
        [
         2015,
         "Jutiapa",
         255
        ],
        [
         2015,
         "Peten",
         404
        ],
        [
         2015,
         "Quetzaltenango",
         476
        ],
        [
         2015,
         "Quiche",
         207
        ],
        [
         2015,
         "Retalhuleu",
         274
        ],
        [
         2015,
         "Sacatepéquez",
         298
        ],
        [
         2015,
         "San Marcos",
         250
        ],
        [
         2015,
         "Santa rosa",
         353
        ],
        [
         2015,
         "Sololá",
         188
        ],
        [
         2015,
         "Suchitepéquez",
         353
        ],
        [
         2015,
         "Totonicapán",
         98
        ],
        [
         2015,
         "Zacapa",
         305
        ],
        [
         2016,
         "Alta Verapaz",
         470
        ],
        [
         2016,
         "Baja Verapaz",
         216
        ],
        [
         2016,
         "Chimaltenango",
         579
        ],
        [
         2016,
         "Chiquimula",
         249
        ],
        [
         2016,
         "El progreso",
         296
        ],
        [
         2016,
         "Escuintla",
         961
        ],
        [
         2016,
         "Guatemala",
         3904
        ],
        [
         2016,
         "Huehuetenango",
         295
        ],
        [
         2016,
         "Izabal",
         420
        ],
        [
         2016,
         "Jalapa",
         149
        ],
        [
         2016,
         "Jutiapa",
         260
        ],
        [
         2016,
         "Peten",
         390
        ],
        [
         2016,
         "Quetzaltenango",
         485
        ],
        [
         2016,
         "Quiche",
         272
        ],
        [
         2016,
         "Retalhuleu",
         396
        ],
        [
         2016,
         "Sacatepéquez",
         403
        ],
        [
         2016,
         "San Marcos",
         294
        ],
        [
         2016,
         "Santa rosa",
         384
        ],
        [
         2016,
         "Sololá",
         228
        ],
        [
         2016,
         "Suchitepéquez",
         394
        ],
        [
         2016,
         "Totonicapán",
         114
        ],
        [
         2016,
         "Zacapa",
         459
        ],
        [
         2017,
         "Alta Verapaz",
         336
        ],
        [
         2017,
         "Baja Verapaz",
         156
        ],
        [
         2017,
         "Chimaltenango",
         332
        ],
        [
         2017,
         "Chiquimula",
         174
        ],
        [
         2017,
         "El progreso",
         213
        ],
        [
         2017,
         "Escuintla",
         678
        ],
        [
         2017,
         "Guatemala",
         3201
        ],
        [
         2017,
         "Huehuetenango",
         195
        ],
        [
         2017,
         "Izabal",
         297
        ],
        [
         2017,
         "Jalapa",
         132
        ],
        [
         2017,
         "Jutiapa",
         261
        ],
        [
         2017,
         "Peten",
         297
        ],
        [
         2017,
         "Quetzaltenango",
         252
        ],
        [
         2017,
         "Quiche",
         193
        ],
        [
         2017,
         "Retalhuleu",
         225
        ],
        [
         2017,
         "Sacatepéquez",
         308
        ],
        [
         2017,
         "San Marcos",
         194
        ],
        [
         2017,
         "Santa rosa",
         335
        ],
        [
         2017,
         "Sololá",
         166
        ],
        [
         2017,
         "Suchitepéquez",
         371
        ],
        [
         2017,
         "Totonicapán",
         64
        ],
        [
         2017,
         "Zacapa",
         264
        ],
        [
         2018,
         "Alta Verapaz",
         355
        ],
        [
         2018,
         "Baja Verapaz",
         190
        ],
        [
         2018,
         "Chimaltenango",
         347
        ],
        [
         2018,
         "Chiquimula",
         275
        ],
        [
         2018,
         "El progreso",
         259
        ],
        [
         2018,
         "Escuintla",
         629
        ],
        [
         2018,
         "Guatemala",
         4054
        ],
        [
         2018,
         "Huehuetenango",
         158
        ],
        [
         2018,
         "Izabal",
         318
        ],
        [
         2018,
         "Jalapa",
         120
        ],
        [
         2018,
         "Jutiapa",
         241
        ],
        [
         2018,
         "Peten",
         282
        ],
        [
         2018,
         "Quetzaltenango",
         238
        ],
        [
         2018,
         "Quiche",
         203
        ],
        [
         2018,
         "Retalhuleu",
         245
        ],
        [
         2018,
         "Sacatepéquez",
         297
        ],
        [
         2018,
         "San Marcos",
         226
        ],
        [
         2018,
         "Santa rosa",
         294
        ],
        [
         2018,
         "Sololá",
         138
        ],
        [
         2018,
         "Suchitepéquez",
         306
        ],
        [
         2018,
         "Totonicapán",
         63
        ],
        [
         2018,
         "Zacapa",
         276
        ],
        [
         2019,
         "Alta Verapaz",
         453
        ],
        [
         2019,
         "Baja Verapaz",
         196
        ],
        [
         2019,
         "Chimaltenango",
         407
        ],
        [
         2019,
         "Chiquimula",
         222
        ],
        [
         2019,
         "El progreso",
         232
        ],
        [
         2019,
         "Escuintla",
         699
        ],
        [
         2019,
         "Guatemala",
         4699
        ],
        [
         2019,
         "Huehuetenango",
         142
        ],
        [
         2019,
         "Izabal",
         374
        ],
        [
         2019,
         "Jalapa",
         141
        ],
        [
         2019,
         "Jutiapa",
         336
        ],
        [
         2019,
         "Peten",
         335
        ],
        [
         2019,
         "Quetzaltenango",
         291
        ],
        [
         2019,
         "Quiche",
         174
        ],
        [
         2019,
         "Retalhuleu",
         329
        ],
        [
         2019,
         "Sacatepéquez",
         363
        ],
        [
         2019,
         "San Marcos",
         235
        ],
        [
         2019,
         "Santa rosa",
         339
        ],
        [
         2019,
         "Sololá",
         197
        ],
        [
         2019,
         "Suchitepéquez",
         337
        ],
        [
         2019,
         "Totonicapán",
         87
        ],
        [
         2019,
         "Zacapa",
         239
        ],
        [
         2020,
         "Alta Verapaz",
         470
        ],
        [
         2020,
         "Baja Verapaz",
         153
        ],
        [
         2020,
         "Chimaltenango",
         338
        ],
        [
         2020,
         "Chiquimula",
         204
        ],
        [
         2020,
         "El progreso",
         198
        ],
        [
         2020,
         "Escuintla",
         718
        ],
        [
         2020,
         "Guatemala",
         4307
        ],
        [
         2020,
         "Huehuetenango",
         165
        ],
        [
         2020,
         "Izabal",
         344
        ],
        [
         2020,
         "Jalapa",
         186
        ],
        [
         2020,
         "Jutiapa",
         258
        ],
        [
         2020,
         "Peten",
         312
        ],
        [
         2020,
         "Quetzaltenango",
         323
        ],
        [
         2020,
         "Quiche",
         160
        ],
        [
         2020,
         "Retalhuleu",
         340
        ],
        [
         2020,
         "Sacatepéquez",
         323
        ],
        [
         2020,
         "San Marcos",
         240
        ],
        [
         2020,
         "Santa rosa",
         314
        ],
        [
         2020,
         "Sololá",
         116
        ],
        [
         2020,
         "Suchitepéquez",
         324
        ],
        [
         2020,
         "Totonicapán",
         76
        ],
        [
         2020,
         "Zacapa",
         234
        ],
        [
         2021,
         "Alta Verapaz",
         580
        ],
        [
         2021,
         "Baja Verapaz",
         212
        ],
        [
         2021,
         "Chimaltenango",
         452
        ],
        [
         2021,
         "Chiquimula",
         253
        ],
        [
         2021,
         "El progreso",
         271
        ],
        [
         2021,
         "Escuintla",
         986
        ],
        [
         2021,
         "Guatemala",
         5352
        ],
        [
         2021,
         "Huehuetenango",
         236
        ],
        [
         2021,
         "Izabal",
         379
        ],
        [
         2021,
         "Jalapa",
         230
        ],
        [
         2021,
         "Jutiapa",
         369
        ],
        [
         2021,
         "Peten",
         396
        ],
        [
         2021,
         "Quetzaltenango",
         407
        ],
        [
         2021,
         "Quiche",
         290
        ],
        [
         2021,
         "Retalhuleu",
         361
        ],
        [
         2021,
         "Sacatepéquez",
         438
        ],
        [
         2021,
         "San Marcos",
         302
        ],
        [
         2021,
         "Santa rosa",
         370
        ],
        [
         2021,
         "Sololá",
         161
        ],
        [
         2021,
         "Suchitepéquez",
         375
        ],
        [
         2021,
         "Totonicapán",
         115
        ],
        [
         2021,
         "Zacapa",
         261
        ],
        [
         2022,
         "Alta Verapaz",
         528
        ],
        [
         2022,
         "Baja Verapaz",
         201
        ],
        [
         2022,
         "Chimaltenango",
         444
        ],
        [
         2022,
         "Chiquimula",
         205
        ],
        [
         2022,
         "El progreso",
         231
        ],
        [
         2022,
         "Escuintla",
         1097
        ],
        [
         2022,
         "Guatemala",
         5177
        ],
        [
         2022,
         "Huehuetenango",
         176
        ],
        [
         2022,
         "Izabal",
         366
        ],
        [
         2022,
         "Jalapa",
         189
        ],
        [
         2022,
         "Jutiapa",
         372
        ],
        [
         2022,
         "Peten",
         350
        ],
        [
         2022,
         "Quetzaltenango",
         373
        ],
        [
         2022,
         "Quiche",
         240
        ],
        [
         2022,
         "Retalhuleu",
         372
        ],
        [
         2022,
         "Sacatepéquez",
         503
        ],
        [
         2022,
         "San Marcos",
         211
        ],
        [
         2022,
         "Santa rosa",
         373
        ],
        [
         2022,
         "Sololá",
         96
        ],
        [
         2022,
         "Suchitepéquez",
         364
        ],
        [
         2022,
         "Totonicapán",
         125
        ],
        [
         2022,
         "Zacapa",
         246
        ],
        [
         2023,
         "Alta Verapaz",
         506
        ],
        [
         2023,
         "Baja Verapaz",
         212
        ],
        [
         2023,
         "Chimaltenango",
         432
        ],
        [
         2023,
         "Chiquimula",
         176
        ],
        [
         2023,
         "El progreso",
         251
        ],
        [
         2023,
         "Escuintla",
         1369
        ],
        [
         2023,
         "Guatemala",
         5110
        ],
        [
         2023,
         "Huehuetenango",
         200
        ],
        [
         2023,
         "Izabal",
         354
        ],
        [
         2023,
         "Jalapa",
         184
        ],
        [
         2023,
         "Jutiapa",
         347
        ],
        [
         2023,
         "Peten",
         355
        ],
        [
         2023,
         "Quetzaltenango",
         371
        ],
        [
         2023,
         "Quiche",
         179
        ],
        [
         2023,
         "Retalhuleu",
         315
        ],
        [
         2023,
         "Sacatepéquez",
         471
        ],
        [
         2023,
         "San Marcos",
         282
        ],
        [
         2023,
         "Santa rosa",
         411
        ],
        [
         2023,
         "Sololá",
         99
        ],
        [
         2023,
         "Suchitepéquez",
         300
        ],
        [
         2023,
         "Totonicapán",
         53
        ],
        [
         2023,
         "Zacapa",
         220
        ]
       ],
       "datasetInfos": [],
       "dbfsResultPath": null,
       "isJsonSchema": true,
       "metadata": {},
       "overflow": false,
       "plotOptions": {
        "customPlotOptions": {},
        "displayType": "table",
        "pivotAggregation": null,
        "pivotColumns": null,
        "xColumns": null,
        "yColumns": null
       },
       "removedWidgets": [],
       "schema": [
        {
         "metadata": "{}",
         "name": "año",
         "type": "\"long\""
        },
        {
         "metadata": "{}",
         "name": "depto_ocu_desc",
         "type": "\"string\""
        },
        {
         "metadata": "{}",
         "name": "count",
         "type": "\"long\""
        }
       ],
       "type": "table"
      }
     },
     "output_type": "display_data"
    },
    {
     "output_type": "display_data",
     "data": {
      "text/plain": [
       "Databricks visualization. Run in Databricks to view."
      ]
     },
     "metadata": {
      "application/vnd.databricks.v1.subcommand+json": {
       "baseErrorDetails": null,
       "bindings": {},
       "collapsed": false,
       "command": "%python\n__backend_agg_display_orig = display\n__backend_agg_dfs = []\ndef __backend_agg_display_new(df):\n    __backend_agg_df_modules = [\"pandas.core.frame\", \"databricks.koalas.frame\", \"pyspark.sql.dataframe\", \"pyspark.pandas.frame\", \"pyspark.sql.connect.dataframe\"]\n    if (type(df).__module__ in __backend_agg_df_modules and type(df).__name__ == 'DataFrame') or isinstance(df, list):\n        __backend_agg_dfs.append(df)\n\ndisplay = __backend_agg_display_new\n\ndef __backend_agg_user_code_fn():\n    import base64\n    exec(base64.standard_b64decode(\"ZnJvbSBweXNwYXJrLnNxbCBpbXBvcnQgZnVuY3Rpb25zIGFzIEYKCnByaW50KCJOw7ptZXJvIGRlIGFjY2lkZW50ZXMgcG9yIGHDsW8geSBkZXBhcnRhbWVudG8gLSBGQUxMRUNJRE9TX0xFU0lPTkFET1MiKQpkZl9mYWxsZWNpZG9zX2FncnVwYWRvID0gZmFsbGVjaWRvc19sZXNpb25hZG9zLmdyb3VwQnkoImHDsW8iLCAiZGVwdG9fb2N1X2Rlc2MiKS5jb3VudCgpLm9yZGVyQnkoImHDsW8iLCAiZGVwdG9fb2N1X2Rlc2MiKQpkaXNwbGF5KGRmX2ZhbGxlY2lkb3NfYWdydXBhZG8pCgpwcmludCgiTsO6bWVybyBkZSBhY2NpZGVudGVzIHBvciBhw7FvIHkgZGVwYXJ0YW1lbnRvIC0gSEVDSE9TX1RSQU5TSVRPIikKZGZfaGVjaG9zX2FncnVwYWRvID0gaGVjaG9zX3RyYW5zaXRvLmdyb3VwQnkoImHDsW8iLCAiZGVwdG9fb2N1X2Rlc2MiKS5jb3VudCgpLm9yZGVyQnkoImHDsW8iLCAiZGVwdG9fb2N1X2Rlc2MiKQpkaXNwbGF5KGRmX2hlY2hvc19hZ3J1cGFkbykKCnByaW50KCJOw7ptZXJvIGRlIGFjY2lkZW50ZXMgcG9yIGHDsW8geSBkZXBhcnRhbWVudG8gLSBWRUhJQ1VMT1NfSU5WT0xVQ1JBRE9TIikKZGZfdmVoaWN1bG9zX2FncnVwYWRvID0gdmVoaWN1bG9zX2ludm9sdWNyYWRvcy5ncm91cEJ5KCJhw7FvIiwgImRlcHRvX29jdV9kZXNjIikuY291bnQoKS5vcmRlckJ5KCJhw7FvIiwgImRlcHRvX29jdV9kZXNjIikKZGlzcGxheShkZl92ZWhpY3Vsb3NfYWdydXBhZG8p\").decode())\n\ntry:\n    # run user code\n    __backend_agg_user_code_fn()\n\n    #reset display function\n    display = __backend_agg_display_orig\n\n    if len(__backend_agg_dfs) > 2:\n        # create a temp view\n        if type(__backend_agg_dfs[2]).__module__ == \"databricks.koalas.frame\":\n            # koalas dataframe\n            __backend_agg_dfs[2].to_spark().createOrReplaceTempView(\"DatabricksViewa508f7f\")\n        elif type(__backend_agg_dfs[2]).__module__ == \"pandas.core.frame\" or isinstance(__backend_agg_dfs[2], list):\n            # pandas dataframe\n            spark.createDataFrame(__backend_agg_dfs[2]).createOrReplaceTempView(\"DatabricksViewa508f7f\")\n        else:\n            __backend_agg_dfs[2].createOrReplaceTempView(\"DatabricksViewa508f7f\")\n        #run backend agg\n        display(spark.sql(\"\"\"WITH q AS (select * from DatabricksViewa508f7f) SELECT `depto_ocu_desc`,SUM(`count`) `column_8335706e110`,`año` FROM q GROUP BY `año`,`depto_ocu_desc`\"\"\"))\n    else:\n        displayHTML(\"dataframe no longer exists. If you're using dataframe.display(), use display(dataframe) instead.\")\n\n\nfinally:\n    spark.sql(\"drop view if exists DatabricksViewa508f7f\")\n    display = __backend_agg_display_orig\n    del __backend_agg_display_new\n    del __backend_agg_display_orig\n    del __backend_agg_dfs\n    del __backend_agg_user_code_fn\n\n",
       "commandTitle": "Visualization 1",
       "commandType": "auto",
       "commandVersion": 0,
       "commentThread": [],
       "commentsVisible": false,
       "contentSha256Hex": null,
       "customPlotOptions": {
        "redashChart": [
         {
          "key": "type",
          "value": "CHART"
         },
         {
          "key": "options",
          "value": {
           "alignYAxesAtZero": true,
           "coefficient": 1,
           "columnConfigurationMap": {
            "series": {
             "column": "año",
             "id": "column_8335706e116"
            },
            "x": {
             "column": "depto_ocu_desc",
             "id": "column_8335706e115"
            },
            "y": [
             {
              "column": "count",
              "id": "column_8335706e110",
              "transform": "SUM"
             }
            ]
           },
           "dateTimeFormat": "DD/MM/YYYY HH:mm",
           "direction": {
            "type": "counterclockwise"
           },
           "error_y": {
            "type": "data",
            "visible": true
           },
           "globalSeriesType": "column",
           "isAggregationOn": true,
           "legend": {
            "traceorder": "normal"
           },
           "missingValuesAsZero": true,
           "numberFormat": "0,0.[00000]",
           "percentFormat": "0[.]00%",
           "series": {
            "error_y": {
             "type": "data",
             "visible": true
            },
            "stacking": null
           },
           "seriesOptions": {
            "column_8335706e110": {
             "name": "count",
             "type": "column",
             "yAxis": 0
            }
           },
           "showDataLabels": false,
           "sizemode": "diameter",
           "sortX": true,
           "sortY": true,
           "swappedAxes": false,
           "textFormat": "",
           "useAggregationsUi": true,
           "valuesOptions": {},
           "version": 2,
           "xAxis": {
            "labels": {
             "enabled": true
            },
            "type": "-"
           },
           "yAxis": [
            {
             "type": "-"
            },
            {
             "opposite": true,
             "type": "-"
            }
           ]
          }
         }
        ]
       },
       "datasetPreviewNameToCmdIdMap": {},
       "diffDeletes": [],
       "diffInserts": [],
       "displayType": "redashChart",
       "error": null,
       "errorDetails": null,
       "errorSummary": null,
       "errorTraceType": null,
       "finishTime": 0,
       "globalVars": {},
       "guid": "",
       "height": "auto",
       "hideCommandCode": false,
       "hideCommandResult": false,
       "iPythonMetadata": null,
       "inputWidgets": {},
       "isLockedInExamMode": false,
       "latestAssumeRoleInfo": null,
       "latestUser": "a user",
       "latestUserId": null,
       "listResultMetadata": null,
       "metadata": {
        "byteLimit": 2048000,
        "rowLimit": 10000
       },
       "nuid": "680bf215-63c1-43f1-9f21-28e7d7515a3e",
       "origId": 0,
       "parentHierarchy": [],
       "pivotAggregation": null,
       "pivotColumns": null,
       "position": 11.0,
       "resultDbfsErrorMessage": null,
       "resultDbfsStatus": "INLINED_IN_TREE",
       "results": null,
       "showCommandTitle": false,
       "startTime": 0,
       "state": "finished",
       "streamStates": {},
       "subcommandOptions": {
        "queryPlan": {
         "groups": [
          {
           "column": "depto_ocu_desc",
           "type": "column"
          },
          {
           "column": "año",
           "type": "column"
          }
         ],
         "selects": [
          {
           "column": "depto_ocu_desc",
           "type": "column"
          },
          {
           "alias": "column_8335706e110",
           "args": [
            {
             "column": "count",
             "type": "column"
            }
           ],
           "function": "SUM",
           "type": "function"
          },
          {
           "column": "año",
           "type": "column"
          }
         ]
        }
       },
       "submitTime": 0,
       "subtype": "tableResultSubCmd.visualization",
       "tableResultIndex": 2,
       "tableResultSettingsMap": {},
       "useConsistentColors": false,
       "version": "CommandV1",
       "width": "auto",
       "workflows": [],
       "xColumns": null,
       "yColumns": null
      }
     },
     "output_type": "display_data"
    }
   ],
   "source": [
    "from pyspark.sql import functions as F\n",
    "\n",
    "print(\"Número de accidentes por año y departamento - FALLECIDOS_LESIONADOS\")\n",
    "df_fallecidos_agrupado = fallecidos_lesionados.groupBy(\"año\", \"depto_ocu_desc\").count().orderBy(\"año\", \"depto_ocu_desc\")\n",
    "display(df_fallecidos_agrupado)\n",
    "\n",
    "print(\"Número de accidentes por año y departamento - HECHOS_TRANSITO\")\n",
    "df_hechos_agrupado = hechos_transito.groupBy(\"año\", \"depto_ocu_desc\").count().orderBy(\"año\", \"depto_ocu_desc\")\n",
    "display(df_hechos_agrupado)\n",
    "\n",
    "print(\"Número de accidentes por año y departamento - VEHICULOS_INVOLUCRADOS\")\n",
    "df_vehiculos_agrupado = vehiculos_involucrados.groupBy(\"año\", \"depto_ocu_desc\").count().orderBy(\"año\", \"depto_ocu_desc\")\n",
    "display(df_vehiculos_agrupado)"
   ]
  },
  {
   "cell_type": "markdown",
   "metadata": {
    "application/vnd.databricks.v1+cell": {
     "cellMetadata": {
      "byteLimit": 2048000,
      "rowLimit": 10000
     },
     "inputWidgets": {},
     "nuid": "238bac74-67f9-4813-82be-1af460d733cd",
     "showTitle": false,
     "tableResultSettingsMap": {},
     "title": ""
    }
   },
   "source": [
    "Analizando las gráficas es evidente que el lugar con mayor cantidad de accentes con diferencia es la capital de Guatemala. Esto tiene sentido considerando que es aquí el lugar donde hay una mayor concentración de presonas y carros."
   ]
  },
  {
   "cell_type": "markdown",
   "metadata": {
    "application/vnd.databricks.v1+cell": {
     "cellMetadata": {},
     "inputWidgets": {},
     "nuid": "8f7ed069-b374-4497-aa40-9858180b62c2",
     "showTitle": false,
     "tableResultSettingsMap": {},
     "title": ""
    }
   },
   "source": [
    "# Distribución de accidentes por día en 2023"
   ]
  },
  {
   "cell_type": "code",
   "execution_count": 0,
   "metadata": {
    "application/vnd.databricks.v1+cell": {
     "cellMetadata": {
      "byteLimit": 2048000,
      "rowLimit": 10000
     },
     "inputWidgets": {},
     "nuid": "cdefc57b-b9e2-48ba-8856-deba2c3905d3",
     "showTitle": false,
     "tableResultSettingsMap": {},
     "title": ""
    }
   },
   "outputs": [
    {
     "output_type": "stream",
     "name": "stdout",
     "output_type": "stream",
     "text": [
      "Valores únicos en dia_sem_ocu:\n+-----------+\n|dia_sem_ocu|\n+-----------+\n|        1.0|\n|        2.0|\n|        3.0|\n|        4.0|\n|        5.0|\n|        6.0|\n|        7.0|\n+-----------+\n\nRegistros con dia_sem_ocu nulo en 2023: 0\nMuestra de datos transformados:\n+-----------+---------------+\n|dia_sem_ocu|dia_semana_desc|\n+-----------+---------------+\n|        7.0|         Sábado|\n|        7.0|         Sábado|\n|        7.0|         Sábado|\n|        7.0|         Sábado|\n|        7.0|         Sábado|\n|        7.0|         Sábado|\n|        7.0|         Sábado|\n|        7.0|         Sábado|\n|        7.0|         Sábado|\n|        7.0|         Sábado|\n|        7.0|         Sábado|\n|        7.0|         Sábado|\n|        7.0|         Sábado|\n|        7.0|         Sábado|\n|        7.0|         Sábado|\n|        7.0|         Sábado|\n|        7.0|         Sábado|\n|        7.0|         Sábado|\n|        7.0|         Sábado|\n|        7.0|         Sábado|\n+-----------+---------------+\nonly showing top 20 rows\nAccidentes por día de la semana en 2023:\n+---------------+-----+\n|dia_semana_desc|count|\n+---------------+-----+\n|        Viernes| 1180|\n|         Sábado| 1055|\n|        Domingo|  880|\n|         Jueves|  873|\n|          Lunes|  796|\n|         Martes|  783|\n|      Miércoles|  783|\n+---------------+-----+\n\nGRÁFICA DE COLUMNAS - Accidentes por día de la semana en 2023\n"
     ]
    },
    {
     "output_type": "display_data",
     "data": {
      "text/html": [
       "<style scoped>\n",
       "  .table-result-container {\n",
       "    max-height: 300px;\n",
       "    overflow: auto;\n",
       "  }\n",
       "  table, th, td {\n",
       "    border: 1px solid black;\n",
       "    border-collapse: collapse;\n",
       "  }\n",
       "  th, td {\n",
       "    padding: 5px;\n",
       "  }\n",
       "  th {\n",
       "    text-align: left;\n",
       "  }\n",
       "</style><div class='table-result-container'><table class='table-result'><thead style='background-color: white'><tr><th>dia_semana_desc</th><th>count</th></tr></thead><tbody><tr><td>Viernes</td><td>1180</td></tr><tr><td>Sábado</td><td>1055</td></tr><tr><td>Domingo</td><td>880</td></tr><tr><td>Jueves</td><td>873</td></tr><tr><td>Lunes</td><td>796</td></tr><tr><td>Martes</td><td>783</td></tr><tr><td>Miércoles</td><td>783</td></tr></tbody></table></div>"
      ]
     },
     "metadata": {
      "application/vnd.databricks.v1+output": {
       "addedWidgets": {},
       "aggData": [],
       "aggError": "",
       "aggOverflow": false,
       "aggSchema": [],
       "aggSeriesLimitReached": false,
       "aggType": "",
       "arguments": {},
       "columnCustomDisplayInfos": {},
       "data": [
        [
         "Viernes",
         1180
        ],
        [
         "Sábado",
         1055
        ],
        [
         "Domingo",
         880
        ],
        [
         "Jueves",
         873
        ],
        [
         "Lunes",
         796
        ],
        [
         "Martes",
         783
        ],
        [
         "Miércoles",
         783
        ]
       ],
       "datasetInfos": [],
       "dbfsResultPath": null,
       "isJsonSchema": true,
       "metadata": {},
       "overflow": false,
       "plotOptions": {
        "customPlotOptions": {},
        "displayType": "table",
        "pivotAggregation": null,
        "pivotColumns": null,
        "xColumns": null,
        "yColumns": null
       },
       "removedWidgets": [],
       "schema": [
        {
         "metadata": "{}",
         "name": "dia_semana_desc",
         "type": "\"string\""
        },
        {
         "metadata": "{}",
         "name": "count",
         "type": "\"long\""
        }
       ],
       "type": "table"
      }
     },
     "output_type": "display_data"
    },
    {
     "output_type": "display_data",
     "data": {
      "text/plain": [
       "Databricks visualization. Run in Databricks to view."
      ]
     },
     "metadata": {
      "application/vnd.databricks.v1.subcommand+json": {
       "baseErrorDetails": null,
       "bindings": {},
       "collapsed": false,
       "command": "%python\n__backend_agg_display_orig = display\n__backend_agg_dfs = []\ndef __backend_agg_display_new(df):\n    __backend_agg_df_modules = [\"pandas.core.frame\", \"databricks.koalas.frame\", \"pyspark.sql.dataframe\", \"pyspark.pandas.frame\", \"pyspark.sql.connect.dataframe\"]\n    if (type(df).__module__ in __backend_agg_df_modules and type(df).__name__ == 'DataFrame') or isinstance(df, list):\n        __backend_agg_dfs.append(df)\n\ndisplay = __backend_agg_display_new\n\ndef __backend_agg_user_code_fn():\n    import base64\n    exec(base64.standard_b64decode(\"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\").decode())\n\ntry:\n    # run user code\n    __backend_agg_user_code_fn()\n\n    #reset display function\n    display = __backend_agg_display_orig\n\n    if len(__backend_agg_dfs) > 0:\n        # create a temp view\n        if type(__backend_agg_dfs[0]).__module__ == \"databricks.koalas.frame\":\n            # koalas dataframe\n            __backend_agg_dfs[0].to_spark().createOrReplaceTempView(\"DatabricksView4a10ab0\")\n        elif type(__backend_agg_dfs[0]).__module__ == \"pandas.core.frame\" or isinstance(__backend_agg_dfs[0], list):\n            # pandas dataframe\n            spark.createDataFrame(__backend_agg_dfs[0]).createOrReplaceTempView(\"DatabricksView4a10ab0\")\n        else:\n            __backend_agg_dfs[0].createOrReplaceTempView(\"DatabricksView4a10ab0\")\n        #run backend agg\n        display(spark.sql(\"\"\"WITH q AS (select * from DatabricksView4a10ab0) SELECT `dia_semana_desc`,SUM(`count`) `column_8335706e257` FROM q GROUP BY `dia_semana_desc`\"\"\"))\n    else:\n        displayHTML(\"dataframe no longer exists. If you're using dataframe.display(), use display(dataframe) instead.\")\n\n\nfinally:\n    spark.sql(\"drop view if exists DatabricksView4a10ab0\")\n    display = __backend_agg_display_orig\n    del __backend_agg_display_new\n    del __backend_agg_display_orig\n    del __backend_agg_dfs\n    del __backend_agg_user_code_fn\n\n",
       "commandTitle": "Visualization 1",
       "commandType": "auto",
       "commandVersion": 0,
       "commentThread": [],
       "commentsVisible": false,
       "contentSha256Hex": null,
       "customPlotOptions": {
        "redashChart": [
         {
          "key": "type",
          "value": "CHART"
         },
         {
          "key": "options",
          "value": {
           "alignYAxesAtZero": true,
           "coefficient": 1,
           "columnConfigurationMap": {
            "x": {
             "column": "dia_semana_desc",
             "id": "column_8335706e256"
            },
            "y": [
             {
              "column": "count",
              "id": "column_8335706e257",
              "transform": "SUM"
             }
            ]
           },
           "dateTimeFormat": "DD/MM/YYYY HH:mm",
           "direction": {
            "type": "counterclockwise"
           },
           "error_y": {
            "type": "data",
            "visible": true
           },
           "globalSeriesType": "column",
           "isAggregationOn": true,
           "legend": {
            "traceorder": "normal"
           },
           "missingValuesAsZero": true,
           "numberFormat": "0,0.[00000]",
           "percentFormat": "0[.]00%",
           "series": {
            "error_y": {
             "type": "data",
             "visible": true
            },
            "stacking": null
           },
           "seriesOptions": {
            "column_8335706e257": {
             "name": "count",
             "yAxis": 0
            }
           },
           "showDataLabels": false,
           "sizemode": "diameter",
           "sortX": true,
           "sortY": true,
           "swappedAxes": false,
           "textFormat": "",
           "useAggregationsUi": true,
           "valuesOptions": {},
           "version": 2,
           "xAxis": {
            "labels": {
             "enabled": true
            },
            "type": "-"
           },
           "yAxis": [
            {
             "type": "-"
            },
            {
             "opposite": true,
             "type": "-"
            }
           ]
          }
         }
        ]
       },
       "datasetPreviewNameToCmdIdMap": {},
       "diffDeletes": [],
       "diffInserts": [],
       "displayType": "redashChart",
       "error": null,
       "errorDetails": null,
       "errorSummary": null,
       "errorTraceType": null,
       "finishTime": 0,
       "globalVars": {},
       "guid": "",
       "height": "auto",
       "hideCommandCode": false,
       "hideCommandResult": false,
       "iPythonMetadata": null,
       "inputWidgets": {},
       "isLockedInExamMode": false,
       "latestAssumeRoleInfo": null,
       "latestUser": "a user",
       "latestUserId": null,
       "listResultMetadata": null,
       "metadata": {},
       "nuid": "3772dc24-e58b-4c17-88d1-c7313704cf6c",
       "origId": 0,
       "parentHierarchy": [],
       "pivotAggregation": null,
       "pivotColumns": null,
       "position": 12.0,
       "resultDbfsErrorMessage": null,
       "resultDbfsStatus": "INLINED_IN_TREE",
       "results": null,
       "showCommandTitle": false,
       "startTime": 0,
       "state": "input",
       "streamStates": {},
       "subcommandOptions": {
        "queryPlan": {
         "groups": [
          {
           "column": "dia_semana_desc",
           "type": "column"
          }
         ],
         "selects": [
          {
           "column": "dia_semana_desc",
           "type": "column"
          },
          {
           "alias": "column_8335706e257",
           "args": [
            {
             "column": "count",
             "type": "column"
            }
           ],
           "function": "SUM",
           "type": "function"
          }
         ]
        }
       },
       "submitTime": 0,
       "subtype": "tableResultSubCmd.visualization",
       "tableResultIndex": 0,
       "tableResultSettingsMap": {},
       "useConsistentColors": false,
       "version": "CommandV1",
       "width": "auto",
       "workflows": [],
       "xColumns": null,
       "yColumns": null
      }
     },
     "output_type": "display_data"
    }
   ],
   "source": [
    "from pyspark.sql import functions as F\n",
    "from pyspark.sql.functions import col\n",
    "\n",
    "# Verificar los valores reales en la columna\n",
    "print(\"Valores únicos en dia_sem_ocu:\")\n",
    "hechos_transito.select(\"dia_sem_ocu\").distinct().orderBy(\"dia_sem_ocu\").show()\n",
    "\n",
    "# Verificar cuántos registros tienen valores nulos en dia_sem_ocu para 2023\n",
    "nulos_2023 = hechos_transito.filter(F.col(\"año\") == 2023).filter(F.col(\"dia_sem_ocu\").isNull()).count()\n",
    "print(f\"Registros con dia_sem_ocu nulo en 2023: {nulos_2023}\")\n",
    "\n",
    "# Corregir la transformación - comparar con valores double\n",
    "hechos_transito = hechos_transito.withColumn(\n",
    "    \"dia_semana_desc\",\n",
    "    F.when(F.col(\"dia_sem_ocu\") == 1.0, \"Domingo\")\n",
    "    .when(F.col(\"dia_sem_ocu\") == 2.0, \"Lunes\")\n",
    "    .when(F.col(\"dia_sem_ocu\") == 3.0, \"Martes\")\n",
    "    .when(F.col(\"dia_sem_ocu\") == 4.0, \"Miércoles\")\n",
    "    .when(F.col(\"dia_sem_ocu\") == 5.0, \"Jueves\")\n",
    "    .when(F.col(\"dia_sem_ocu\") == 6.0, \"Viernes\")\n",
    "    .when(F.col(\"dia_sem_ocu\") == 7.0, \"Sábado\")\n",
    "    .otherwise(\"Desconocido\")\n",
    ")\n",
    "\n",
    "# Contar accidentes por día de semana en 2023\n",
    "accidentes_2023_por_dia = hechos_transito.filter(F.col(\"año\") == 2020) \\\n",
    "    .groupBy(\"dia_semana_desc\") \\\n",
    "    .count() \\\n",
    "    .orderBy(\"count\", ascending=False)\n",
    "\n",
    "print(\"Accidentes por día de la semana en 2023:\")\n",
    "accidentes_2023_por_dia.show()\n",
    "\n",
    "print(\"GRÁFICA DE COLUMNAS - Accidentes por día de la semana en 2023\")\n",
    "display(accidentes_2023_por_dia)\n"
   ]
  },
  {
   "cell_type": "markdown",
   "metadata": {
    "application/vnd.databricks.v1+cell": {
     "cellMetadata": {},
     "inputWidgets": {},
     "nuid": "585e8d04-b063-4836-a5b4-07f173a732a7",
     "showTitle": false,
     "tableResultSettingsMap": {},
     "title": ""
    }
   },
   "source": [
    "En general se puede ver que los días viernes son los más peligrosos con respecto a la cantidad accidentes en el año 2023."
   ]
  },
  {
   "cell_type": "markdown",
   "metadata": {
    "application/vnd.databricks.v1+cell": {
     "cellMetadata": {},
     "inputWidgets": {},
     "nuid": "4f8f4e9b-7a83-406d-86ab-900cbae4605c",
     "showTitle": false,
     "tableResultSettingsMap": {},
     "title": ""
    }
   },
   "source": [
    "# Distribución de accidentes por hora en el día, en el municipio Guatemala"
   ]
  },
  {
   "cell_type": "code",
   "execution_count": 0,
   "metadata": {
    "application/vnd.databricks.v1+cell": {
     "cellMetadata": {
      "byteLimit": 2048000,
      "rowLimit": 10000
     },
     "inputWidgets": {},
     "nuid": "f6dda4ff-48b2-45a3-9afb-6ba96bccd533",
     "showTitle": false,
     "tableResultSettingsMap": {},
     "title": ""
    }
   },
   "outputs": [
    {
     "output_type": "stream",
     "name": "stdout",
     "output_type": "stream",
     "text": [
      "Número de accidentes en municipio de Guatemala:\nDistribución de accidentes por hora en municipio de Guatemala:\n"
     ]
    },
    {
     "output_type": "display_data",
     "data": {
      "text/html": [
       "<style scoped>\n",
       "  .table-result-container {\n",
       "    max-height: 300px;\n",
       "    overflow: auto;\n",
       "  }\n",
       "  table, th, td {\n",
       "    border: 1px solid black;\n",
       "    border-collapse: collapse;\n",
       "  }\n",
       "  th, td {\n",
       "    padding: 5px;\n",
       "  }\n",
       "  th {\n",
       "    text-align: left;\n",
       "  }\n",
       "</style><div class='table-result-container'><table class='table-result'><thead style='background-color: white'><tr><th>hora</th><th>cantidad_accidentes</th></tr></thead><tbody><tr><td>0</td><td>737</td></tr><tr><td>1</td><td>734</td></tr><tr><td>2</td><td>575</td></tr><tr><td>3</td><td>472</td></tr><tr><td>4</td><td>370</td></tr><tr><td>5</td><td>417</td></tr><tr><td>6</td><td>452</td></tr><tr><td>7</td><td>559</td></tr><tr><td>8</td><td>512</td></tr><tr><td>9</td><td>587</td></tr><tr><td>10</td><td>659</td></tr><tr><td>11</td><td>571</td></tr><tr><td>12</td><td>602</td></tr><tr><td>13</td><td>529</td></tr><tr><td>14</td><td>614</td></tr><tr><td>15</td><td>718</td></tr><tr><td>16</td><td>626</td></tr><tr><td>17</td><td>820</td></tr><tr><td>18</td><td>853</td></tr><tr><td>19</td><td>967</td></tr><tr><td>20</td><td>989</td></tr><tr><td>21</td><td>1054</td></tr><tr><td>22</td><td>979</td></tr><tr><td>23</td><td>996</td></tr></tbody></table></div>"
      ]
     },
     "metadata": {
      "application/vnd.databricks.v1+output": {
       "addedWidgets": {},
       "aggData": [],
       "aggError": "",
       "aggOverflow": false,
       "aggSchema": [],
       "aggSeriesLimitReached": false,
       "aggType": "",
       "arguments": {},
       "columnCustomDisplayInfos": {},
       "data": [
        [
         0,
         737
        ],
        [
         1,
         734
        ],
        [
         2,
         575
        ],
        [
         3,
         472
        ],
        [
         4,
         370
        ],
        [
         5,
         417
        ],
        [
         6,
         452
        ],
        [
         7,
         559
        ],
        [
         8,
         512
        ],
        [
         9,
         587
        ],
        [
         10,
         659
        ],
        [
         11,
         571
        ],
        [
         12,
         602
        ],
        [
         13,
         529
        ],
        [
         14,
         614
        ],
        [
         15,
         718
        ],
        [
         16,
         626
        ],
        [
         17,
         820
        ],
        [
         18,
         853
        ],
        [
         19,
         967
        ],
        [
         20,
         989
        ],
        [
         21,
         1054
        ],
        [
         22,
         979
        ],
        [
         23,
         996
        ]
       ],
       "datasetInfos": [],
       "dbfsResultPath": null,
       "isJsonSchema": true,
       "metadata": {},
       "overflow": false,
       "plotOptions": {
        "customPlotOptions": {},
        "displayType": "table",
        "pivotAggregation": null,
        "pivotColumns": null,
        "xColumns": null,
        "yColumns": null
       },
       "removedWidgets": [],
       "schema": [
        {
         "metadata": "{}",
         "name": "hora",
         "type": "\"long\""
        },
        {
         "metadata": "{}",
         "name": "cantidad_accidentes",
         "type": "\"long\""
        }
       ],
       "type": "table"
      }
     },
     "output_type": "display_data"
    },
    {
     "output_type": "display_data",
     "data": {
      "text/plain": [
       "Databricks visualization. Run in Databricks to view."
      ]
     },
     "metadata": {
      "application/vnd.databricks.v1.subcommand+json": {
       "baseErrorDetails": null,
       "bindings": {},
       "collapsed": false,
       "command": "%python\n__backend_agg_display_orig = display\n__backend_agg_dfs = []\ndef __backend_agg_display_new(df):\n    __backend_agg_df_modules = [\"pandas.core.frame\", \"databricks.koalas.frame\", \"pyspark.sql.dataframe\", \"pyspark.pandas.frame\", \"pyspark.sql.connect.dataframe\"]\n    if (type(df).__module__ in __backend_agg_df_modules and type(df).__name__ == 'DataFrame') or isinstance(df, list):\n        __backend_agg_dfs.append(df)\n\ndisplay = __backend_agg_display_new\n\ndef __backend_agg_user_code_fn():\n    import base64\n    exec(base64.standard_b64decode(\"ZnJvbSBweXNwYXJrLnNxbCBpbXBvcnQgZnVuY3Rpb25zIGFzIEYKCiMgc29sbyBndWF0ZQphY2NpZGVudGVzX2d1YXRlbWFsYSA9IGhlY2hvc190cmFuc2l0by5maWx0ZXIoRi5jb2woIm11cGlvX29jdSIpID09IDEwMS4wKQoKcHJpbnQoIk7Dum1lcm8gZGUgYWNjaWRlbnRlcyBlbiBtdW5pY2lwaW8gZGUgR3VhdGVtYWxhOiIpCmFjY2lkZW50ZXNfZ3VhdGVtYWxhLmNvdW50KCkKCiMgQ3JlYXIgbGEgY29sdW1uYSBkZSBob3JhCmRpc3RyaWJ1Y2lvbl9ob3JhcyA9IGFjY2lkZW50ZXNfZ3VhdGVtYWxhLndpdGhDb2x1bW4oCiAgICAiaG9yYSIsIEYuZmxvb3IoRi5jb2woImhvcmFfb2N1IikpCikuZmlsdGVyKAogICAgRi5jb2woImhvcmEiKS5iZXR3ZWVuKDAsIDIzKSAgIyBGaWx0cmFyIGhvcmFzIHbDoWxpZGFzCikuZ3JvdXBCeSgKICAgICJob3JhIgopLmFnZygKICAgIEYuY291bnQoIioiKS5hbGlhcygiY2FudGlkYWRfYWNjaWRlbnRlcyIpCikub3JkZXJCeSgKICAgICJob3JhIgopCgojIE1vc3RyYXIgbG9zIHJlc3VsdGFkb3MKcHJpbnQoIkRpc3RyaWJ1Y2nDs24gZGUgYWNjaWRlbnRlcyBwb3IgaG9yYSBlbiBtdW5pY2lwaW8gZGUgR3VhdGVtYWxhOiIpCgpkaXNwbGF5KGRpc3RyaWJ1Y2lvbl9ob3Jhcyk=\").decode())\n\ntry:\n    # run user code\n    __backend_agg_user_code_fn()\n\n    #reset display function\n    display = __backend_agg_display_orig\n\n    if len(__backend_agg_dfs) > 0:\n        # create a temp view\n        if type(__backend_agg_dfs[0]).__module__ == \"databricks.koalas.frame\":\n            # koalas dataframe\n            __backend_agg_dfs[0].to_spark().createOrReplaceTempView(\"DatabricksViewf837c60\")\n        elif type(__backend_agg_dfs[0]).__module__ == \"pandas.core.frame\" or isinstance(__backend_agg_dfs[0], list):\n            # pandas dataframe\n            spark.createDataFrame(__backend_agg_dfs[0]).createOrReplaceTempView(\"DatabricksViewf837c60\")\n        else:\n            __backend_agg_dfs[0].createOrReplaceTempView(\"DatabricksViewf837c60\")\n        #run backend agg\n        display(spark.sql(\"\"\"WITH q AS (select * from DatabricksViewf837c60) SELECT `hora`,SUM(`cantidad_accidentes`) `column_8335706e269` FROM q GROUP BY `hora`\"\"\"))\n    else:\n        displayHTML(\"dataframe no longer exists. If you're using dataframe.display(), use display(dataframe) instead.\")\n\n\nfinally:\n    spark.sql(\"drop view if exists DatabricksViewf837c60\")\n    display = __backend_agg_display_orig\n    del __backend_agg_display_new\n    del __backend_agg_display_orig\n    del __backend_agg_dfs\n    del __backend_agg_user_code_fn\n\n",
       "commandTitle": "Visualization 1",
       "commandType": "auto",
       "commandVersion": 0,
       "commentThread": [],
       "commentsVisible": false,
       "contentSha256Hex": null,
       "customPlotOptions": {
        "redashChart": [
         {
          "key": "type",
          "value": "CHART"
         },
         {
          "key": "options",
          "value": {
           "alignYAxesAtZero": true,
           "coefficient": 1,
           "columnConfigurationMap": {
            "x": {
             "column": "hora",
             "id": "column_8335706e268"
            },
            "y": [
             {
              "column": "cantidad_accidentes",
              "id": "column_8335706e269",
              "transform": "SUM"
             }
            ]
           },
           "dateTimeFormat": "DD/MM/YYYY HH:mm",
           "direction": {
            "type": "counterclockwise"
           },
           "error_y": {
            "type": "data",
            "visible": true
           },
           "globalSeriesType": "column",
           "isAggregationOn": true,
           "legend": {
            "traceorder": "normal"
           },
           "missingValuesAsZero": true,
           "numberFormat": "0,0.[00000]",
           "percentFormat": "0[.]00%",
           "series": {
            "error_y": {
             "type": "data",
             "visible": true
            },
            "stacking": null
           },
           "seriesOptions": {
            "column_8335706e269": {
             "name": "cantidad_accidentes",
             "type": "column",
             "yAxis": 0
            }
           },
           "showDataLabels": false,
           "sizemode": "diameter",
           "sortX": true,
           "sortY": true,
           "swappedAxes": false,
           "textFormat": "",
           "useAggregationsUi": true,
           "valuesOptions": {},
           "version": 2,
           "xAxis": {
            "labels": {
             "enabled": true
            },
            "type": "-"
           },
           "yAxis": [
            {
             "type": "-"
            },
            {
             "opposite": true,
             "type": "-"
            }
           ]
          }
         }
        ]
       },
       "datasetPreviewNameToCmdIdMap": {},
       "diffDeletes": [],
       "diffInserts": [],
       "displayType": "redashChart",
       "error": null,
       "errorDetails": null,
       "errorSummary": null,
       "errorTraceType": null,
       "finishTime": 0,
       "globalVars": {},
       "guid": "",
       "height": "auto",
       "hideCommandCode": false,
       "hideCommandResult": false,
       "iPythonMetadata": null,
       "inputWidgets": {},
       "isLockedInExamMode": false,
       "latestAssumeRoleInfo": null,
       "latestUser": "a user",
       "latestUserId": null,
       "listResultMetadata": null,
       "metadata": {},
       "nuid": "d4d76ced-a218-44f3-a9dd-9c0872b4891c",
       "origId": 0,
       "parentHierarchy": [],
       "pivotAggregation": null,
       "pivotColumns": null,
       "position": 13.0,
       "resultDbfsErrorMessage": null,
       "resultDbfsStatus": "INLINED_IN_TREE",
       "results": null,
       "showCommandTitle": false,
       "startTime": 0,
       "state": "input",
       "streamStates": {},
       "subcommandOptions": {
        "queryPlan": {
         "groups": [
          {
           "column": "hora",
           "type": "column"
          }
         ],
         "selects": [
          {
           "column": "hora",
           "type": "column"
          },
          {
           "alias": "column_8335706e269",
           "args": [
            {
             "column": "cantidad_accidentes",
             "type": "column"
            }
           ],
           "function": "SUM",
           "type": "function"
          }
         ]
        }
       },
       "submitTime": 0,
       "subtype": "tableResultSubCmd.visualization",
       "tableResultIndex": 0,
       "tableResultSettingsMap": {},
       "useConsistentColors": false,
       "version": "CommandV1",
       "width": "auto",
       "workflows": [],
       "xColumns": null,
       "yColumns": null
      }
     },
     "output_type": "display_data"
    }
   ],
   "source": [
    "from pyspark.sql import functions as F\n",
    "\n",
    "# solo guate\n",
    "accidentes_guatemala = hechos_transito.filter(F.col(\"mupio_ocu\") == 101.0)\n",
    "\n",
    "print(\"Número de accidentes en municipio de Guatemala:\")\n",
    "accidentes_guatemala.count()\n",
    "\n",
    "# Crear la columna de hora\n",
    "distribucion_horas = accidentes_guatemala.withColumn(\n",
    "    \"hora\", F.floor(F.col(\"hora_ocu\"))\n",
    ").filter(\n",
    "    F.col(\"hora\").between(0, 23)  # Filtrar horas válidas\n",
    ").groupBy(\n",
    "    \"hora\"\n",
    ").agg(\n",
    "    F.count(\"*\").alias(\"cantidad_accidentes\")\n",
    ").orderBy(\n",
    "    \"hora\"\n",
    ")\n",
    "\n",
    "# Mostrar los resultados\n",
    "print(\"Distribución de accidentes por hora en municipio de Guatemala:\")\n",
    "\n",
    "display(distribucion_horas)"
   ]
  },
  {
   "cell_type": "markdown",
   "metadata": {
    "application/vnd.databricks.v1+cell": {
     "cellMetadata": {},
     "inputWidgets": {},
     "nuid": "14f974f8-c8c1-4ea4-9d3a-32171a8e4f9f",
     "showTitle": false,
     "tableResultSettingsMap": {},
     "title": ""
    }
   },
   "source": [
    "Como se puede ver en la gráfica, es más peligroso en la noche. Parece que ha medida que avanza el día, aumenta la cantidad de accidentes."
   ]
  },
  {
   "cell_type": "code",
   "execution_count": 0,
   "metadata": {
    "application/vnd.databricks.v1+cell": {
     "cellMetadata": {},
     "inputWidgets": {},
     "nuid": "21cd20a8-457b-41f8-9efa-935c3b3db6c4",
     "showTitle": false,
     "tableResultSettingsMap": {},
     "title": ""
    }
   },
   "outputs": [],
   "source": []
  }
 ],
 "metadata": {
  "application/vnd.databricks.v1+notebook": {
   "computePreferences": null,
   "dashboards": [],
   "environmentMetadata": {
    "base_environment": "",
    "environment_version": "3"
   },
   "inputWidgetPreferences": null,
   "language": "python",
   "notebookMetadata": {
    "pythonIndentUnit": 4
   },
   "notebookName": "lab8 spark",
   "widgets": {}
  },
  "language_info": {
   "name": "python"
  }
 },
 "nbformat": 4,
 "nbformat_minor": 0
}